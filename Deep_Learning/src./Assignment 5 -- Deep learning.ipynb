{
 "cells": [
  {
   "cell_type": "markdown",
   "metadata": {},
   "source": [
    "# Assignment 5 - Deep Learning\n",
    "\n",
    "$\\textbf{NAME : CHAITANYA DARADE}$"
   ]
  },
  {
   "cell_type": "markdown",
   "metadata": {},
   "source": [
    "# Overview\n",
    "\n",
    "Objective of this assignment is to understand Deep learning through implementing Neural network model using tensorflow or keras, on a classification dataset. The classification dataset used, is preprocessed, visualized and oberserved before giving it to the neural network model."
   ]
  },
  {
   "cell_type": "code",
   "execution_count": 54,
   "metadata": {},
   "outputs": [],
   "source": [
    "from keras.models import Sequential\n",
    "from keras.layers import Dense\n",
    "from keras.optimizers import SGD\n",
    "from keras.optimizers import Adagrad\n",
    "import tensorflow as tf\n",
    "import pandas as pd\n",
    "import seaborn as sns\n",
    "import matplotlib.pyplot as plt\n",
    "import numpy as np\n",
    "from sklearn import preprocessing\n",
    "from sklearn.model_selection import train_test_split\n",
    "from sklearn.metrics import roc_auc_score \n",
    "from mpl_toolkits.mplot3d import Axes3D \n",
    "from sklearn.metrics import roc_curve, auc\n",
    "from sklearn.metrics import precision_score, recall_score, accuracy_score, f1_score, confusion_matrix, roc_curve, classification_report\n",
    "import warnings\n",
    "warnings.filterwarnings(\"ignore\")"
   ]
  },
  {
   "cell_type": "markdown",
   "metadata": {},
   "source": [
    "# II. Data"
   ]
  },
  {
   "cell_type": "markdown",
   "metadata": {},
   "source": [
    "# Data: Description\n",
    "\n",
    "Two datasets are included, related to red and white vinho verde wine samples, from the north of Portugal. The goal is to model wine quality based on physicochemical tests.\n",
    "\n",
    "The two datasets are related to red and white variants of the Portuguese \"Vinho Verde\" wine.\n",
    "\n",
    "* File information : \n",
    "\n",
    "winequality-red2.csv\n",
    "winequality-white2.csv\n",
    "\n",
    "(12994*14)\n",
    "\n",
    "* Attribute Information:\n",
    "\n",
    "For more information\n",
    "Input variables (based on physicochemical tests):\n",
    "\n",
    "1 : fixed acidity  \n",
    "    Reducing acids significantly might lead to wines tasting flat. Fixed acids include tartaric, malic, citric, and       succinic acids)\n",
    "    \n",
    "2 : volatile acidity\n",
    "    These acids are to be distilled out from the wine before completing the production process.\n",
    "    \n",
    "3 : citric acid\n",
    "    This is one of the fixed acids which gives a wine its freshness.\n",
    "    \n",
    "4 : residual sugar\n",
    "    This typically refers to the natural sugar from grapes which remains after the fermentation process stops, or is     stopped.\n",
    "    \n",
    "5 : chlorides\n",
    "    This is usually a major contributor to saltiness in wine.\n",
    "    \n",
    "6 : free sulfur dioxide\n",
    "    This is the part of the sulphur dioxide that when added to a wine is said to be free after the remaining part         binds\n",
    "    \n",
    "7 : total sulfur dioxide\n",
    "    This is the sum total of the bound and the free sulfur dioxide\n",
    "    This is mainly added to kill harmful bacteria and preserve quality and freshness. \n",
    "    \n",
    "8 : density\n",
    "    This can be represented as a comparison of the weight of a specific volume of wine to an equivalent volume of         water.It is generally used as a measure of the conversion of sugar to alcohol. \n",
    "    \n",
    "9 : pH\n",
    "    Also known as the potential of hydrogen, this is a numeric scale to specify the acidity or basicity the wine.\n",
    "    \n",
    "10: sulphates\n",
    "    These are mineral salts containing sulfur. Sulphates are to wine as gluten is to food. They are a regular part of     the winemaking around the world and are considered essential.\n",
    "    \n",
    "11: alcohol\n",
    "    Wine is an alcoholic beverage. Alcohol is formed as a result of yeast converting sugar during the fermentation       process. The percentage of alcohol can vary from wine to wine.\n",
    "    \n",
    "12: quality (score between 0 and 10)\n",
    "    Wine experts graded the wine quality between 0 (very bad) and 10 (very excellent). The eventual quality score is     the median of at least three evaluations made by the same wine experts.\n",
    "    \n",
    "Additional two features are added :\n",
    "    First is to determine type of wine and second is to determine wine quality.\n",
    "    \n",
    "13: wine_type\n",
    "    Type of wine(red or white)\n",
    "    \n",
    "14: wine_quality(Classification feature)\n",
    "    Quality of the wine(low or mediun or high)\n",
    "    \n",
    "Source : https://archive.ics.uci.edu/ml/datasets/Wine+Quality"
   ]
  },
  {
   "cell_type": "markdown",
   "metadata": {},
   "source": [
    "# Data - Plots for understanding and Preliminary observation"
   ]
  },
  {
   "cell_type": "markdown",
   "metadata": {},
   "source": [
    "## Reading the Data\n",
    "\n",
    "Both data files(winequality-red2.csv, winequality-white2.csv) are read with pandas dataframes and concatenated into\n",
    "single one.\n",
    "\n",
    "It's shape and info is being displayed after merging them in preprossessing section."
   ]
  },
  {
   "cell_type": "code",
   "execution_count": 55,
   "metadata": {},
   "outputs": [
    {
     "data": {
      "text/html": [
       "<div>\n",
       "<style scoped>\n",
       "    .dataframe tbody tr th:only-of-type {\n",
       "        vertical-align: middle;\n",
       "    }\n",
       "\n",
       "    .dataframe tbody tr th {\n",
       "        vertical-align: top;\n",
       "    }\n",
       "\n",
       "    .dataframe thead th {\n",
       "        text-align: right;\n",
       "    }\n",
       "</style>\n",
       "<table border=\"1\" class=\"dataframe\">\n",
       "  <thead>\n",
       "    <tr style=\"text-align: right;\">\n",
       "      <th></th>\n",
       "      <th>fixed acidity</th>\n",
       "      <th>volatile acidity</th>\n",
       "      <th>citric acid</th>\n",
       "      <th>residual sugar</th>\n",
       "      <th>chlorides</th>\n",
       "      <th>free sulfur dioxide</th>\n",
       "      <th>total sulfur dioxide</th>\n",
       "      <th>density</th>\n",
       "      <th>pH</th>\n",
       "      <th>sulphates</th>\n",
       "      <th>alcohol</th>\n",
       "      <th>quality</th>\n",
       "    </tr>\n",
       "  </thead>\n",
       "  <tbody>\n",
       "    <tr>\n",
       "      <th>0</th>\n",
       "      <td>7.4</td>\n",
       "      <td>0.70</td>\n",
       "      <td>0.00</td>\n",
       "      <td>1.9</td>\n",
       "      <td>0.076</td>\n",
       "      <td>11.0</td>\n",
       "      <td>34.0</td>\n",
       "      <td>0.9978</td>\n",
       "      <td>3.51</td>\n",
       "      <td>0.56</td>\n",
       "      <td>9.4</td>\n",
       "      <td>5</td>\n",
       "    </tr>\n",
       "    <tr>\n",
       "      <th>1</th>\n",
       "      <td>7.8</td>\n",
       "      <td>0.88</td>\n",
       "      <td>0.00</td>\n",
       "      <td>2.6</td>\n",
       "      <td>0.098</td>\n",
       "      <td>25.0</td>\n",
       "      <td>67.0</td>\n",
       "      <td>0.9968</td>\n",
       "      <td>3.20</td>\n",
       "      <td>0.68</td>\n",
       "      <td>9.8</td>\n",
       "      <td>5</td>\n",
       "    </tr>\n",
       "    <tr>\n",
       "      <th>2</th>\n",
       "      <td>7.8</td>\n",
       "      <td>0.76</td>\n",
       "      <td>0.04</td>\n",
       "      <td>2.3</td>\n",
       "      <td>0.092</td>\n",
       "      <td>15.0</td>\n",
       "      <td>54.0</td>\n",
       "      <td>0.9970</td>\n",
       "      <td>3.26</td>\n",
       "      <td>0.65</td>\n",
       "      <td>9.8</td>\n",
       "      <td>5</td>\n",
       "    </tr>\n",
       "    <tr>\n",
       "      <th>3</th>\n",
       "      <td>11.2</td>\n",
       "      <td>0.28</td>\n",
       "      <td>0.56</td>\n",
       "      <td>1.9</td>\n",
       "      <td>0.075</td>\n",
       "      <td>17.0</td>\n",
       "      <td>60.0</td>\n",
       "      <td>0.9980</td>\n",
       "      <td>3.16</td>\n",
       "      <td>0.58</td>\n",
       "      <td>9.8</td>\n",
       "      <td>6</td>\n",
       "    </tr>\n",
       "    <tr>\n",
       "      <th>4</th>\n",
       "      <td>7.4</td>\n",
       "      <td>0.70</td>\n",
       "      <td>0.00</td>\n",
       "      <td>1.9</td>\n",
       "      <td>0.076</td>\n",
       "      <td>11.0</td>\n",
       "      <td>34.0</td>\n",
       "      <td>0.9978</td>\n",
       "      <td>3.51</td>\n",
       "      <td>0.56</td>\n",
       "      <td>9.4</td>\n",
       "      <td>5</td>\n",
       "    </tr>\n",
       "  </tbody>\n",
       "</table>\n",
       "</div>"
      ],
      "text/plain": [
       "   fixed acidity  volatile acidity  citric acid  residual sugar  chlorides  \\\n",
       "0            7.4              0.70         0.00             1.9      0.076   \n",
       "1            7.8              0.88         0.00             2.6      0.098   \n",
       "2            7.8              0.76         0.04             2.3      0.092   \n",
       "3           11.2              0.28         0.56             1.9      0.075   \n",
       "4            7.4              0.70         0.00             1.9      0.076   \n",
       "\n",
       "   free sulfur dioxide  total sulfur dioxide  density    pH  sulphates  \\\n",
       "0                 11.0                  34.0   0.9978  3.51       0.56   \n",
       "1                 25.0                  67.0   0.9968  3.20       0.68   \n",
       "2                 15.0                  54.0   0.9970  3.26       0.65   \n",
       "3                 17.0                  60.0   0.9980  3.16       0.58   \n",
       "4                 11.0                  34.0   0.9978  3.51       0.56   \n",
       "\n",
       "   alcohol  quality  \n",
       "0      9.4        5  \n",
       "1      9.8        5  \n",
       "2      9.8        5  \n",
       "3      9.8        6  \n",
       "4      9.4        5  "
      ]
     },
     "execution_count": 55,
     "metadata": {},
     "output_type": "execute_result"
    }
   ],
   "source": [
    "red_wine_data = pd.read_csv('winequality-red2.csv',sep=',')\n",
    "red_wine_data.head()"
   ]
  },
  {
   "cell_type": "code",
   "execution_count": 56,
   "metadata": {},
   "outputs": [
    {
     "data": {
      "text/html": [
       "<div>\n",
       "<style scoped>\n",
       "    .dataframe tbody tr th:only-of-type {\n",
       "        vertical-align: middle;\n",
       "    }\n",
       "\n",
       "    .dataframe tbody tr th {\n",
       "        vertical-align: top;\n",
       "    }\n",
       "\n",
       "    .dataframe thead th {\n",
       "        text-align: right;\n",
       "    }\n",
       "</style>\n",
       "<table border=\"1\" class=\"dataframe\">\n",
       "  <thead>\n",
       "    <tr style=\"text-align: right;\">\n",
       "      <th></th>\n",
       "      <th>fixed acidity</th>\n",
       "      <th>volatile acidity</th>\n",
       "      <th>citric acid</th>\n",
       "      <th>residual sugar</th>\n",
       "      <th>chlorides</th>\n",
       "      <th>free sulfur dioxide</th>\n",
       "      <th>total sulfur dioxide</th>\n",
       "      <th>density</th>\n",
       "      <th>pH</th>\n",
       "      <th>sulphates</th>\n",
       "      <th>alcohol</th>\n",
       "      <th>quality</th>\n",
       "    </tr>\n",
       "  </thead>\n",
       "  <tbody>\n",
       "    <tr>\n",
       "      <th>0</th>\n",
       "      <td>7.0</td>\n",
       "      <td>0.27</td>\n",
       "      <td>0.36</td>\n",
       "      <td>20.7</td>\n",
       "      <td>0.045</td>\n",
       "      <td>45.0</td>\n",
       "      <td>170.0</td>\n",
       "      <td>1.0010</td>\n",
       "      <td>3.00</td>\n",
       "      <td>0.45</td>\n",
       "      <td>8.8</td>\n",
       "      <td>6</td>\n",
       "    </tr>\n",
       "    <tr>\n",
       "      <th>1</th>\n",
       "      <td>6.3</td>\n",
       "      <td>0.30</td>\n",
       "      <td>0.34</td>\n",
       "      <td>1.6</td>\n",
       "      <td>0.049</td>\n",
       "      <td>14.0</td>\n",
       "      <td>132.0</td>\n",
       "      <td>0.9940</td>\n",
       "      <td>3.30</td>\n",
       "      <td>0.49</td>\n",
       "      <td>9.5</td>\n",
       "      <td>6</td>\n",
       "    </tr>\n",
       "    <tr>\n",
       "      <th>2</th>\n",
       "      <td>8.1</td>\n",
       "      <td>0.28</td>\n",
       "      <td>0.40</td>\n",
       "      <td>6.9</td>\n",
       "      <td>0.050</td>\n",
       "      <td>30.0</td>\n",
       "      <td>97.0</td>\n",
       "      <td>0.9951</td>\n",
       "      <td>3.26</td>\n",
       "      <td>0.44</td>\n",
       "      <td>10.1</td>\n",
       "      <td>6</td>\n",
       "    </tr>\n",
       "    <tr>\n",
       "      <th>3</th>\n",
       "      <td>7.2</td>\n",
       "      <td>0.23</td>\n",
       "      <td>0.32</td>\n",
       "      <td>8.5</td>\n",
       "      <td>0.058</td>\n",
       "      <td>47.0</td>\n",
       "      <td>186.0</td>\n",
       "      <td>0.9956</td>\n",
       "      <td>3.19</td>\n",
       "      <td>0.40</td>\n",
       "      <td>9.9</td>\n",
       "      <td>6</td>\n",
       "    </tr>\n",
       "    <tr>\n",
       "      <th>4</th>\n",
       "      <td>7.2</td>\n",
       "      <td>0.23</td>\n",
       "      <td>0.32</td>\n",
       "      <td>8.5</td>\n",
       "      <td>0.058</td>\n",
       "      <td>47.0</td>\n",
       "      <td>186.0</td>\n",
       "      <td>0.9956</td>\n",
       "      <td>3.19</td>\n",
       "      <td>0.40</td>\n",
       "      <td>9.9</td>\n",
       "      <td>6</td>\n",
       "    </tr>\n",
       "  </tbody>\n",
       "</table>\n",
       "</div>"
      ],
      "text/plain": [
       "   fixed acidity  volatile acidity  citric acid  residual sugar  chlorides  \\\n",
       "0            7.0              0.27         0.36            20.7      0.045   \n",
       "1            6.3              0.30         0.34             1.6      0.049   \n",
       "2            8.1              0.28         0.40             6.9      0.050   \n",
       "3            7.2              0.23         0.32             8.5      0.058   \n",
       "4            7.2              0.23         0.32             8.5      0.058   \n",
       "\n",
       "   free sulfur dioxide  total sulfur dioxide  density    pH  sulphates  \\\n",
       "0                 45.0                 170.0   1.0010  3.00       0.45   \n",
       "1                 14.0                 132.0   0.9940  3.30       0.49   \n",
       "2                 30.0                  97.0   0.9951  3.26       0.44   \n",
       "3                 47.0                 186.0   0.9956  3.19       0.40   \n",
       "4                 47.0                 186.0   0.9956  3.19       0.40   \n",
       "\n",
       "   alcohol  quality  \n",
       "0      8.8        6  \n",
       "1      9.5        6  \n",
       "2     10.1        6  \n",
       "3      9.9        6  \n",
       "4      9.9        6  "
      ]
     },
     "execution_count": 56,
     "metadata": {},
     "output_type": "execute_result"
    }
   ],
   "source": [
    "white_wine_data = pd.read_csv('winequality-white2.csv',sep=',')\n",
    "white_wine_data.head()"
   ]
  },
  {
   "cell_type": "markdown",
   "metadata": {},
   "source": [
    "## Preprocessing of the Data\n",
    "\n",
    "In preprocessing activity, Additional two features are added : First is to determine type of wine and second is to determine wine quality.\n",
    "Then both datasets are concatenated into single dataframe\n",
    "\n",
    "Quality is being classified in two classes i.e 'low' and 'high'"
   ]
  },
  {
   "cell_type": "code",
   "execution_count": 57,
   "metadata": {},
   "outputs": [
    {
     "data": {
      "text/html": [
       "<div>\n",
       "<style scoped>\n",
       "    .dataframe tbody tr th:only-of-type {\n",
       "        vertical-align: middle;\n",
       "    }\n",
       "\n",
       "    .dataframe tbody tr th {\n",
       "        vertical-align: top;\n",
       "    }\n",
       "\n",
       "    .dataframe thead th {\n",
       "        text-align: right;\n",
       "    }\n",
       "</style>\n",
       "<table border=\"1\" class=\"dataframe\">\n",
       "  <thead>\n",
       "    <tr style=\"text-align: right;\">\n",
       "      <th></th>\n",
       "      <th>fixed acidity</th>\n",
       "      <th>volatile acidity</th>\n",
       "      <th>citric acid</th>\n",
       "      <th>residual sugar</th>\n",
       "      <th>chlorides</th>\n",
       "      <th>free sulfur dioxide</th>\n",
       "      <th>total sulfur dioxide</th>\n",
       "      <th>density</th>\n",
       "      <th>pH</th>\n",
       "      <th>sulphates</th>\n",
       "      <th>alcohol</th>\n",
       "      <th>quality</th>\n",
       "      <th>wine_type</th>\n",
       "      <th>wine_quality</th>\n",
       "    </tr>\n",
       "  </thead>\n",
       "  <tbody>\n",
       "    <tr>\n",
       "      <th>0</th>\n",
       "      <td>7.4</td>\n",
       "      <td>0.70</td>\n",
       "      <td>0.00</td>\n",
       "      <td>1.9</td>\n",
       "      <td>0.076</td>\n",
       "      <td>11.0</td>\n",
       "      <td>34.0</td>\n",
       "      <td>0.9978</td>\n",
       "      <td>3.51</td>\n",
       "      <td>0.56</td>\n",
       "      <td>9.4</td>\n",
       "      <td>5</td>\n",
       "      <td>red</td>\n",
       "      <td>low</td>\n",
       "    </tr>\n",
       "    <tr>\n",
       "      <th>1</th>\n",
       "      <td>7.8</td>\n",
       "      <td>0.88</td>\n",
       "      <td>0.00</td>\n",
       "      <td>2.6</td>\n",
       "      <td>0.098</td>\n",
       "      <td>25.0</td>\n",
       "      <td>67.0</td>\n",
       "      <td>0.9968</td>\n",
       "      <td>3.20</td>\n",
       "      <td>0.68</td>\n",
       "      <td>9.8</td>\n",
       "      <td>5</td>\n",
       "      <td>red</td>\n",
       "      <td>low</td>\n",
       "    </tr>\n",
       "    <tr>\n",
       "      <th>2</th>\n",
       "      <td>7.8</td>\n",
       "      <td>0.76</td>\n",
       "      <td>0.04</td>\n",
       "      <td>2.3</td>\n",
       "      <td>0.092</td>\n",
       "      <td>15.0</td>\n",
       "      <td>54.0</td>\n",
       "      <td>0.9970</td>\n",
       "      <td>3.26</td>\n",
       "      <td>0.65</td>\n",
       "      <td>9.8</td>\n",
       "      <td>5</td>\n",
       "      <td>red</td>\n",
       "      <td>low</td>\n",
       "    </tr>\n",
       "    <tr>\n",
       "      <th>3</th>\n",
       "      <td>11.2</td>\n",
       "      <td>0.28</td>\n",
       "      <td>0.56</td>\n",
       "      <td>1.9</td>\n",
       "      <td>0.075</td>\n",
       "      <td>17.0</td>\n",
       "      <td>60.0</td>\n",
       "      <td>0.9980</td>\n",
       "      <td>3.16</td>\n",
       "      <td>0.58</td>\n",
       "      <td>9.8</td>\n",
       "      <td>6</td>\n",
       "      <td>red</td>\n",
       "      <td>high</td>\n",
       "    </tr>\n",
       "    <tr>\n",
       "      <th>4</th>\n",
       "      <td>7.4</td>\n",
       "      <td>0.70</td>\n",
       "      <td>0.00</td>\n",
       "      <td>1.9</td>\n",
       "      <td>0.076</td>\n",
       "      <td>11.0</td>\n",
       "      <td>34.0</td>\n",
       "      <td>0.9978</td>\n",
       "      <td>3.51</td>\n",
       "      <td>0.56</td>\n",
       "      <td>9.4</td>\n",
       "      <td>5</td>\n",
       "      <td>red</td>\n",
       "      <td>low</td>\n",
       "    </tr>\n",
       "  </tbody>\n",
       "</table>\n",
       "</div>"
      ],
      "text/plain": [
       "   fixed acidity  volatile acidity  citric acid  residual sugar  chlorides  \\\n",
       "0            7.4              0.70         0.00             1.9      0.076   \n",
       "1            7.8              0.88         0.00             2.6      0.098   \n",
       "2            7.8              0.76         0.04             2.3      0.092   \n",
       "3           11.2              0.28         0.56             1.9      0.075   \n",
       "4            7.4              0.70         0.00             1.9      0.076   \n",
       "\n",
       "   free sulfur dioxide  total sulfur dioxide  density    pH  sulphates  \\\n",
       "0                 11.0                  34.0   0.9978  3.51       0.56   \n",
       "1                 25.0                  67.0   0.9968  3.20       0.68   \n",
       "2                 15.0                  54.0   0.9970  3.26       0.65   \n",
       "3                 17.0                  60.0   0.9980  3.16       0.58   \n",
       "4                 11.0                  34.0   0.9978  3.51       0.56   \n",
       "\n",
       "   alcohol  quality wine_type wine_quality  \n",
       "0      9.4        5       red          low  \n",
       "1      9.8        5       red          low  \n",
       "2      9.8        5       red          low  \n",
       "3      9.8        6       red         high  \n",
       "4      9.4        5       red          low  "
      ]
     },
     "execution_count": 57,
     "metadata": {},
     "output_type": "execute_result"
    }
   ],
   "source": [
    "red_wine_data['wine_type'] = 'red'\n",
    "red_wine_data['wine_quality'] = red_wine_data['quality'].apply(lambda value: 'low' \n",
    "                                                          if value <= 5 else 'high')\n",
    "red_wine_data['wine_quality'] = pd.Categorical(red_wine_data['wine_quality'], \n",
    "                                           categories=['low','high'])\n",
    "red_wine_data.head()"
   ]
  },
  {
   "cell_type": "code",
   "execution_count": 58,
   "metadata": {},
   "outputs": [
    {
     "data": {
      "text/html": [
       "<div>\n",
       "<style scoped>\n",
       "    .dataframe tbody tr th:only-of-type {\n",
       "        vertical-align: middle;\n",
       "    }\n",
       "\n",
       "    .dataframe tbody tr th {\n",
       "        vertical-align: top;\n",
       "    }\n",
       "\n",
       "    .dataframe thead th {\n",
       "        text-align: right;\n",
       "    }\n",
       "</style>\n",
       "<table border=\"1\" class=\"dataframe\">\n",
       "  <thead>\n",
       "    <tr style=\"text-align: right;\">\n",
       "      <th></th>\n",
       "      <th>fixed acidity</th>\n",
       "      <th>volatile acidity</th>\n",
       "      <th>citric acid</th>\n",
       "      <th>residual sugar</th>\n",
       "      <th>chlorides</th>\n",
       "      <th>free sulfur dioxide</th>\n",
       "      <th>total sulfur dioxide</th>\n",
       "      <th>density</th>\n",
       "      <th>pH</th>\n",
       "      <th>sulphates</th>\n",
       "      <th>alcohol</th>\n",
       "      <th>quality</th>\n",
       "      <th>wine_type</th>\n",
       "      <th>wine_quality</th>\n",
       "    </tr>\n",
       "  </thead>\n",
       "  <tbody>\n",
       "    <tr>\n",
       "      <th>0</th>\n",
       "      <td>7.0</td>\n",
       "      <td>0.27</td>\n",
       "      <td>0.36</td>\n",
       "      <td>20.7</td>\n",
       "      <td>0.045</td>\n",
       "      <td>45.0</td>\n",
       "      <td>170.0</td>\n",
       "      <td>1.0010</td>\n",
       "      <td>3.00</td>\n",
       "      <td>0.45</td>\n",
       "      <td>8.8</td>\n",
       "      <td>6</td>\n",
       "      <td>white</td>\n",
       "      <td>high</td>\n",
       "    </tr>\n",
       "    <tr>\n",
       "      <th>1</th>\n",
       "      <td>6.3</td>\n",
       "      <td>0.30</td>\n",
       "      <td>0.34</td>\n",
       "      <td>1.6</td>\n",
       "      <td>0.049</td>\n",
       "      <td>14.0</td>\n",
       "      <td>132.0</td>\n",
       "      <td>0.9940</td>\n",
       "      <td>3.30</td>\n",
       "      <td>0.49</td>\n",
       "      <td>9.5</td>\n",
       "      <td>6</td>\n",
       "      <td>white</td>\n",
       "      <td>high</td>\n",
       "    </tr>\n",
       "    <tr>\n",
       "      <th>2</th>\n",
       "      <td>8.1</td>\n",
       "      <td>0.28</td>\n",
       "      <td>0.40</td>\n",
       "      <td>6.9</td>\n",
       "      <td>0.050</td>\n",
       "      <td>30.0</td>\n",
       "      <td>97.0</td>\n",
       "      <td>0.9951</td>\n",
       "      <td>3.26</td>\n",
       "      <td>0.44</td>\n",
       "      <td>10.1</td>\n",
       "      <td>6</td>\n",
       "      <td>white</td>\n",
       "      <td>high</td>\n",
       "    </tr>\n",
       "    <tr>\n",
       "      <th>3</th>\n",
       "      <td>7.2</td>\n",
       "      <td>0.23</td>\n",
       "      <td>0.32</td>\n",
       "      <td>8.5</td>\n",
       "      <td>0.058</td>\n",
       "      <td>47.0</td>\n",
       "      <td>186.0</td>\n",
       "      <td>0.9956</td>\n",
       "      <td>3.19</td>\n",
       "      <td>0.40</td>\n",
       "      <td>9.9</td>\n",
       "      <td>6</td>\n",
       "      <td>white</td>\n",
       "      <td>high</td>\n",
       "    </tr>\n",
       "    <tr>\n",
       "      <th>4</th>\n",
       "      <td>7.2</td>\n",
       "      <td>0.23</td>\n",
       "      <td>0.32</td>\n",
       "      <td>8.5</td>\n",
       "      <td>0.058</td>\n",
       "      <td>47.0</td>\n",
       "      <td>186.0</td>\n",
       "      <td>0.9956</td>\n",
       "      <td>3.19</td>\n",
       "      <td>0.40</td>\n",
       "      <td>9.9</td>\n",
       "      <td>6</td>\n",
       "      <td>white</td>\n",
       "      <td>high</td>\n",
       "    </tr>\n",
       "  </tbody>\n",
       "</table>\n",
       "</div>"
      ],
      "text/plain": [
       "   fixed acidity  volatile acidity  citric acid  residual sugar  chlorides  \\\n",
       "0            7.0              0.27         0.36            20.7      0.045   \n",
       "1            6.3              0.30         0.34             1.6      0.049   \n",
       "2            8.1              0.28         0.40             6.9      0.050   \n",
       "3            7.2              0.23         0.32             8.5      0.058   \n",
       "4            7.2              0.23         0.32             8.5      0.058   \n",
       "\n",
       "   free sulfur dioxide  total sulfur dioxide  density    pH  sulphates  \\\n",
       "0                 45.0                 170.0   1.0010  3.00       0.45   \n",
       "1                 14.0                 132.0   0.9940  3.30       0.49   \n",
       "2                 30.0                  97.0   0.9951  3.26       0.44   \n",
       "3                 47.0                 186.0   0.9956  3.19       0.40   \n",
       "4                 47.0                 186.0   0.9956  3.19       0.40   \n",
       "\n",
       "   alcohol  quality wine_type wine_quality  \n",
       "0      8.8        6     white         high  \n",
       "1      9.5        6     white         high  \n",
       "2     10.1        6     white         high  \n",
       "3      9.9        6     white         high  \n",
       "4      9.9        6     white         high  "
      ]
     },
     "execution_count": 58,
     "metadata": {},
     "output_type": "execute_result"
    }
   ],
   "source": [
    "white_wine_data['wine_type'] = 'white'\n",
    "white_wine_data['wine_quality'] = white_wine_data['quality'].apply(lambda value: 'low' \n",
    "                                                              if value <= 5 else 'high' )\n",
    "\n",
    "white_wine_data['wine_quality'] = pd.Categorical(white_wine_data['wine_quality'], \n",
    "                                             categories=['low', 'high'])\n",
    "white_wine_data.head()"
   ]
  },
  {
   "cell_type": "code",
   "execution_count": 59,
   "metadata": {},
   "outputs": [
    {
     "data": {
      "text/html": [
       "<div>\n",
       "<style scoped>\n",
       "    .dataframe tbody tr th:only-of-type {\n",
       "        vertical-align: middle;\n",
       "    }\n",
       "\n",
       "    .dataframe tbody tr th {\n",
       "        vertical-align: top;\n",
       "    }\n",
       "\n",
       "    .dataframe thead th {\n",
       "        text-align: right;\n",
       "    }\n",
       "</style>\n",
       "<table border=\"1\" class=\"dataframe\">\n",
       "  <thead>\n",
       "    <tr style=\"text-align: right;\">\n",
       "      <th></th>\n",
       "      <th>fixed acidity</th>\n",
       "      <th>volatile acidity</th>\n",
       "      <th>citric acid</th>\n",
       "      <th>residual sugar</th>\n",
       "      <th>chlorides</th>\n",
       "      <th>free sulfur dioxide</th>\n",
       "      <th>total sulfur dioxide</th>\n",
       "      <th>density</th>\n",
       "      <th>pH</th>\n",
       "      <th>sulphates</th>\n",
       "      <th>alcohol</th>\n",
       "      <th>quality</th>\n",
       "      <th>wine_type</th>\n",
       "      <th>wine_quality</th>\n",
       "    </tr>\n",
       "  </thead>\n",
       "  <tbody>\n",
       "    <tr>\n",
       "      <th>0</th>\n",
       "      <td>8.1</td>\n",
       "      <td>0.66</td>\n",
       "      <td>0.22</td>\n",
       "      <td>2.2</td>\n",
       "      <td>0.069</td>\n",
       "      <td>9.0</td>\n",
       "      <td>23.0</td>\n",
       "      <td>0.99680</td>\n",
       "      <td>3.30</td>\n",
       "      <td>1.20</td>\n",
       "      <td>10.3</td>\n",
       "      <td>5</td>\n",
       "      <td>red</td>\n",
       "      <td>low</td>\n",
       "    </tr>\n",
       "    <tr>\n",
       "      <th>1</th>\n",
       "      <td>9.2</td>\n",
       "      <td>0.22</td>\n",
       "      <td>0.40</td>\n",
       "      <td>2.4</td>\n",
       "      <td>0.054</td>\n",
       "      <td>18.0</td>\n",
       "      <td>151.0</td>\n",
       "      <td>0.99520</td>\n",
       "      <td>3.04</td>\n",
       "      <td>0.46</td>\n",
       "      <td>9.3</td>\n",
       "      <td>4</td>\n",
       "      <td>white</td>\n",
       "      <td>low</td>\n",
       "    </tr>\n",
       "    <tr>\n",
       "      <th>2</th>\n",
       "      <td>8.9</td>\n",
       "      <td>0.30</td>\n",
       "      <td>0.35</td>\n",
       "      <td>4.6</td>\n",
       "      <td>0.032</td>\n",
       "      <td>32.0</td>\n",
       "      <td>148.0</td>\n",
       "      <td>0.99458</td>\n",
       "      <td>3.15</td>\n",
       "      <td>0.45</td>\n",
       "      <td>11.5</td>\n",
       "      <td>7</td>\n",
       "      <td>white</td>\n",
       "      <td>high</td>\n",
       "    </tr>\n",
       "    <tr>\n",
       "      <th>3</th>\n",
       "      <td>5.6</td>\n",
       "      <td>0.21</td>\n",
       "      <td>0.24</td>\n",
       "      <td>4.4</td>\n",
       "      <td>0.027</td>\n",
       "      <td>37.0</td>\n",
       "      <td>150.0</td>\n",
       "      <td>0.99100</td>\n",
       "      <td>3.30</td>\n",
       "      <td>0.31</td>\n",
       "      <td>11.5</td>\n",
       "      <td>7</td>\n",
       "      <td>white</td>\n",
       "      <td>high</td>\n",
       "    </tr>\n",
       "    <tr>\n",
       "      <th>4</th>\n",
       "      <td>6.5</td>\n",
       "      <td>0.14</td>\n",
       "      <td>0.33</td>\n",
       "      <td>7.6</td>\n",
       "      <td>0.050</td>\n",
       "      <td>53.0</td>\n",
       "      <td>189.0</td>\n",
       "      <td>0.99660</td>\n",
       "      <td>3.25</td>\n",
       "      <td>0.49</td>\n",
       "      <td>8.6</td>\n",
       "      <td>5</td>\n",
       "      <td>white</td>\n",
       "      <td>low</td>\n",
       "    </tr>\n",
       "  </tbody>\n",
       "</table>\n",
       "</div>"
      ],
      "text/plain": [
       "   fixed acidity  volatile acidity  citric acid  residual sugar  chlorides  \\\n",
       "0            8.1              0.66         0.22             2.2      0.069   \n",
       "1            9.2              0.22         0.40             2.4      0.054   \n",
       "2            8.9              0.30         0.35             4.6      0.032   \n",
       "3            5.6              0.21         0.24             4.4      0.027   \n",
       "4            6.5              0.14         0.33             7.6      0.050   \n",
       "\n",
       "   free sulfur dioxide  total sulfur dioxide  density    pH  sulphates  \\\n",
       "0                  9.0                  23.0  0.99680  3.30       1.20   \n",
       "1                 18.0                 151.0  0.99520  3.04       0.46   \n",
       "2                 32.0                 148.0  0.99458  3.15       0.45   \n",
       "3                 37.0                 150.0  0.99100  3.30       0.31   \n",
       "4                 53.0                 189.0  0.99660  3.25       0.49   \n",
       "\n",
       "   alcohol  quality wine_type wine_quality  \n",
       "0     10.3        5       red          low  \n",
       "1      9.3        4     white          low  \n",
       "2     11.5        7     white         high  \n",
       "3     11.5        7     white         high  \n",
       "4      8.6        5     white          low  "
      ]
     },
     "execution_count": 59,
     "metadata": {},
     "output_type": "execute_result"
    }
   ],
   "source": [
    "wine_data=pd.concat([red_wine_data,white_wine_data])\n",
    "wine_data = wine_data.sample(frac=1, random_state=95).reset_index(drop=True)\n",
    "wine_data.head()"
   ]
  },
  {
   "cell_type": "code",
   "execution_count": 60,
   "metadata": {},
   "outputs": [
    {
     "data": {
      "text/html": [
       "<div>\n",
       "<style scoped>\n",
       "    .dataframe tbody tr th:only-of-type {\n",
       "        vertical-align: middle;\n",
       "    }\n",
       "\n",
       "    .dataframe tbody tr th {\n",
       "        vertical-align: top;\n",
       "    }\n",
       "\n",
       "    .dataframe thead th {\n",
       "        text-align: right;\n",
       "    }\n",
       "</style>\n",
       "<table border=\"1\" class=\"dataframe\">\n",
       "  <thead>\n",
       "    <tr style=\"text-align: right;\">\n",
       "      <th></th>\n",
       "      <th>fixed acidity</th>\n",
       "      <th>volatile acidity</th>\n",
       "      <th>citric acid</th>\n",
       "      <th>residual sugar</th>\n",
       "      <th>chlorides</th>\n",
       "      <th>free sulfur dioxide</th>\n",
       "      <th>total sulfur dioxide</th>\n",
       "      <th>density</th>\n",
       "      <th>pH</th>\n",
       "      <th>sulphates</th>\n",
       "      <th>alcohol</th>\n",
       "      <th>quality</th>\n",
       "      <th>wine_type</th>\n",
       "      <th>wine_quality</th>\n",
       "    </tr>\n",
       "  </thead>\n",
       "  <tbody>\n",
       "    <tr>\n",
       "      <th>0</th>\n",
       "      <td>8.1</td>\n",
       "      <td>0.66</td>\n",
       "      <td>0.22</td>\n",
       "      <td>2.2</td>\n",
       "      <td>0.069</td>\n",
       "      <td>9.0</td>\n",
       "      <td>23.0</td>\n",
       "      <td>0.99680</td>\n",
       "      <td>3.30</td>\n",
       "      <td>1.20</td>\n",
       "      <td>10.3</td>\n",
       "      <td>5</td>\n",
       "      <td>0</td>\n",
       "      <td>1</td>\n",
       "    </tr>\n",
       "    <tr>\n",
       "      <th>1</th>\n",
       "      <td>9.2</td>\n",
       "      <td>0.22</td>\n",
       "      <td>0.40</td>\n",
       "      <td>2.4</td>\n",
       "      <td>0.054</td>\n",
       "      <td>18.0</td>\n",
       "      <td>151.0</td>\n",
       "      <td>0.99520</td>\n",
       "      <td>3.04</td>\n",
       "      <td>0.46</td>\n",
       "      <td>9.3</td>\n",
       "      <td>4</td>\n",
       "      <td>1</td>\n",
       "      <td>1</td>\n",
       "    </tr>\n",
       "    <tr>\n",
       "      <th>2</th>\n",
       "      <td>8.9</td>\n",
       "      <td>0.30</td>\n",
       "      <td>0.35</td>\n",
       "      <td>4.6</td>\n",
       "      <td>0.032</td>\n",
       "      <td>32.0</td>\n",
       "      <td>148.0</td>\n",
       "      <td>0.99458</td>\n",
       "      <td>3.15</td>\n",
       "      <td>0.45</td>\n",
       "      <td>11.5</td>\n",
       "      <td>7</td>\n",
       "      <td>1</td>\n",
       "      <td>0</td>\n",
       "    </tr>\n",
       "    <tr>\n",
       "      <th>3</th>\n",
       "      <td>5.6</td>\n",
       "      <td>0.21</td>\n",
       "      <td>0.24</td>\n",
       "      <td>4.4</td>\n",
       "      <td>0.027</td>\n",
       "      <td>37.0</td>\n",
       "      <td>150.0</td>\n",
       "      <td>0.99100</td>\n",
       "      <td>3.30</td>\n",
       "      <td>0.31</td>\n",
       "      <td>11.5</td>\n",
       "      <td>7</td>\n",
       "      <td>1</td>\n",
       "      <td>0</td>\n",
       "    </tr>\n",
       "    <tr>\n",
       "      <th>4</th>\n",
       "      <td>6.5</td>\n",
       "      <td>0.14</td>\n",
       "      <td>0.33</td>\n",
       "      <td>7.6</td>\n",
       "      <td>0.050</td>\n",
       "      <td>53.0</td>\n",
       "      <td>189.0</td>\n",
       "      <td>0.99660</td>\n",
       "      <td>3.25</td>\n",
       "      <td>0.49</td>\n",
       "      <td>8.6</td>\n",
       "      <td>5</td>\n",
       "      <td>1</td>\n",
       "      <td>1</td>\n",
       "    </tr>\n",
       "  </tbody>\n",
       "</table>\n",
       "</div>"
      ],
      "text/plain": [
       "   fixed acidity  volatile acidity  citric acid  residual sugar  chlorides  \\\n",
       "0            8.1              0.66         0.22             2.2      0.069   \n",
       "1            9.2              0.22         0.40             2.4      0.054   \n",
       "2            8.9              0.30         0.35             4.6      0.032   \n",
       "3            5.6              0.21         0.24             4.4      0.027   \n",
       "4            6.5              0.14         0.33             7.6      0.050   \n",
       "\n",
       "   free sulfur dioxide  total sulfur dioxide  density    pH  sulphates  \\\n",
       "0                  9.0                  23.0  0.99680  3.30       1.20   \n",
       "1                 18.0                 151.0  0.99520  3.04       0.46   \n",
       "2                 32.0                 148.0  0.99458  3.15       0.45   \n",
       "3                 37.0                 150.0  0.99100  3.30       0.31   \n",
       "4                 53.0                 189.0  0.99660  3.25       0.49   \n",
       "\n",
       "   alcohol  quality  wine_type  wine_quality  \n",
       "0     10.3        5          0             1  \n",
       "1      9.3        4          1             1  \n",
       "2     11.5        7          1             0  \n",
       "3     11.5        7          1             0  \n",
       "4      8.6        5          1             1  "
      ]
     },
     "execution_count": 60,
     "metadata": {},
     "output_type": "execute_result"
    }
   ],
   "source": [
    "le = preprocessing.LabelEncoder()\n",
    "wine_data['wine_quality'] = le.fit_transform(wine_data['wine_quality']) \n",
    "wine_data['wine_type'] = le.fit_transform(wine_data['wine_type']) \n",
    "wine_data.head()"
   ]
  },
  {
   "cell_type": "code",
   "execution_count": 61,
   "metadata": {},
   "outputs": [
    {
     "data": {
      "text/plain": [
       "(12994, 14)"
      ]
     },
     "execution_count": 61,
     "metadata": {},
     "output_type": "execute_result"
    }
   ],
   "source": [
    "wine_data.shape"
   ]
  },
  {
   "cell_type": "code",
   "execution_count": 62,
   "metadata": {},
   "outputs": [
    {
     "data": {
      "text/html": [
       "<div>\n",
       "<style scoped>\n",
       "    .dataframe tbody tr th:only-of-type {\n",
       "        vertical-align: middle;\n",
       "    }\n",
       "\n",
       "    .dataframe tbody tr th {\n",
       "        vertical-align: top;\n",
       "    }\n",
       "\n",
       "    .dataframe thead th {\n",
       "        text-align: right;\n",
       "    }\n",
       "</style>\n",
       "<table border=\"1\" class=\"dataframe\">\n",
       "  <thead>\n",
       "    <tr style=\"text-align: right;\">\n",
       "      <th></th>\n",
       "      <th>fixed acidity</th>\n",
       "      <th>volatile acidity</th>\n",
       "      <th>citric acid</th>\n",
       "      <th>residual sugar</th>\n",
       "      <th>chlorides</th>\n",
       "      <th>free sulfur dioxide</th>\n",
       "      <th>total sulfur dioxide</th>\n",
       "      <th>density</th>\n",
       "      <th>pH</th>\n",
       "      <th>sulphates</th>\n",
       "      <th>alcohol</th>\n",
       "      <th>quality</th>\n",
       "      <th>wine_type</th>\n",
       "      <th>wine_quality</th>\n",
       "    </tr>\n",
       "  </thead>\n",
       "  <tbody>\n",
       "    <tr>\n",
       "      <th>0</th>\n",
       "      <td>8.1</td>\n",
       "      <td>0.66</td>\n",
       "      <td>0.22</td>\n",
       "      <td>2.2</td>\n",
       "      <td>0.069</td>\n",
       "      <td>9.0</td>\n",
       "      <td>23.0</td>\n",
       "      <td>0.99680</td>\n",
       "      <td>3.30</td>\n",
       "      <td>1.20</td>\n",
       "      <td>10.3</td>\n",
       "      <td>5</td>\n",
       "      <td>0</td>\n",
       "      <td>1</td>\n",
       "    </tr>\n",
       "    <tr>\n",
       "      <th>1</th>\n",
       "      <td>9.2</td>\n",
       "      <td>0.22</td>\n",
       "      <td>0.40</td>\n",
       "      <td>2.4</td>\n",
       "      <td>0.054</td>\n",
       "      <td>18.0</td>\n",
       "      <td>151.0</td>\n",
       "      <td>0.99520</td>\n",
       "      <td>3.04</td>\n",
       "      <td>0.46</td>\n",
       "      <td>9.3</td>\n",
       "      <td>4</td>\n",
       "      <td>1</td>\n",
       "      <td>1</td>\n",
       "    </tr>\n",
       "    <tr>\n",
       "      <th>2</th>\n",
       "      <td>8.9</td>\n",
       "      <td>0.30</td>\n",
       "      <td>0.35</td>\n",
       "      <td>4.6</td>\n",
       "      <td>0.032</td>\n",
       "      <td>32.0</td>\n",
       "      <td>148.0</td>\n",
       "      <td>0.99458</td>\n",
       "      <td>3.15</td>\n",
       "      <td>0.45</td>\n",
       "      <td>11.5</td>\n",
       "      <td>7</td>\n",
       "      <td>1</td>\n",
       "      <td>0</td>\n",
       "    </tr>\n",
       "    <tr>\n",
       "      <th>3</th>\n",
       "      <td>5.6</td>\n",
       "      <td>0.21</td>\n",
       "      <td>0.24</td>\n",
       "      <td>4.4</td>\n",
       "      <td>0.027</td>\n",
       "      <td>37.0</td>\n",
       "      <td>150.0</td>\n",
       "      <td>0.99100</td>\n",
       "      <td>3.30</td>\n",
       "      <td>0.31</td>\n",
       "      <td>11.5</td>\n",
       "      <td>7</td>\n",
       "      <td>1</td>\n",
       "      <td>0</td>\n",
       "    </tr>\n",
       "    <tr>\n",
       "      <th>4</th>\n",
       "      <td>6.5</td>\n",
       "      <td>0.14</td>\n",
       "      <td>0.33</td>\n",
       "      <td>7.6</td>\n",
       "      <td>0.050</td>\n",
       "      <td>53.0</td>\n",
       "      <td>189.0</td>\n",
       "      <td>0.99660</td>\n",
       "      <td>3.25</td>\n",
       "      <td>0.49</td>\n",
       "      <td>8.6</td>\n",
       "      <td>5</td>\n",
       "      <td>1</td>\n",
       "      <td>1</td>\n",
       "    </tr>\n",
       "  </tbody>\n",
       "</table>\n",
       "</div>"
      ],
      "text/plain": [
       "   fixed acidity  volatile acidity  citric acid  residual sugar  chlorides  \\\n",
       "0            8.1              0.66         0.22             2.2      0.069   \n",
       "1            9.2              0.22         0.40             2.4      0.054   \n",
       "2            8.9              0.30         0.35             4.6      0.032   \n",
       "3            5.6              0.21         0.24             4.4      0.027   \n",
       "4            6.5              0.14         0.33             7.6      0.050   \n",
       "\n",
       "   free sulfur dioxide  total sulfur dioxide  density    pH  sulphates  \\\n",
       "0                  9.0                  23.0  0.99680  3.30       1.20   \n",
       "1                 18.0                 151.0  0.99520  3.04       0.46   \n",
       "2                 32.0                 148.0  0.99458  3.15       0.45   \n",
       "3                 37.0                 150.0  0.99100  3.30       0.31   \n",
       "4                 53.0                 189.0  0.99660  3.25       0.49   \n",
       "\n",
       "   alcohol  quality  wine_type  wine_quality  \n",
       "0     10.3        5          0             1  \n",
       "1      9.3        4          1             1  \n",
       "2     11.5        7          1             0  \n",
       "3     11.5        7          1             0  \n",
       "4      8.6        5          1             1  "
      ]
     },
     "execution_count": 62,
     "metadata": {},
     "output_type": "execute_result"
    }
   ],
   "source": [
    "wine_data.head()"
   ]
  },
  {
   "cell_type": "code",
   "execution_count": 63,
   "metadata": {},
   "outputs": [
    {
     "name": "stdout",
     "output_type": "stream",
     "text": [
      "<class 'pandas.core.frame.DataFrame'>\n",
      "RangeIndex: 12994 entries, 0 to 12993\n",
      "Data columns (total 14 columns):\n",
      "fixed acidity           12994 non-null float64\n",
      "volatile acidity        12994 non-null float64\n",
      "citric acid             12994 non-null float64\n",
      "residual sugar          12994 non-null float64\n",
      "chlorides               12994 non-null float64\n",
      "free sulfur dioxide     12994 non-null float64\n",
      "total sulfur dioxide    12994 non-null float64\n",
      "density                 12994 non-null float64\n",
      "pH                      12994 non-null float64\n",
      "sulphates               12994 non-null float64\n",
      "alcohol                 12994 non-null float64\n",
      "quality                 12994 non-null int64\n",
      "wine_type               12994 non-null int64\n",
      "wine_quality            12994 non-null int64\n",
      "dtypes: float64(11), int64(3)\n",
      "memory usage: 1.4 MB\n"
     ]
    }
   ],
   "source": [
    "wine_data.info()"
   ]
  },
  {
   "cell_type": "markdown",
   "metadata": {},
   "source": [
    "## Visualization of the Data and Preliminary obervations"
   ]
  },
  {
   "cell_type": "code",
   "execution_count": 64,
   "metadata": {},
   "outputs": [
    {
     "data": {
      "text/html": [
       "<div>\n",
       "<style scoped>\n",
       "    .dataframe tbody tr th:only-of-type {\n",
       "        vertical-align: middle;\n",
       "    }\n",
       "\n",
       "    .dataframe tbody tr th {\n",
       "        vertical-align: top;\n",
       "    }\n",
       "\n",
       "    .dataframe thead tr th {\n",
       "        text-align: left;\n",
       "    }\n",
       "</style>\n",
       "<table border=\"1\" class=\"dataframe\">\n",
       "  <thead>\n",
       "    <tr>\n",
       "      <th></th>\n",
       "      <th colspan=\"6\" halign=\"left\">Red Wine Stats</th>\n",
       "      <th colspan=\"6\" halign=\"left\">White Wine Stats</th>\n",
       "    </tr>\n",
       "    <tr>\n",
       "      <th></th>\n",
       "      <th>residual sugar</th>\n",
       "      <th>total sulfur dioxide</th>\n",
       "      <th>sulphates</th>\n",
       "      <th>alcohol</th>\n",
       "      <th>volatile acidity</th>\n",
       "      <th>quality</th>\n",
       "      <th>residual sugar</th>\n",
       "      <th>total sulfur dioxide</th>\n",
       "      <th>sulphates</th>\n",
       "      <th>alcohol</th>\n",
       "      <th>volatile acidity</th>\n",
       "      <th>quality</th>\n",
       "    </tr>\n",
       "  </thead>\n",
       "  <tbody>\n",
       "    <tr>\n",
       "      <th>count</th>\n",
       "      <td>3198.00</td>\n",
       "      <td>3198.00</td>\n",
       "      <td>3198.00</td>\n",
       "      <td>3198.00</td>\n",
       "      <td>3198.00</td>\n",
       "      <td>3198.00</td>\n",
       "      <td>9796.00</td>\n",
       "      <td>9796.00</td>\n",
       "      <td>9796.00</td>\n",
       "      <td>9796.00</td>\n",
       "      <td>9796.00</td>\n",
       "      <td>9796.00</td>\n",
       "    </tr>\n",
       "    <tr>\n",
       "      <th>mean</th>\n",
       "      <td>2.54</td>\n",
       "      <td>46.47</td>\n",
       "      <td>0.66</td>\n",
       "      <td>10.42</td>\n",
       "      <td>0.53</td>\n",
       "      <td>5.64</td>\n",
       "      <td>6.39</td>\n",
       "      <td>138.36</td>\n",
       "      <td>0.49</td>\n",
       "      <td>10.51</td>\n",
       "      <td>0.28</td>\n",
       "      <td>5.88</td>\n",
       "    </tr>\n",
       "    <tr>\n",
       "      <th>std</th>\n",
       "      <td>1.41</td>\n",
       "      <td>32.89</td>\n",
       "      <td>0.17</td>\n",
       "      <td>1.07</td>\n",
       "      <td>0.18</td>\n",
       "      <td>0.81</td>\n",
       "      <td>5.07</td>\n",
       "      <td>42.50</td>\n",
       "      <td>0.11</td>\n",
       "      <td>1.23</td>\n",
       "      <td>0.10</td>\n",
       "      <td>0.89</td>\n",
       "    </tr>\n",
       "    <tr>\n",
       "      <th>min</th>\n",
       "      <td>0.90</td>\n",
       "      <td>6.00</td>\n",
       "      <td>0.33</td>\n",
       "      <td>8.40</td>\n",
       "      <td>0.12</td>\n",
       "      <td>3.00</td>\n",
       "      <td>0.60</td>\n",
       "      <td>9.00</td>\n",
       "      <td>0.22</td>\n",
       "      <td>8.00</td>\n",
       "      <td>0.08</td>\n",
       "      <td>3.00</td>\n",
       "    </tr>\n",
       "    <tr>\n",
       "      <th>25%</th>\n",
       "      <td>1.90</td>\n",
       "      <td>22.00</td>\n",
       "      <td>0.55</td>\n",
       "      <td>9.50</td>\n",
       "      <td>0.39</td>\n",
       "      <td>5.00</td>\n",
       "      <td>1.70</td>\n",
       "      <td>108.00</td>\n",
       "      <td>0.41</td>\n",
       "      <td>9.50</td>\n",
       "      <td>0.21</td>\n",
       "      <td>5.00</td>\n",
       "    </tr>\n",
       "    <tr>\n",
       "      <th>50%</th>\n",
       "      <td>2.20</td>\n",
       "      <td>38.00</td>\n",
       "      <td>0.62</td>\n",
       "      <td>10.20</td>\n",
       "      <td>0.52</td>\n",
       "      <td>6.00</td>\n",
       "      <td>5.20</td>\n",
       "      <td>134.00</td>\n",
       "      <td>0.47</td>\n",
       "      <td>10.40</td>\n",
       "      <td>0.26</td>\n",
       "      <td>6.00</td>\n",
       "    </tr>\n",
       "    <tr>\n",
       "      <th>75%</th>\n",
       "      <td>2.60</td>\n",
       "      <td>62.00</td>\n",
       "      <td>0.73</td>\n",
       "      <td>11.10</td>\n",
       "      <td>0.64</td>\n",
       "      <td>6.00</td>\n",
       "      <td>9.90</td>\n",
       "      <td>167.00</td>\n",
       "      <td>0.55</td>\n",
       "      <td>11.40</td>\n",
       "      <td>0.32</td>\n",
       "      <td>6.00</td>\n",
       "    </tr>\n",
       "    <tr>\n",
       "      <th>max</th>\n",
       "      <td>15.50</td>\n",
       "      <td>289.00</td>\n",
       "      <td>2.00</td>\n",
       "      <td>14.90</td>\n",
       "      <td>1.58</td>\n",
       "      <td>8.00</td>\n",
       "      <td>65.80</td>\n",
       "      <td>440.00</td>\n",
       "      <td>1.08</td>\n",
       "      <td>14.20</td>\n",
       "      <td>1.10</td>\n",
       "      <td>9.00</td>\n",
       "    </tr>\n",
       "  </tbody>\n",
       "</table>\n",
       "</div>"
      ],
      "text/plain": [
       "      Red Wine Stats                                                           \\\n",
       "      residual sugar total sulfur dioxide sulphates  alcohol volatile acidity   \n",
       "count        3198.00              3198.00   3198.00  3198.00          3198.00   \n",
       "mean            2.54                46.47      0.66    10.42             0.53   \n",
       "std             1.41                32.89      0.17     1.07             0.18   \n",
       "min             0.90                 6.00      0.33     8.40             0.12   \n",
       "25%             1.90                22.00      0.55     9.50             0.39   \n",
       "50%             2.20                38.00      0.62    10.20             0.52   \n",
       "75%             2.60                62.00      0.73    11.10             0.64   \n",
       "max            15.50               289.00      2.00    14.90             1.58   \n",
       "\n",
       "               White Wine Stats                                          \\\n",
       "       quality   residual sugar total sulfur dioxide sulphates  alcohol   \n",
       "count  3198.00          9796.00              9796.00   9796.00  9796.00   \n",
       "mean      5.64             6.39               138.36      0.49    10.51   \n",
       "std       0.81             5.07                42.50      0.11     1.23   \n",
       "min       3.00             0.60                 9.00      0.22     8.00   \n",
       "25%       5.00             1.70               108.00      0.41     9.50   \n",
       "50%       6.00             5.20               134.00      0.47    10.40   \n",
       "75%       6.00             9.90               167.00      0.55    11.40   \n",
       "max       8.00            65.80               440.00      1.08    14.20   \n",
       "\n",
       "                                 \n",
       "      volatile acidity  quality  \n",
       "count          9796.00  9796.00  \n",
       "mean              0.28     5.88  \n",
       "std               0.10     0.89  \n",
       "min               0.08     3.00  \n",
       "25%               0.21     5.00  \n",
       "50%               0.26     6.00  \n",
       "75%               0.32     6.00  \n",
       "max               1.10     9.00  "
      ]
     },
     "execution_count": 64,
     "metadata": {},
     "output_type": "execute_result"
    }
   ],
   "source": [
    "data_cols = ['residual sugar', 'total sulfur dioxide', 'sulphates', 'alcohol', 'volatile acidity', 'quality']\n",
    "rs = round(red_wine_data[data_cols].describe(),2)\n",
    "ws = round(white_wine_data[data_cols].describe(),2)\n",
    "pd.concat([rs, ws], axis=1, keys=['Red Wine Stats', 'White Wine Stats'])"
   ]
  },
  {
   "cell_type": "code",
   "execution_count": 65,
   "metadata": {},
   "outputs": [
    {
     "data": {
      "text/html": [
       "<div>\n",
       "<style scoped>\n",
       "    .dataframe tbody tr th:only-of-type {\n",
       "        vertical-align: middle;\n",
       "    }\n",
       "\n",
       "    .dataframe tbody tr th {\n",
       "        vertical-align: top;\n",
       "    }\n",
       "\n",
       "    .dataframe thead th {\n",
       "        text-align: right;\n",
       "    }\n",
       "</style>\n",
       "<table border=\"1\" class=\"dataframe\">\n",
       "  <thead>\n",
       "    <tr style=\"text-align: right;\">\n",
       "      <th></th>\n",
       "      <th>fixed acidity</th>\n",
       "      <th>volatile acidity</th>\n",
       "      <th>citric acid</th>\n",
       "      <th>residual sugar</th>\n",
       "      <th>chlorides</th>\n",
       "      <th>free sulfur dioxide</th>\n",
       "      <th>total sulfur dioxide</th>\n",
       "      <th>density</th>\n",
       "      <th>pH</th>\n",
       "      <th>sulphates</th>\n",
       "      <th>alcohol</th>\n",
       "      <th>quality</th>\n",
       "      <th>wine_type</th>\n",
       "      <th>wine_quality</th>\n",
       "    </tr>\n",
       "  </thead>\n",
       "  <tbody>\n",
       "    <tr>\n",
       "      <th>fixed acidity</th>\n",
       "      <td>1.00</td>\n",
       "      <td>0.22</td>\n",
       "      <td>0.32</td>\n",
       "      <td>-0.11</td>\n",
       "      <td>0.30</td>\n",
       "      <td>-0.28</td>\n",
       "      <td>-0.33</td>\n",
       "      <td>0.46</td>\n",
       "      <td>-0.25</td>\n",
       "      <td>0.30</td>\n",
       "      <td>-0.10</td>\n",
       "      <td>-0.08</td>\n",
       "      <td>-0.49</td>\n",
       "      <td>0.07</td>\n",
       "    </tr>\n",
       "    <tr>\n",
       "      <th>volatile acidity</th>\n",
       "      <td>0.22</td>\n",
       "      <td>1.00</td>\n",
       "      <td>-0.38</td>\n",
       "      <td>-0.20</td>\n",
       "      <td>0.38</td>\n",
       "      <td>-0.35</td>\n",
       "      <td>-0.41</td>\n",
       "      <td>0.27</td>\n",
       "      <td>0.26</td>\n",
       "      <td>0.23</td>\n",
       "      <td>-0.04</td>\n",
       "      <td>-0.27</td>\n",
       "      <td>-0.65</td>\n",
       "      <td>0.27</td>\n",
       "    </tr>\n",
       "    <tr>\n",
       "      <th>citric acid</th>\n",
       "      <td>0.32</td>\n",
       "      <td>-0.38</td>\n",
       "      <td>1.00</td>\n",
       "      <td>0.14</td>\n",
       "      <td>0.04</td>\n",
       "      <td>0.13</td>\n",
       "      <td>0.20</td>\n",
       "      <td>0.10</td>\n",
       "      <td>-0.33</td>\n",
       "      <td>0.06</td>\n",
       "      <td>-0.01</td>\n",
       "      <td>0.09</td>\n",
       "      <td>0.19</td>\n",
       "      <td>-0.08</td>\n",
       "    </tr>\n",
       "    <tr>\n",
       "      <th>residual sugar</th>\n",
       "      <td>-0.11</td>\n",
       "      <td>-0.20</td>\n",
       "      <td>0.14</td>\n",
       "      <td>1.00</td>\n",
       "      <td>-0.13</td>\n",
       "      <td>0.40</td>\n",
       "      <td>0.50</td>\n",
       "      <td>0.55</td>\n",
       "      <td>-0.27</td>\n",
       "      <td>-0.19</td>\n",
       "      <td>-0.36</td>\n",
       "      <td>-0.04</td>\n",
       "      <td>0.35</td>\n",
       "      <td>0.03</td>\n",
       "    </tr>\n",
       "    <tr>\n",
       "      <th>chlorides</th>\n",
       "      <td>0.30</td>\n",
       "      <td>0.38</td>\n",
       "      <td>0.04</td>\n",
       "      <td>-0.13</td>\n",
       "      <td>1.00</td>\n",
       "      <td>-0.20</td>\n",
       "      <td>-0.28</td>\n",
       "      <td>0.36</td>\n",
       "      <td>0.04</td>\n",
       "      <td>0.40</td>\n",
       "      <td>-0.26</td>\n",
       "      <td>-0.20</td>\n",
       "      <td>-0.51</td>\n",
       "      <td>0.18</td>\n",
       "    </tr>\n",
       "    <tr>\n",
       "      <th>free sulfur dioxide</th>\n",
       "      <td>-0.28</td>\n",
       "      <td>-0.35</td>\n",
       "      <td>0.13</td>\n",
       "      <td>0.40</td>\n",
       "      <td>-0.20</td>\n",
       "      <td>1.00</td>\n",
       "      <td>0.72</td>\n",
       "      <td>0.03</td>\n",
       "      <td>-0.15</td>\n",
       "      <td>-0.19</td>\n",
       "      <td>-0.18</td>\n",
       "      <td>0.06</td>\n",
       "      <td>0.47</td>\n",
       "      <td>-0.04</td>\n",
       "    </tr>\n",
       "    <tr>\n",
       "      <th>total sulfur dioxide</th>\n",
       "      <td>-0.33</td>\n",
       "      <td>-0.41</td>\n",
       "      <td>0.20</td>\n",
       "      <td>0.50</td>\n",
       "      <td>-0.28</td>\n",
       "      <td>0.72</td>\n",
       "      <td>1.00</td>\n",
       "      <td>0.03</td>\n",
       "      <td>-0.24</td>\n",
       "      <td>-0.28</td>\n",
       "      <td>-0.27</td>\n",
       "      <td>-0.04</td>\n",
       "      <td>0.70</td>\n",
       "      <td>0.05</td>\n",
       "    </tr>\n",
       "    <tr>\n",
       "      <th>density</th>\n",
       "      <td>0.46</td>\n",
       "      <td>0.27</td>\n",
       "      <td>0.10</td>\n",
       "      <td>0.55</td>\n",
       "      <td>0.36</td>\n",
       "      <td>0.03</td>\n",
       "      <td>0.03</td>\n",
       "      <td>1.00</td>\n",
       "      <td>0.01</td>\n",
       "      <td>0.26</td>\n",
       "      <td>-0.69</td>\n",
       "      <td>-0.31</td>\n",
       "      <td>-0.39</td>\n",
       "      <td>0.27</td>\n",
       "    </tr>\n",
       "    <tr>\n",
       "      <th>pH</th>\n",
       "      <td>-0.25</td>\n",
       "      <td>0.26</td>\n",
       "      <td>-0.33</td>\n",
       "      <td>-0.27</td>\n",
       "      <td>0.04</td>\n",
       "      <td>-0.15</td>\n",
       "      <td>-0.24</td>\n",
       "      <td>0.01</td>\n",
       "      <td>1.00</td>\n",
       "      <td>0.19</td>\n",
       "      <td>0.12</td>\n",
       "      <td>0.02</td>\n",
       "      <td>-0.33</td>\n",
       "      <td>-0.02</td>\n",
       "    </tr>\n",
       "    <tr>\n",
       "      <th>sulphates</th>\n",
       "      <td>0.30</td>\n",
       "      <td>0.23</td>\n",
       "      <td>0.06</td>\n",
       "      <td>-0.19</td>\n",
       "      <td>0.40</td>\n",
       "      <td>-0.19</td>\n",
       "      <td>-0.28</td>\n",
       "      <td>0.26</td>\n",
       "      <td>0.19</td>\n",
       "      <td>1.00</td>\n",
       "      <td>-0.00</td>\n",
       "      <td>0.04</td>\n",
       "      <td>-0.49</td>\n",
       "      <td>-0.04</td>\n",
       "    </tr>\n",
       "    <tr>\n",
       "      <th>alcohol</th>\n",
       "      <td>-0.10</td>\n",
       "      <td>-0.04</td>\n",
       "      <td>-0.01</td>\n",
       "      <td>-0.36</td>\n",
       "      <td>-0.26</td>\n",
       "      <td>-0.18</td>\n",
       "      <td>-0.27</td>\n",
       "      <td>-0.69</td>\n",
       "      <td>0.12</td>\n",
       "      <td>-0.00</td>\n",
       "      <td>1.00</td>\n",
       "      <td>0.44</td>\n",
       "      <td>0.03</td>\n",
       "      <td>-0.39</td>\n",
       "    </tr>\n",
       "    <tr>\n",
       "      <th>quality</th>\n",
       "      <td>-0.08</td>\n",
       "      <td>-0.27</td>\n",
       "      <td>0.09</td>\n",
       "      <td>-0.04</td>\n",
       "      <td>-0.20</td>\n",
       "      <td>0.06</td>\n",
       "      <td>-0.04</td>\n",
       "      <td>-0.31</td>\n",
       "      <td>0.02</td>\n",
       "      <td>0.04</td>\n",
       "      <td>0.44</td>\n",
       "      <td>1.00</td>\n",
       "      <td>0.12</td>\n",
       "      <td>-0.81</td>\n",
       "    </tr>\n",
       "    <tr>\n",
       "      <th>wine_type</th>\n",
       "      <td>-0.49</td>\n",
       "      <td>-0.65</td>\n",
       "      <td>0.19</td>\n",
       "      <td>0.35</td>\n",
       "      <td>-0.51</td>\n",
       "      <td>0.47</td>\n",
       "      <td>0.70</td>\n",
       "      <td>-0.39</td>\n",
       "      <td>-0.33</td>\n",
       "      <td>-0.49</td>\n",
       "      <td>0.03</td>\n",
       "      <td>0.12</td>\n",
       "      <td>1.00</td>\n",
       "      <td>-0.12</td>\n",
       "    </tr>\n",
       "    <tr>\n",
       "      <th>wine_quality</th>\n",
       "      <td>0.07</td>\n",
       "      <td>0.27</td>\n",
       "      <td>-0.08</td>\n",
       "      <td>0.03</td>\n",
       "      <td>0.18</td>\n",
       "      <td>-0.04</td>\n",
       "      <td>0.05</td>\n",
       "      <td>0.27</td>\n",
       "      <td>-0.02</td>\n",
       "      <td>-0.04</td>\n",
       "      <td>-0.39</td>\n",
       "      <td>-0.81</td>\n",
       "      <td>-0.12</td>\n",
       "      <td>1.00</td>\n",
       "    </tr>\n",
       "  </tbody>\n",
       "</table>\n",
       "</div>"
      ],
      "text/plain": [
       "                      fixed acidity  volatile acidity  citric acid  \\\n",
       "fixed acidity                  1.00              0.22         0.32   \n",
       "volatile acidity               0.22              1.00        -0.38   \n",
       "citric acid                    0.32             -0.38         1.00   \n",
       "residual sugar                -0.11             -0.20         0.14   \n",
       "chlorides                      0.30              0.38         0.04   \n",
       "free sulfur dioxide           -0.28             -0.35         0.13   \n",
       "total sulfur dioxide          -0.33             -0.41         0.20   \n",
       "density                        0.46              0.27         0.10   \n",
       "pH                            -0.25              0.26        -0.33   \n",
       "sulphates                      0.30              0.23         0.06   \n",
       "alcohol                       -0.10             -0.04        -0.01   \n",
       "quality                       -0.08             -0.27         0.09   \n",
       "wine_type                     -0.49             -0.65         0.19   \n",
       "wine_quality                   0.07              0.27        -0.08   \n",
       "\n",
       "                      residual sugar  chlorides  free sulfur dioxide  \\\n",
       "fixed acidity                  -0.11       0.30                -0.28   \n",
       "volatile acidity               -0.20       0.38                -0.35   \n",
       "citric acid                     0.14       0.04                 0.13   \n",
       "residual sugar                  1.00      -0.13                 0.40   \n",
       "chlorides                      -0.13       1.00                -0.20   \n",
       "free sulfur dioxide             0.40      -0.20                 1.00   \n",
       "total sulfur dioxide            0.50      -0.28                 0.72   \n",
       "density                         0.55       0.36                 0.03   \n",
       "pH                             -0.27       0.04                -0.15   \n",
       "sulphates                      -0.19       0.40                -0.19   \n",
       "alcohol                        -0.36      -0.26                -0.18   \n",
       "quality                        -0.04      -0.20                 0.06   \n",
       "wine_type                       0.35      -0.51                 0.47   \n",
       "wine_quality                    0.03       0.18                -0.04   \n",
       "\n",
       "                      total sulfur dioxide  density    pH  sulphates  alcohol  \\\n",
       "fixed acidity                        -0.33     0.46 -0.25       0.30    -0.10   \n",
       "volatile acidity                     -0.41     0.27  0.26       0.23    -0.04   \n",
       "citric acid                           0.20     0.10 -0.33       0.06    -0.01   \n",
       "residual sugar                        0.50     0.55 -0.27      -0.19    -0.36   \n",
       "chlorides                            -0.28     0.36  0.04       0.40    -0.26   \n",
       "free sulfur dioxide                   0.72     0.03 -0.15      -0.19    -0.18   \n",
       "total sulfur dioxide                  1.00     0.03 -0.24      -0.28    -0.27   \n",
       "density                               0.03     1.00  0.01       0.26    -0.69   \n",
       "pH                                   -0.24     0.01  1.00       0.19     0.12   \n",
       "sulphates                            -0.28     0.26  0.19       1.00    -0.00   \n",
       "alcohol                              -0.27    -0.69  0.12      -0.00     1.00   \n",
       "quality                              -0.04    -0.31  0.02       0.04     0.44   \n",
       "wine_type                             0.70    -0.39 -0.33      -0.49     0.03   \n",
       "wine_quality                          0.05     0.27 -0.02      -0.04    -0.39   \n",
       "\n",
       "                      quality  wine_type  wine_quality  \n",
       "fixed acidity           -0.08      -0.49          0.07  \n",
       "volatile acidity        -0.27      -0.65          0.27  \n",
       "citric acid              0.09       0.19         -0.08  \n",
       "residual sugar          -0.04       0.35          0.03  \n",
       "chlorides               -0.20      -0.51          0.18  \n",
       "free sulfur dioxide      0.06       0.47         -0.04  \n",
       "total sulfur dioxide    -0.04       0.70          0.05  \n",
       "density                 -0.31      -0.39          0.27  \n",
       "pH                       0.02      -0.33         -0.02  \n",
       "sulphates                0.04      -0.49         -0.04  \n",
       "alcohol                  0.44       0.03         -0.39  \n",
       "quality                  1.00       0.12         -0.81  \n",
       "wine_type                0.12       1.00         -0.12  \n",
       "wine_quality            -0.81      -0.12          1.00  "
      ]
     },
     "execution_count": 65,
     "metadata": {},
     "output_type": "execute_result"
    }
   ],
   "source": [
    "wines_corr = wine_data.corr()\n",
    "round(wines_corr,2)"
   ]
  },
  {
   "cell_type": "code",
   "execution_count": 66,
   "metadata": {},
   "outputs": [
    {
     "data": {
      "image/png": "[encoded data removed]",
      "text/plain": [
       "<Figure size 432x288 with 1 Axes>"
      ]
     },
     "metadata": {
      "needs_background": "light"
     },
     "output_type": "display_data"
    }
   ],
   "source": [
    "ax = sns.countplot(x=red_wine_data.quality, data=red_wine_data)"
   ]
  },
  {
   "cell_type": "code",
   "execution_count": 67,
   "metadata": {},
   "outputs": [
    {
     "data": {
      "image/png": "[encoded data removed]",
      "text/plain": [
       "<Figure size 432x288 with 1 Axes>"
      ]
     },
     "metadata": {
      "needs_background": "light"
     },
     "output_type": "display_data"
    }
   ],
   "source": [
    "ax = sns.countplot(x=red_wine_data.quality, data=white_wine_data)"
   ]
  },
  {
   "cell_type": "markdown",
   "metadata": {},
   "source": [
    "### Obeservation:\n",
    "\n",
    "According to the data description, quality is a score between 0 to 10. But we can see that red and white wine doesn't have any values in the low and high extreme ends of the scale 0 to 10. In addition we can also see that the quality rating are kind of normally distributed with large ditribution in the center of the scale around 5 and 6 and flatenning out in the ends. The normal distibution of the quality is true because there is will be few top wines in the market and then followed by bunch of medium quality wines and then the lower ends.\n",
    "\n",
    "\n",
    "Is the quality of wine depends on the alcohol level in the wine? This is a interesting problem to anwser. So lets dive in."
   ]
  },
  {
   "cell_type": "code",
   "execution_count": 68,
   "metadata": {},
   "outputs": [
    {
     "data": {
      "image/png": "[encoded data removed]",
      "text/plain": [
       "<Figure size 432x288 with 1 Axes>"
      ]
     },
     "metadata": {
      "needs_background": "light"
     },
     "output_type": "display_data"
    }
   ],
   "source": [
    "plt.scatter(x = red_wine_data.quality, y = red_wine_data.alcohol, marker='o')\n",
    "plt.title(\"Red Wine's Quality vs Alcohol\")\n",
    "plt.xlabel(\"Quality Level of wine (0 to 10 scale)\")\n",
    "plt.ylabel(\"Alcohol Content\")\n",
    "plt.show()"
   ]
  },
  {
   "cell_type": "code",
   "execution_count": 69,
   "metadata": {},
   "outputs": [
    {
     "data": {
      "image/png": "[encoded data removed]",
      "text/plain": [
       "<Figure size 432x288 with 1 Axes>"
      ]
     },
     "metadata": {
      "needs_background": "light"
     },
     "output_type": "display_data"
    }
   ],
   "source": [
    "plt.scatter(x = white_wine_data.quality, y = white_wine_data.alcohol, marker='o')\n",
    "plt.title(\"White Wine's Quality vs Alcohol\")\n",
    "plt.xlabel(\"Quality Level of wine (0 to 10 scale)\")\n",
    "plt.ylabel(\"Alcohol Content\")\n",
    "plt.show()"
   ]
  },
  {
   "cell_type": "markdown",
   "metadata": {},
   "source": [
    "### Obeservation\n",
    "\n",
    "When we look at the red and white wine's alcohol content we can see some increasing trend from the lower quality rating to the high quality rating. This shows that quality is depend on the alcohol content in the wine. But how much does the quality depends on the Alcohol content. In order to answer that question, we will try to address the all the rlation between the the variables in our dataset using correlation and heatmaps."
   ]
  },
  {
   "cell_type": "code",
   "execution_count": 70,
   "metadata": {},
   "outputs": [],
   "source": [
    "def confusion_matrix_plot(data, title = \"Red Wine Correlation Matrix\", height = 9, width = 12):\n",
    "    # Get the confusion matrix\n",
    "    conf_mat = round(data.corr(method =\"spearman\"), 2)\n",
    "    # Create the heatmap\n",
    "    plt.figure(figsize = (width, height))\n",
    "    ax = sns.heatmap(conf_mat, annot=True, annot_kws={\"size\": 15}, cmap = sns.color_palette(\"PuOr_r\", 50), \n",
    "                     vmin = -1, vmax = 1)\n",
    "    # Customize the style of the heatmap\n",
    "    # Set the title, it's font size and position\n",
    "    ax.axes.set_title(title, fontsize = 30)\n",
    "    ax.title.set_position([.5, 1.03])\n",
    "    # Show the plot\n",
    "    plt.show()"
   ]
  },
  {
   "cell_type": "code",
   "execution_count": 71,
   "metadata": {},
   "outputs": [
    {
     "data": {
      "image/png": "[encoded data removed]",
      "text/plain": [
       "<Figure size 864x648 with 2 Axes>"
      ]
     },
     "metadata": {
      "needs_background": "light"
     },
     "output_type": "display_data"
    }
   ],
   "source": [
    "# Call the confusion matrix function\n",
    "confusion_matrix_plot(red_wine_data, title = \"Red Wine Correlation Matrix\")"
   ]
  },
  {
   "cell_type": "markdown",
   "metadata": {},
   "source": [
    "Heatmap shows the correlation between the variables in the dataset. High concentration of color representation high corrlation. Brown represents positive and purple represents negative correlation.\n",
    "\n",
    "From the above heatmap on the red wine, we have the following inference\n",
    "\n",
    "1 : It looks like we have pH and fixed acidity has inverse relationships between them. The same in case of citric acid and volatile acidity too.\n",
    "\n",
    "2 : There is a strong positive relationship between total sulfur dioxide and free sulfur dioxide."
   ]
  },
  {
   "cell_type": "code",
   "execution_count": 72,
   "metadata": {},
   "outputs": [
    {
     "data": {
      "image/png": "[encoded data removed]",
      "text/plain": [
       "<Figure size 864x648 with 2 Axes>"
      ]
     },
     "metadata": {
      "needs_background": "light"
     },
     "output_type": "display_data"
    }
   ],
   "source": [
    "confusion_matrix_plot(white_wine_data, title = \"White Wine Correlation Matrix\")"
   ]
  },
  {
   "cell_type": "markdown",
   "metadata": {},
   "source": [
    "From the above white wine heatmap, we have the following inferences:\n",
    "1 : We see that low density contents are high on alcohol content\n",
    "\n",
    "2 : Sugar content in the wine might represents the wine density\n",
    "\n",
    "3 : Just like red wine, here also total and free sulfur dioxide are related together\n",
    "\n",
    "Now that we have seen much about the predictors lets see the responding varaible quality and how it is related to the predictors. We see the quality is more depend on the folowwing from both red and white wines"
   ]
  },
  {
   "cell_type": "markdown",
   "metadata": {},
   "source": [
    "### Positive relation (Increase in this will increase the quality)\n",
    "\n",
    "* ${Alcohol}$:\n",
    "\n",
    "* ${Sulphates}$:"
   ]
  },
  {
   "cell_type": "markdown",
   "metadata": {},
   "source": [
    "### Positive relation (Increase in this will decrease the quality)\n",
    "\n",
    "* ${Density}$:\n",
    "\n",
    "* ${Volatile acidity}$:\n",
    "\n",
    "* ${Chlorides}$:"
   ]
  },
  {
   "cell_type": "markdown",
   "metadata": {},
   "source": [
    "# III. Methods\n",
    "\n",
    "In this assignment, you are building a deep network with more than 5 layers using TensorFlow. \n",
    "Looking at the chart below, get some idea about how you can construct your networks for what problem and why you pick your structure. \n",
    "\n",
    "- Pick at least 3 different networks for experiments.\n",
    "- Summarize the choice of your networks. \n",
    "- Explain your TensorFlow (or Keras) codes. \n",
    "- Explain how you apply your model to your data. \n",
    "\n",
    "Following images are only for you to get some idea. You do not necessarily stick with these. You can come up with your own structure or shape. \n",
    "\n",
    "![](https://camo.githubusercontent.com/31e20172e3b7bc5530a6e7c7e7339e8e556d0acc/687474703a2f2f7777772e6173696d6f76696e737469747574652e6f72672f77702d636f6e74656e742f75706c6f6164732f323031362f30392f6e657572616c6e6574776f726b732e706e67)"
   ]
  },
  {
   "cell_type": "markdown",
   "metadata": {},
   "source": [
    "### Split the data"
   ]
  },
  {
   "cell_type": "code",
   "execution_count": 73,
   "metadata": {},
   "outputs": [],
   "source": [
    "X_Dataframe = wine_data.drop(['wine_quality'],axis=1)\n",
    "y_Dataframe = wine_data['wine_quality']"
   ]
  },
  {
   "cell_type": "code",
   "execution_count": 74,
   "metadata": {},
   "outputs": [],
   "source": [
    "X_train, X_test, y_train, y_test = train_test_split(X_Dataframe, y_Dataframe, test_size=0.2, random_state=10)"
   ]
  },
  {
   "cell_type": "code",
   "execution_count": 75,
   "metadata": {},
   "outputs": [
    {
     "data": {
      "text/plain": [
       "(10395, 13)"
      ]
     },
     "execution_count": 75,
     "metadata": {},
     "output_type": "execute_result"
    }
   ],
   "source": [
    "X_train.shape"
   ]
  },
  {
   "cell_type": "code",
   "execution_count": 76,
   "metadata": {},
   "outputs": [
    {
     "data": {
      "text/plain": [
       "(2599, 13)"
      ]
     },
     "execution_count": 76,
     "metadata": {},
     "output_type": "execute_result"
    }
   ],
   "source": [
    "X_test.shape"
   ]
  },
  {
   "cell_type": "code",
   "execution_count": 77,
   "metadata": {},
   "outputs": [
    {
     "data": {
      "text/plain": [
       "(10395,)"
      ]
     },
     "execution_count": 77,
     "metadata": {},
     "output_type": "execute_result"
    }
   ],
   "source": [
    "y_train.shape"
   ]
  },
  {
   "cell_type": "code",
   "execution_count": 78,
   "metadata": {},
   "outputs": [
    {
     "data": {
      "text/plain": [
       "(2599,)"
      ]
     },
     "execution_count": 78,
     "metadata": {},
     "output_type": "execute_result"
    }
   ],
   "source": [
    "y_test.shape"
   ]
  },
  {
   "cell_type": "markdown",
   "metadata": {},
   "source": [
    "## Model 1 :\n",
    "\n",
    "### Attributes:\n",
    "\n",
    "1. Layers - 5\n",
    "2. Activation function for Input and Hidden Layer : tanh\n",
    "3. Activation function for Output Layer : sigmoid\n",
    "4. Batch_size = 32 (Default)\n",
    "5. loss function : binary_crossentropy\n",
    "6. optimizer='sgd'\n",
    "7. metrics='accuracy'"
   ]
  },
  {
   "cell_type": "markdown",
   "metadata": {},
   "source": [
    "### Explanation of CODE\n",
    "\n",
    "This sequential model of Karas is built with activation function 'tanh' for input layer and hidden layers and output layer with 'sigmoid' function. Initial model is built only with 5 layers in total, with neurons [13,14,15,16,1] respectively,and compiled with 'binary_crossentropy' loss and 'sgd' optimizer. Then model is fitted on training data which is splitted to 80% of total data, keeping batch size to default value i.e 32 and epochs 10. The model is validated against the test data which is 20%. Calculated accuracy of training and testing(validation) data and confusion matrix is calculated.\n",
    "\n",
    "#### Different parameters used:\n",
    "\n",
    "##### Activation Functions:\n",
    "\n",
    "1. tanh : It's a zero centered function which makes it easier to model inputs that have strongly negative, neutral, and strongly positive values.\n",
    "\n",
    "\n",
    "2. Sigmoid : It's a smooth gradient function which prevents jumps in output values. Output values bound between 0 and 1, normalizing the output of each neuron.\n",
    "\n",
    "###### Loss \n",
    "\n",
    "1. binary_crossentropy: It's a Binary Classification Loss Function,intended for use with binary classification where the target values are in the set {0, 1}.\n",
    "\n",
    "##### Optimizer\n",
    "\n",
    "1. SGD: It's most basic form of optimization algorithm, performs a parameter update for each training example unlike batch gradient descent.It's usually much faster and can also be used to learn online."
   ]
  },
  {
   "cell_type": "markdown",
   "metadata": {},
   "source": [
    "### Training"
   ]
  },
  {
   "cell_type": "code",
   "execution_count": 79,
   "metadata": {},
   "outputs": [],
   "source": [
    "model1 = Sequential()\n",
    "model1.add(Dense(13, input_dim=13, activation='tanh'))\n",
    "model1.add(Dense(14, activation='tanh'))\n",
    "model1.add(Dense(15, activation='tanh'))\n",
    "model1.add(Dense(16, activation='tanh'))\n",
    "model1.add(Dense(1, activation='sigmoid'))"
   ]
  },
  {
   "cell_type": "code",
   "execution_count": 80,
   "metadata": {},
   "outputs": [],
   "source": [
    "#simple_sgd = SGD(lr=0.01)\n",
    "model1.compile(loss='binary_crossentropy', optimizer=SGD(lr=0.01), metrics=['accuracy'])"
   ]
  },
  {
   "cell_type": "code",
   "execution_count": 81,
   "metadata": {},
   "outputs": [
    {
     "name": "stdout",
     "output_type": "stream",
     "text": [
      "Train on 10395 samples, validate on 2599 samples\n",
      "Epoch 1/10\n",
      "10395/10395 [==============================] - 2s 224us/step - loss: 0.6588 - acc: 0.6192 - val_loss: 0.6453 - val_acc: 0.6372\n",
      "Epoch 2/10\n",
      "10395/10395 [==============================] - 1s 98us/step - loss: 0.6534 - acc: 0.6281 - val_loss: 0.6411 - val_acc: 0.6541\n",
      "Epoch 3/10\n",
      "10395/10395 [==============================] - 1s 98us/step - loss: 0.6516 - acc: 0.6339 - val_loss: 0.6420 - val_acc: 0.6545\n",
      "Epoch 4/10\n",
      "10395/10395 [==============================] - 1s 99us/step - loss: 0.6495 - acc: 0.6372 - val_loss: 0.6378 - val_acc: 0.6568\n",
      "Epoch 5/10\n",
      "10395/10395 [==============================] - 1s 97us/step - loss: 0.6490 - acc: 0.6378 - val_loss: 0.6389 - val_acc: 0.6545\n",
      "Epoch 6/10\n",
      "10395/10395 [==============================] - 1s 98us/step - loss: 0.6495 - acc: 0.6356 - val_loss: 0.6362 - val_acc: 0.6549\n",
      "Epoch 7/10\n",
      "10395/10395 [==============================] - 1s 98us/step - loss: 0.6473 - acc: 0.6382 - val_loss: 0.6435 - val_acc: 0.6545\n",
      "Epoch 8/10\n",
      "10395/10395 [==============================] - 1s 101us/step - loss: 0.6487 - acc: 0.6389 - val_loss: 0.6374 - val_acc: 0.6572\n",
      "Epoch 9/10\n",
      "10395/10395 [==============================] - 1s 103us/step - loss: 0.6452 - acc: 0.6387 - val_loss: 0.6323 - val_acc: 0.6545\n",
      "Epoch 10/10\n",
      "10395/10395 [==============================] - 1s 106us/step - loss: 0.6453 - acc: 0.6399 - val_loss: 0.6357 - val_acc: 0.6603\n"
     ]
    }
   ],
   "source": [
    "model1_output=model1.fit(X_train, y_train, epochs=10, validation_data=(X_test,y_test))"
   ]
  },
  {
   "cell_type": "markdown",
   "metadata": {},
   "source": [
    "### Testing"
   ]
  },
  {
   "cell_type": "code",
   "execution_count": 82,
   "metadata": {},
   "outputs": [
    {
     "name": "stdout",
     "output_type": "stream",
     "text": [
      "2599/2599 [==============================] - 0s 58us/step\n"
     ]
    }
   ],
   "source": [
    "eval_results = model1.evaluate(X_test, y_test) "
   ]
  },
  {
   "cell_type": "markdown",
   "metadata": {},
   "source": [
    "### Result and Analysis"
   ]
  },
  {
   "cell_type": "code",
   "execution_count": 83,
   "metadata": {},
   "outputs": [
    {
     "name": "stdout",
     "output_type": "stream",
     "text": [
      "Training Accuracy : 0.6347474747388737\n",
      "Validation Accuracy : 0.6538283955826124\n"
     ]
    }
   ],
   "source": [
    "print('Training Accuracy :', np.mean(model1_output.history[\"acc\"]))\n",
    "print('Validation Accuracy :', np.mean(model1_output.history[\"val_acc\"]))"
   ]
  },
  {
   "cell_type": "code",
   "execution_count": 84,
   "metadata": {},
   "outputs": [
    {
     "data": {
      "image/png": "[encoded data removed]",
      "text/plain": [
       "<Figure size 432x288 with 1 Axes>"
      ]
     },
     "metadata": {
      "needs_background": "light"
     },
     "output_type": "display_data"
    }
   ],
   "source": [
    "plt.plot(model1_output.history['acc'])\n",
    "plt.plot(model1_output.history['val_acc'])\n",
    "plt.title('model accuracy')\n",
    "plt.ylabel('accuracy')\n",
    "plt.xlabel('epoch')\n",
    "plt.legend(['train', 'test'], loc='upper left')\n",
    "#plt.ylim((0.5, 1))\n",
    "plt.show()"
   ]
  },
  {
   "cell_type": "code",
   "execution_count": 85,
   "metadata": {},
   "outputs": [
    {
     "name": "stdout",
     "output_type": "stream",
     "text": [
      "\n",
      "Loss, accuracy on test data: \n",
      "0.6357 66.03%\n"
     ]
    }
   ],
   "source": [
    "print(\"\\nLoss, accuracy on test data: \")\n",
    "print(\"%0.4f %0.2f%%\" % (eval_results[0], eval_results[1]*100))"
   ]
  },
  {
   "cell_type": "code",
   "execution_count": 86,
   "metadata": {},
   "outputs": [],
   "source": [
    "y_pred = model1.predict(X_test)\n",
    "rounded = [round(x[0]) for x in y_pred]\n",
    "y_pred1 = np.array(rounded,dtype='int64')"
   ]
  },
  {
   "cell_type": "code",
   "execution_count": 87,
   "metadata": {},
   "outputs": [
    {
     "data": {
      "text/plain": [
       "array([[1664,   14],\n",
       "       [ 869,   52]])"
      ]
     },
     "execution_count": 87,
     "metadata": {},
     "output_type": "execute_result"
    }
   ],
   "source": [
    "confusion_matrix(y_test,y_pred1)"
   ]
  },
  {
   "cell_type": "markdown",
   "metadata": {},
   "source": [
    "## Model 2 :\n",
    "\n",
    "### Attributes:\n",
    "\n",
    "1. Layers - 6\n",
    "2. Activation function for Input and Hidden Layer : Relu\n",
    "3. Activation function for Output Layer : sigmoid\n",
    "4. Batch_size = 20 \n",
    "5. loss function : binary_crossentropy\n",
    "6. optimizer='Adagrad'\n",
    "7. metrics='accuracy'"
   ]
  },
  {
   "cell_type": "markdown",
   "metadata": {},
   "source": [
    "### Explanation of CODE\n",
    "\n",
    "This sequential model of Karas is built with activation function 'relu' for input layer and hidden layers and output layer with 'sigmoid' function. Initial model is built only with 6 layers in total, with neurons [13,14,15,16,20,1] respectively,and compiled with 'binary_crossentropy' loss and 'Adagrad' optimizer. Then model is fitted on training data which is splitted to 80% of total data, keeping batch size to 20 and epochs 10. The model is validated against the test data which is 20%. Calculated accuracy of training and testing(validation) data and confusion matrix is calculated.\n",
    "\n",
    "#### Different parameters used:\n",
    "\n",
    "##### Activation Functions:\n",
    "\n",
    "1. tanh : It's a zero centered function which makes it easier to model inputs that have strongly negative, neutral, and strongly positive values.\n",
    "\n",
    "\n",
    "2. Sigmoid : It's a smooth gradient function which prevents jumps in output values. Output values bound between 0 and 1, normalizing the output of each neuron.\n",
    "\n",
    "###### Loss \n",
    "\n",
    "1. binary_crossentropy: It's a Binary Classification Loss Function,intended for use with binary classification where the target values are in the set {0, 1}.\n",
    "\n",
    "##### Optimizer\n",
    "\n",
    "1. Adagrad: It's a gradient-based optimizer which adapts the learning rate to the parameters, performing smaller updates (i.e. low learning rates) for parameters associated with frequently occurring features, and larger updates (i.e. high learning rates) for parameters associated with infrequent features. For this reason, it is well-suited for dealing with sparse data and Adagrad has greatly improved the robustness of SGD."
   ]
  },
  {
   "cell_type": "markdown",
   "metadata": {},
   "source": [
    "### Training"
   ]
  },
  {
   "cell_type": "code",
   "execution_count": 88,
   "metadata": {},
   "outputs": [],
   "source": [
    "model2 = Sequential()\n",
    "model2.add(Dense(13, input_dim=13, activation='relu'))\n",
    "model2.add(Dense(14, activation='relu'))\n",
    "model2.add(Dense(15, activation='relu'))\n",
    "model2.add(Dense(16, activation='relu'))\n",
    "model2.add(Dense(20, activation='relu'))\n",
    "model2.add(Dense(1, activation='sigmoid'))"
   ]
  },
  {
   "cell_type": "code",
   "execution_count": 89,
   "metadata": {},
   "outputs": [],
   "source": [
    "model2.compile(loss='binary_crossentropy', optimizer='Adagrad', metrics=['accuracy'])"
   ]
  },
  {
   "cell_type": "code",
   "execution_count": 90,
   "metadata": {},
   "outputs": [
    {
     "name": "stdout",
     "output_type": "stream",
     "text": [
      "Train on 10395 samples, validate on 2599 samples\n",
      "Epoch 1/10\n",
      "10395/10395 [==============================] - 4s 372us/step - loss: 0.6325 - acc: 0.6443 - val_loss: 0.5568 - val_acc: 0.6653\n",
      "Epoch 2/10\n",
      "10395/10395 [==============================] - 2s 203us/step - loss: 0.5176 - acc: 0.7246 - val_loss: 0.4361 - val_acc: 0.8188\n",
      "Epoch 3/10\n",
      "10395/10395 [==============================] - 2s 199us/step - loss: 0.4099 - acc: 0.8150 - val_loss: 0.3414 - val_acc: 0.8530\n",
      "Epoch 4/10\n",
      "10395/10395 [==============================] - 2s 194us/step - loss: 0.3213 - acc: 0.8674 - val_loss: 0.2892 - val_acc: 0.8649\n",
      "Epoch 5/10\n",
      "10395/10395 [==============================] - 2s 197us/step - loss: 0.2640 - acc: 0.9000 - val_loss: 0.2264 - val_acc: 0.9250\n",
      "Epoch 6/10\n",
      "10395/10395 [==============================] - 2s 194us/step - loss: 0.2172 - acc: 0.9250 - val_loss: 0.1746 - val_acc: 0.9550\n",
      "Epoch 7/10\n",
      "10395/10395 [==============================] - 2s 187us/step - loss: 0.1772 - acc: 0.9454 - val_loss: 0.1425 - val_acc: 0.9665\n",
      "Epoch 8/10\n",
      "10395/10395 [==============================] - 2s 190us/step - loss: 0.1425 - acc: 0.9621 - val_loss: 0.1666 - val_acc: 0.9292\n",
      "Epoch 9/10\n",
      "10395/10395 [==============================] - 2s 221us/step - loss: 0.1177 - acc: 0.9734 - val_loss: 0.0949 - val_acc: 0.9827\n",
      "Epoch 10/10\n",
      "10395/10395 [==============================] - 2s 227us/step - loss: 0.0918 - acc: 0.9830 - val_loss: 0.1205 - val_acc: 0.9623\n"
     ]
    }
   ],
   "source": [
    "model2_output = model2.fit(X_train, y_train, epochs=10, batch_size = 20, validation_data=(X_test,y_test))"
   ]
  },
  {
   "cell_type": "markdown",
   "metadata": {},
   "source": [
    "### Testing"
   ]
  },
  {
   "cell_type": "code",
   "execution_count": 91,
   "metadata": {},
   "outputs": [
    {
     "name": "stdout",
     "output_type": "stream",
     "text": [
      "2599/2599 [==============================] - 0s 66us/step\n"
     ]
    }
   ],
   "source": [
    "eval_results = model2.evaluate(X_test, y_test) "
   ]
  },
  {
   "cell_type": "markdown",
   "metadata": {},
   "source": [
    "### Result and Analysis"
   ]
  },
  {
   "cell_type": "code",
   "execution_count": 92,
   "metadata": {},
   "outputs": [
    {
     "name": "stdout",
     "output_type": "stream",
     "text": [
      "Training Accuracy : 0.8740163506424846\n",
      "Validation Accuracy : 0.8922662522229565\n"
     ]
    }
   ],
   "source": [
    "print('Training Accuracy :', np.mean(model2_output.history[\"acc\"]))\n",
    "print('Validation Accuracy :', np.mean(model2_output.history[\"val_acc\"]))"
   ]
  },
  {
   "cell_type": "code",
   "execution_count": 93,
   "metadata": {},
   "outputs": [
    {
     "data": {
      "image/png": "[encoded data removed]",
      "text/plain": [
       "<Figure size 432x288 with 1 Axes>"
      ]
     },
     "metadata": {
      "needs_background": "light"
     },
     "output_type": "display_data"
    }
   ],
   "source": [
    "plt.plot(model2_output.history['acc'])\n",
    "plt.plot(model2_output.history['val_acc'])\n",
    "plt.title('model accuracy')\n",
    "plt.ylabel('accuracy')\n",
    "plt.xlabel('epoch')\n",
    "plt.legend(['train', 'test'], loc='upper left')\n",
    "plt.ylim((0.5, 1))\n",
    "plt.show()"
   ]
  },
  {
   "cell_type": "code",
   "execution_count": 94,
   "metadata": {},
   "outputs": [
    {
     "name": "stdout",
     "output_type": "stream",
     "text": [
      "\n",
      "Loss, accuracy on test data: \n",
      "0.1205 96.23%\n"
     ]
    }
   ],
   "source": [
    "print(\"\\nLoss, accuracy on test data: \")\n",
    "print(\"%0.4f %0.2f%%\" % (eval_results[0], eval_results[1]*100))"
   ]
  },
  {
   "cell_type": "code",
   "execution_count": 95,
   "metadata": {},
   "outputs": [],
   "source": [
    "y_pred = model2.predict(X_test)\n",
    "rounded = [round(x[0]) for x in y_pred]\n",
    "y_pred2 = np.array(rounded,dtype='int64')"
   ]
  },
  {
   "cell_type": "code",
   "execution_count": 96,
   "metadata": {},
   "outputs": [
    {
     "data": {
      "text/plain": [
       "array([[1673,    5],\n",
       "       [  93,  828]])"
      ]
     },
     "execution_count": 96,
     "metadata": {},
     "output_type": "execute_result"
    }
   ],
   "source": [
    "confusion_matrix(y_test,y_pred2)"
   ]
  },
  {
   "cell_type": "markdown",
   "metadata": {},
   "source": [
    "## Model 3 :\n",
    "\n",
    "### Attributes:\n",
    "\n",
    "1. Layers - 5\n",
    "2. Activation function for Input and Hidden Layer : Relu\n",
    "3. Activation function for Output Layer : sigmoid\n",
    "4. Batch_size = 20\n",
    "5. loss function : binary_crossentropy\n",
    "6. optimizer='adam'\n",
    "7. metrics='accuracy'"
   ]
  },
  {
   "cell_type": "markdown",
   "metadata": {},
   "source": [
    "### Explanation of CODE\n",
    "\n",
    "This sequential model of Karas is built with activation function 'relu' for input layer and hidden layers and output layer with 'sigmoid' function. Initial model is built only with 5 layers in total, with neurons [13,14,15,16,1] respectively,and compiled with 'binary_crossentropy' loss and 'Adam' optimizer. Then model is fitted on training data which is splitted to 80% of total data, keeping batch size to 20 and epochs 10. The model is validated against the test data which is 20%. Calculated accuracy of training and testing(validation) data and confusion matrix is calculated.\n",
    "\n",
    "#### Different parameters used:\n",
    "\n",
    "##### Activation Functions:\n",
    "\n",
    "1. tanh : It's a zero centered function which makes it easier to model inputs that have strongly negative, neutral, and strongly positive values.\n",
    "\n",
    "2. Sigmoid : It's a smooth gradient function which prevents jumps in output values. Output values bound between 0 and 1, normalizing the output of each neuron.\n",
    "\n",
    "###### Loss \n",
    "\n",
    "1. binary_crossentropy: It's a Binary Classification Loss Function,intended for use with binary classification where the target values are in the set {0, 1}.\n",
    "\n",
    "##### Optimizer\n",
    "\n",
    "1. Adam: It's Adaptive Moment Estimation optimizer. Other optimizers maintain a single learning rate through out the training process, where as Adam adopts the learning rate as the training progresses (adaptive learning rates). It computes adaptive learning rates for each parameter, unlike Adagrad."
   ]
  },
  {
   "cell_type": "code",
   "execution_count": 97,
   "metadata": {},
   "outputs": [],
   "source": [
    "model3 = Sequential()\n",
    "model3.add(Dense(13, input_dim=13, activation='relu'))\n",
    "model3.add(Dense(14, activation='relu'))\n",
    "model3.add(Dense(15, activation='relu'))\n",
    "model3.add(Dense(16, activation='relu'))\n",
    "model3.add(Dense(1, activation='sigmoid'))"
   ]
  },
  {
   "cell_type": "code",
   "execution_count": 98,
   "metadata": {},
   "outputs": [],
   "source": [
    "model3.compile(loss='binary_crossentropy', optimizer='adam', metrics=['accuracy'])"
   ]
  },
  {
   "cell_type": "code",
   "execution_count": 99,
   "metadata": {},
   "outputs": [
    {
     "name": "stdout",
     "output_type": "stream",
     "text": [
      "Train on 10395 samples, validate on 2599 samples\n",
      "Epoch 1/10\n",
      "10395/10395 [==============================] - 5s 444us/step - loss: 0.6595 - acc: 0.6268 - val_loss: 0.6154 - val_acc: 0.6576\n",
      "Epoch 2/10\n",
      "10395/10395 [==============================] - 2s 215us/step - loss: 0.5929 - acc: 0.6673 - val_loss: 0.5300 - val_acc: 0.6768\n",
      "Epoch 3/10\n",
      "10395/10395 [==============================] - 2s 209us/step - loss: 0.4674 - acc: 0.7684 - val_loss: 0.3171 - val_acc: 0.8884\n",
      "Epoch 4/10\n",
      "10395/10395 [==============================] - 2s 201us/step - loss: 0.2488 - acc: 0.9145 - val_loss: 0.1714 - val_acc: 0.9588\n",
      "Epoch 5/10\n",
      "10395/10395 [==============================] - 2s 205us/step - loss: 0.1172 - acc: 0.9753 - val_loss: 0.0778 - val_acc: 0.9885\n",
      "Epoch 6/10\n",
      "10395/10395 [==============================] - 3s 245us/step - loss: 0.0613 - acc: 0.9878 - val_loss: 0.1701 - val_acc: 0.9219\n",
      "Epoch 7/10\n",
      "10395/10395 [==============================] - 3s 256us/step - loss: 0.0343 - acc: 0.9939 - val_loss: 0.0214 - val_acc: 0.9988\n",
      "Epoch 8/10\n",
      "10395/10395 [==============================] - 3s 265us/step - loss: 0.0319 - acc: 0.9922 - val_loss: 0.0151 - val_acc: 0.9988\n",
      "Epoch 9/10\n",
      "10395/10395 [==============================] - 3s 283us/step - loss: 0.0269 - acc: 0.9925 - val_loss: 0.0078 - val_acc: 0.9992\n",
      "Epoch 10/10\n",
      "10395/10395 [==============================] - 3s 266us/step - loss: 0.0189 - acc: 0.9942 - val_loss: 0.0064 - val_acc: 0.9988\n"
     ]
    }
   ],
   "source": [
    "model3_output = model3.fit(X_train, y_train, epochs=10,batch_size=20, validation_data=(X_test,y_test))"
   ]
  },
  {
   "cell_type": "markdown",
   "metadata": {},
   "source": [
    "### Testing"
   ]
  },
  {
   "cell_type": "code",
   "execution_count": 100,
   "metadata": {},
   "outputs": [
    {
     "name": "stdout",
     "output_type": "stream",
     "text": [
      "2599/2599 [==============================] - 0s 64us/step\n"
     ]
    }
   ],
   "source": [
    "eval_results = model3.evaluate(X_test, y_test) "
   ]
  },
  {
   "cell_type": "markdown",
   "metadata": {},
   "source": [
    "### Result and Analysis"
   ]
  },
  {
   "cell_type": "code",
   "execution_count": 101,
   "metadata": {},
   "outputs": [
    {
     "name": "stdout",
     "output_type": "stream",
     "text": [
      "Training Accuracy : 0.8913035098694448\n",
      "Validation Accuracy : 0.9087726024285147\n"
     ]
    }
   ],
   "source": [
    "print('Training Accuracy :', np.mean(model3_output.history[\"acc\"]))\n",
    "print('Validation Accuracy :', np.mean(model3_output.history[\"val_acc\"]))"
   ]
  },
  {
   "cell_type": "code",
   "execution_count": 102,
   "metadata": {},
   "outputs": [
    {
     "data": {
      "image/png": "[encoded data removed]",
      "text/plain": [
       "<Figure size 432x288 with 1 Axes>"
      ]
     },
     "metadata": {
      "needs_background": "light"
     },
     "output_type": "display_data"
    }
   ],
   "source": [
    "plt.plot(model3_output.history['acc'])\n",
    "plt.plot(model3_output.history['val_acc'])\n",
    "plt.title('model accuracy')\n",
    "plt.ylabel('accuracy')\n",
    "plt.xlabel('epoch')\n",
    "plt.legend(['train', 'test'], loc='upper left')\n",
    "plt.ylim((0.5, 1))\n",
    "plt.show()"
   ]
  },
  {
   "cell_type": "code",
   "execution_count": 103,
   "metadata": {},
   "outputs": [
    {
     "name": "stdout",
     "output_type": "stream",
     "text": [
      "\n",
      "Loss, accuracy on test data: \n",
      "0.0064 99.88%\n"
     ]
    }
   ],
   "source": [
    "print(\"\\nLoss, accuracy on test data: \")\n",
    "print(\"%0.4f %0.2f%%\" % (eval_results[0], eval_results[1]*100))"
   ]
  },
  {
   "cell_type": "code",
   "execution_count": 104,
   "metadata": {},
   "outputs": [],
   "source": [
    "y_pred = model3.predict(X_test)\n",
    "rounded = [round(x[0]) for x in y_pred]\n",
    "y_pred3 = np.array(rounded,dtype='int64')"
   ]
  },
  {
   "cell_type": "code",
   "execution_count": 105,
   "metadata": {},
   "outputs": [
    {
     "data": {
      "text/plain": [
       "array([[1678,    0],\n",
       "       [   3,  918]])"
      ]
     },
     "execution_count": 105,
     "metadata": {},
     "output_type": "execute_result"
    }
   ],
   "source": [
    "confusion_matrix(y_test,y_pred3)"
   ]
  },
  {
   "cell_type": "markdown",
   "metadata": {},
   "source": [
    "## Results - Summary of Choice of networks and Performance Change\n",
    "\n",
    "### Model 1\n",
    "\n",
    "Strated with most basic neural network structure with activation function 'tanh' for input layer and hidden layers and 'sigmoid' function for output layer. As this classification dataset is binary labeled, compiled the model with the loss function 'binary_crossentropy' and most basic optimizer is chosen i.e SGD optimizer.Intentionally, its learning rate is kept low i.e 0.001 to avoid long jumps/overshooting while training. This model then evaluated on test data , however, accuracy of the prediction is moderate which was not very satisfying which is 67.22% on testing data.\n",
    "\n",
    "Training Accuracy : 0.6347474747388737\n",
    "\n",
    "Validation Accuracy : 0.6538283955826124\n",
    "\n",
    "Testing Accuracy: 0.6603\n",
    "\n",
    "Confusion Matrix:\n",
    "\n",
    "([[1664,   14],\n",
    "\n",
    " [ 869,   52]])\n",
    " \n",
    " \n",
    "### Model 2\n",
    "\n",
    "To overcome the drawbacks of first model, I changed 'tanh' function to more sophisticated activation function i.e 'relu' for input and hidden layers while keeping 'sigmoid' function as it is for output layer. As 'binary_crossentropy' seemd the right choice for binary labeled data, i kept it as it is. SGD optimizer performed poorly on training data, so some optimier with adapative learning rate was needed, so stated with 'Adagrad' instead other adaptive optimization algorithms and incremented one hidden layer with reducing batch size to 20. These changes improved results significantly and gave better accracy compared to Model 1.\n",
    "\n",
    "Training Accuracy : 0.8740163506424846\n",
    "\n",
    "Validation Accuracy : 0.8922662522229565\n",
    "\n",
    "Testing Accuracy: 0.9623\n",
    "\n",
    "Confusion Matrix:\n",
    "\n",
    "([[1663,   55],\n",
    "\n",
    " [ 93,   828]]\n",
    " \n",
    " \n",
    "### Model 3\n",
    "\n",
    "Looking at the results of Model 3, only optimization algorithm ie Adagrad is replaced with Adam, so it could compute learning rate for each parameter, keeping all other parameters same. As expeted, this model gave even excellent accuracy than model 2.\n",
    "\n",
    "Training Accuracy : 0.8913035098694448\n",
    "\n",
    "Validation Accuracy : 0.9087726024285147\n",
    "\n",
    "Testing Accuracy: 0.9988\n",
    "\n",
    "Confusion Matrix:\n",
    "\n",
    "([[1678,   0],\n",
    "\n",
    " [ 3,   918]]"
   ]
  },
  {
   "cell_type": "markdown",
   "metadata": {},
   "source": [
    "## Conclusion\n",
    "\n",
    "\n",
    "This assignment taught me implementing neural network with Keras library and importance of choosing right hyper-tuning parameters to fit the model and get better accuracy.\n",
    "\n",
    "I have learnt all activation functions, optimizers, loss functions in depth and understood its tuning depending on the result i was getting from initial model. It's very important to choose right parameters initially to build the model and even if it does not work as per expectations, making right changes looking at its results, like i was able to do in this assignment.Adaptive learning rate algorithms gave better accuracy than static learning rate algorithm i.e SGD in this case.\n",
    "\n",
    "Deep learning removes the burden of feature engineering from your shoulder,provided you choose right parameters to train your data.Also, deep learning brain can perform thousands of repetitive, routine tasks within a shorter period of time than it would take a human being. The quality of its work never diminishes, unless the training data includes raw data that does not represent the problem you are trying to solve."
   ]
  },
  {
   "cell_type": "markdown",
   "metadata": {},
   "source": [
    "## References\n",
    "\n",
    "Paulo Cortez, University of Minho, Guimarães, Portugal, http://www3.dsi.uminho.pt/pcortez , \"Wine Quality Data Set\", https://archive.ics.uci.edu/ml/machine-learning-databases/wine-quality/\n",
    "\n",
    "Deep Learning Class Note\n",
    "\n",
    "https://nbviewer.jupyter.org/url/webpages.uncc.edu/mlee173/teach/itcs6156/notebooks/notes/Note-Deep%20Learning.ipynb\n",
    "\n",
    "Deep Learning Assignment Class note\n",
    "\n",
    "https://nbviewer.jupyter.org/url/webpages.uncc.edu/mlee173/teach/itcs6156/notebooks/assign/Assign5.ipynb\n",
    "\n",
    "How to Choose Loss Functions When Training Deep Learning Neural Networks\n",
    "\n",
    "https://machinelearningmastery.com/how-to-choose-loss-functions-when-training-deep-learning-neural-networks/\n",
    "\n",
    "Keras: The Python Deep Learning library\n",
    "\n",
    "https://keras.io"
   ]
  }
 ],
 "metadata": {
  "kernelspec": {
   "display_name": "Python 3",
   "language": "python",
   "name": "python3"
  },
  "language_info": {
   "codemirror_mode": {
    "name": "ipython",
    "version": 3
   },
   "file_extension": ".py",
   "mimetype": "text/x-python",
   "name": "python",
   "nbconvert_exporter": "python",
   "pygments_lexer": "ipython3",
   "version": "3.7.3"
  }
 },
 "nbformat": 4,
 "nbformat_minor": 2
}

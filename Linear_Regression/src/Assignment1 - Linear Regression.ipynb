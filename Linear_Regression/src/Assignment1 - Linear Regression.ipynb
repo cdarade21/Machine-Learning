{
 "cells": [
  {
   "cell_type": "markdown",
   "metadata": {},
   "source": [
    "# Assignment 1 - Linear Regression\n",
    "\n",
    "$\\textbf{NAME : CHAITANYA DARADE}$"
   ]
  },
  {
   "cell_type": "markdown",
   "metadata": {},
   "source": [
    "# Introduction\n",
    "\n",
    "\n",
    "The aim of this assignment is to understand how linear regression works and to visualize and observe the data to find correlation to reuse this data for linear regression.\n",
    "\n",
    "* $\\textbf{Linear Regression}$:\n",
    "    \n",
    "Linear regression is a simple approach to supervised learning. It assumes that the dependence of Y on X1, X2, . . . Xn is linear. It is the relationship between two variables by fitting a linear equation to observed data. One variable is considered to be an explanatory variable, and the other is considered to be a dependent variable and association between two variables can be measured by correlation coefficient, which is a value between -1 and 1 indicating the strength of the association of the observed data for the two variables.\n",
    "\n",
    "In this assignment, diamonds dataset is used for regression and two methods are used namely 'Least-Squares Regression (LS)' and 'Least Mean Squares (LMS)' to find a best fitting line for the observed data.\n",
    "\n",
    "* $\\textbf{Least-Squares Regression (LS)}$:\n",
    "\n",
    "The most common method calculates the best-fitting line for the observed data by minimizing the sum of the squares of the vertical deviations from each data point to the line.\n",
    "\n",
    "* $\\textbf{Least-Mean Squares Regression (LMS)}$:\n",
    "\n",
    "Though LS is commonly used, it has computation limitations for large datasets, where online learning is preferred where data point is introduced one by one, and parameters are updated. Using the updated parameters, it makes a new estimation and repeat these steps."
   ]
  },
  {
   "cell_type": "markdown",
   "metadata": {},
   "source": [
    "# Data - description\n",
    "\n",
    "This dataset comprises prices of 50,000 round cut diamonds. It's containing the prices and other attributes of almost 54,000 diamonds. The variables are as follows:\n",
    "\n",
    "* $\\textbf{File information}$ :\n",
    "\n",
    "diamonds.csv (53940*10)\n",
    "\n",
    "* $\\textbf{Attribute Information}$:\n",
    "\n",
    "A data frame with 53940 rows and 10 variables:\n",
    "\n",
    "1 : price price in US dollars ( 326 – 18,823)\n",
    "\n",
    "2 : carat weight of the diamond (0.2–5.01)\n",
    "\n",
    "3 : cut quality of the cut (Fair, Good, Very Good, Premium, Ideal)\n",
    "\n",
    "4 : color diamond colour, from J (worst) to D (best)\n",
    "\n",
    "5 : clarity a measurement of how clear the diamond is (I1 (worst), SI2, SI1, VS2, VS1, VVS2, VVS1, IF (best))\n",
    "\n",
    "6 : x length in mm (0–10.74)\n",
    "\n",
    "7 : y width in mm (0–58.9)\n",
    "\n",
    "8 : z depth in mm (0–31.8)\n",
    "\n",
    "9 : depth total depth percentage = z / mean(x, y) = 2 * z / (x + y) (43–79)\n",
    "\n",
    "10: table width of top of diamond relative to widest point (43–95)    \n",
    "\n",
    "11: dimension volume of the diamond(Additional feature ‘dimension ’is added to understand the volume(i.e dimension)       of diamond.)\n",
    "\n",
    "Source : shivamagrawal, \"Analyze diamonds by their cut, color, clarity, price, and other attributes\" https://www.kaggle.com/shivam2503/diamonds#diamonds.csv"
   ]
  },
  {
   "cell_type": "markdown",
   "metadata": {},
   "source": [
    "# Data - Plots for understanding and Preliminary observation"
   ]
  },
  {
   "cell_type": "markdown",
   "metadata": {},
   "source": [
    "## Reading the Data"
   ]
  },
  {
   "cell_type": "code",
   "execution_count": 72,
   "metadata": {},
   "outputs": [
    {
     "name": "stdout",
     "output_type": "stream",
     "text": [
      "   carat      cut color clarity  depth  table  price     x     y     z\n",
      "1   0.23    Ideal     E     SI2   61.5   55.0    326  3.95  3.98  2.43\n",
      "2   0.21  Premium     E     SI1   59.8   61.0    326  3.89  3.84  2.31\n",
      "3   0.23     Good     E     VS1   56.9   65.0    327  4.05  4.07  2.31\n",
      "4   0.29  Premium     I     VS2   62.4   58.0    334  4.20  4.23  2.63\n",
      "5   0.31     Good     J     SI2   63.3   58.0    335  4.34  4.35  2.75\n"
     ]
    }
   ],
   "source": [
    "import pandas as pd \n",
    "import numpy as np \n",
    "import matplotlib.pyplot as plt\n",
    "import seaborn as sns\n",
    "from sklearn.preprocessing import LabelEncoder\n",
    "from yellowbrick.regressor import ResidualsPlot\n",
    "from sklearn.linear_model import Ridge\n",
    "\n",
    "diamonds_data=pd.read_csv('diamonds.csv',index_col=0)\n",
    "print(diamonds_data.head())"
   ]
  },
  {
   "cell_type": "code",
   "execution_count": 73,
   "metadata": {},
   "outputs": [
    {
     "data": {
      "text/plain": [
       "(53940, 10)"
      ]
     },
     "execution_count": 73,
     "metadata": {},
     "output_type": "execute_result"
    }
   ],
   "source": [
    "diamonds_data.shape"
   ]
  },
  {
   "cell_type": "code",
   "execution_count": 74,
   "metadata": {},
   "outputs": [
    {
     "name": "stdout",
     "output_type": "stream",
     "text": [
      "<class 'pandas.core.frame.DataFrame'>\n",
      "Int64Index: 53940 entries, 1 to 53940\n",
      "Data columns (total 10 columns):\n",
      "carat      53940 non-null float64\n",
      "cut        53940 non-null object\n",
      "color      53940 non-null object\n",
      "clarity    53940 non-null object\n",
      "depth      53940 non-null float64\n",
      "table      53940 non-null float64\n",
      "price      53940 non-null int64\n",
      "x          53940 non-null float64\n",
      "y          53940 non-null float64\n",
      "z          53940 non-null float64\n",
      "dtypes: float64(6), int64(1), object(3)\n",
      "memory usage: 4.5+ MB\n"
     ]
    }
   ],
   "source": [
    "diamonds_data.info()"
   ]
  },
  {
   "cell_type": "code",
   "execution_count": 75,
   "metadata": {},
   "outputs": [
    {
     "data": {
      "text/plain": [
       "carat      0\n",
       "cut        0\n",
       "color      0\n",
       "clarity    0\n",
       "depth      0\n",
       "table      0\n",
       "price      0\n",
       "x          0\n",
       "y          0\n",
       "z          0\n",
       "dtype: int64"
      ]
     },
     "execution_count": 75,
     "metadata": {},
     "output_type": "execute_result"
    }
   ],
   "source": [
    "# It seems there are no Null Values.\n",
    "# Let's Confirm\n",
    "diamonds_data.isnull().sum()"
   ]
  },
  {
   "cell_type": "code",
   "execution_count": 76,
   "metadata": {},
   "outputs": [
    {
     "data": {
      "text/html": [
       "<div>\n",
       "<style scoped>\n",
       "    .dataframe tbody tr th:only-of-type {\n",
       "        vertical-align: middle;\n",
       "    }\n",
       "\n",
       "    .dataframe tbody tr th {\n",
       "        vertical-align: top;\n",
       "    }\n",
       "\n",
       "    .dataframe thead th {\n",
       "        text-align: right;\n",
       "    }\n",
       "</style>\n",
       "<table border=\"1\" class=\"dataframe\">\n",
       "  <thead>\n",
       "    <tr style=\"text-align: right;\">\n",
       "      <th></th>\n",
       "      <th>carat</th>\n",
       "      <th>depth</th>\n",
       "      <th>table</th>\n",
       "      <th>price</th>\n",
       "      <th>x</th>\n",
       "      <th>y</th>\n",
       "      <th>z</th>\n",
       "    </tr>\n",
       "  </thead>\n",
       "  <tbody>\n",
       "    <tr>\n",
       "      <th>count</th>\n",
       "      <td>53940.000000</td>\n",
       "      <td>53940.000000</td>\n",
       "      <td>53940.000000</td>\n",
       "      <td>53940.000000</td>\n",
       "      <td>53940.000000</td>\n",
       "      <td>53940.000000</td>\n",
       "      <td>53940.000000</td>\n",
       "    </tr>\n",
       "    <tr>\n",
       "      <th>mean</th>\n",
       "      <td>0.797940</td>\n",
       "      <td>61.749405</td>\n",
       "      <td>57.457184</td>\n",
       "      <td>3932.799722</td>\n",
       "      <td>5.731157</td>\n",
       "      <td>5.734526</td>\n",
       "      <td>3.538734</td>\n",
       "    </tr>\n",
       "    <tr>\n",
       "      <th>std</th>\n",
       "      <td>0.474011</td>\n",
       "      <td>1.432621</td>\n",
       "      <td>2.234491</td>\n",
       "      <td>3989.439738</td>\n",
       "      <td>1.121761</td>\n",
       "      <td>1.142135</td>\n",
       "      <td>0.705699</td>\n",
       "    </tr>\n",
       "    <tr>\n",
       "      <th>min</th>\n",
       "      <td>0.200000</td>\n",
       "      <td>43.000000</td>\n",
       "      <td>43.000000</td>\n",
       "      <td>326.000000</td>\n",
       "      <td>0.000000</td>\n",
       "      <td>0.000000</td>\n",
       "      <td>0.000000</td>\n",
       "    </tr>\n",
       "    <tr>\n",
       "      <th>25%</th>\n",
       "      <td>0.400000</td>\n",
       "      <td>61.000000</td>\n",
       "      <td>56.000000</td>\n",
       "      <td>950.000000</td>\n",
       "      <td>4.710000</td>\n",
       "      <td>4.720000</td>\n",
       "      <td>2.910000</td>\n",
       "    </tr>\n",
       "    <tr>\n",
       "      <th>50%</th>\n",
       "      <td>0.700000</td>\n",
       "      <td>61.800000</td>\n",
       "      <td>57.000000</td>\n",
       "      <td>2401.000000</td>\n",
       "      <td>5.700000</td>\n",
       "      <td>5.710000</td>\n",
       "      <td>3.530000</td>\n",
       "    </tr>\n",
       "    <tr>\n",
       "      <th>75%</th>\n",
       "      <td>1.040000</td>\n",
       "      <td>62.500000</td>\n",
       "      <td>59.000000</td>\n",
       "      <td>5324.250000</td>\n",
       "      <td>6.540000</td>\n",
       "      <td>6.540000</td>\n",
       "      <td>4.040000</td>\n",
       "    </tr>\n",
       "    <tr>\n",
       "      <th>max</th>\n",
       "      <td>5.010000</td>\n",
       "      <td>79.000000</td>\n",
       "      <td>95.000000</td>\n",
       "      <td>18823.000000</td>\n",
       "      <td>10.740000</td>\n",
       "      <td>58.900000</td>\n",
       "      <td>31.800000</td>\n",
       "    </tr>\n",
       "  </tbody>\n",
       "</table>\n",
       "</div>"
      ],
      "text/plain": [
       "              carat         depth         table         price             x  \\\n",
       "count  53940.000000  53940.000000  53940.000000  53940.000000  53940.000000   \n",
       "mean       0.797940     61.749405     57.457184   3932.799722      5.731157   \n",
       "std        0.474011      1.432621      2.234491   3989.439738      1.121761   \n",
       "min        0.200000     43.000000     43.000000    326.000000      0.000000   \n",
       "25%        0.400000     61.000000     56.000000    950.000000      4.710000   \n",
       "50%        0.700000     61.800000     57.000000   2401.000000      5.700000   \n",
       "75%        1.040000     62.500000     59.000000   5324.250000      6.540000   \n",
       "max        5.010000     79.000000     95.000000  18823.000000     10.740000   \n",
       "\n",
       "                  y             z  \n",
       "count  53940.000000  53940.000000  \n",
       "mean       5.734526      3.538734  \n",
       "std        1.142135      0.705699  \n",
       "min        0.000000      0.000000  \n",
       "25%        4.720000      2.910000  \n",
       "50%        5.710000      3.530000  \n",
       "75%        6.540000      4.040000  \n",
       "max       58.900000     31.800000  "
      ]
     },
     "execution_count": 76,
     "metadata": {},
     "output_type": "execute_result"
    }
   ],
   "source": [
    "diamonds_data.describe()"
   ]
  },
  {
   "cell_type": "markdown",
   "metadata": {},
   "source": [
    "## Correlation Between Features"
   ]
  },
  {
   "cell_type": "code",
   "execution_count": 77,
   "metadata": {},
   "outputs": [
    {
     "data": {
      "text/plain": [
       "<matplotlib.axes._subplots.AxesSubplot at 0x1c2a023278>"
      ]
     },
     "execution_count": 77,
     "metadata": {},
     "output_type": "execute_result"
    },
    {
     "data": {
      "image/png": "[encoded data removed]",
      "text/plain": [
       "<Figure size 432x288 with 2 Axes>"
      ]
     },
     "metadata": {
      "needs_background": "light"
     },
     "output_type": "display_data"
    }
   ],
   "source": [
    "corr = diamonds_data.corr()\n",
    "sns.heatmap(data=corr, square=True , annot=True, cbar=True)"
   ]
  },
  {
   "cell_type": "markdown",
   "metadata": {},
   "source": [
    "In order to make a correlation between all independent variables to that of dependent variable, encoding the categorical variables is essential step."
   ]
  },
  {
   "cell_type": "markdown",
   "metadata": {},
   "source": [
    "### Encoding"
   ]
  },
  {
   "cell_type": "code",
   "execution_count": 78,
   "metadata": {},
   "outputs": [],
   "source": [
    "labelencoder = LabelEncoder()\n",
    "diamonds_data['cut'] = labelencoder.fit_transform(diamonds_data['cut'])\n",
    "diamonds_data['color'] = labelencoder.fit_transform(diamonds_data['color'])\n",
    "diamonds_data['clarity'] = labelencoder.fit_transform(diamonds_data['clarity'])"
   ]
  },
  {
   "cell_type": "code",
   "execution_count": 79,
   "metadata": {},
   "outputs": [
    {
     "data": {
      "text/html": [
       "<div>\n",
       "<style scoped>\n",
       "    .dataframe tbody tr th:only-of-type {\n",
       "        vertical-align: middle;\n",
       "    }\n",
       "\n",
       "    .dataframe tbody tr th {\n",
       "        vertical-align: top;\n",
       "    }\n",
       "\n",
       "    .dataframe thead th {\n",
       "        text-align: right;\n",
       "    }\n",
       "</style>\n",
       "<table border=\"1\" class=\"dataframe\">\n",
       "  <thead>\n",
       "    <tr style=\"text-align: right;\">\n",
       "      <th></th>\n",
       "      <th>carat</th>\n",
       "      <th>cut</th>\n",
       "      <th>color</th>\n",
       "      <th>clarity</th>\n",
       "      <th>depth</th>\n",
       "      <th>table</th>\n",
       "      <th>price</th>\n",
       "      <th>x</th>\n",
       "      <th>y</th>\n",
       "      <th>z</th>\n",
       "    </tr>\n",
       "  </thead>\n",
       "  <tbody>\n",
       "    <tr>\n",
       "      <th>carat</th>\n",
       "      <td>1.00</td>\n",
       "      <td>0.02</td>\n",
       "      <td>0.29</td>\n",
       "      <td>-0.21</td>\n",
       "      <td>0.03</td>\n",
       "      <td>0.18</td>\n",
       "      <td>0.92</td>\n",
       "      <td>0.98</td>\n",
       "      <td>0.95</td>\n",
       "      <td>0.95</td>\n",
       "    </tr>\n",
       "    <tr>\n",
       "      <th>cut</th>\n",
       "      <td>0.02</td>\n",
       "      <td>1.00</td>\n",
       "      <td>0.00</td>\n",
       "      <td>0.03</td>\n",
       "      <td>-0.19</td>\n",
       "      <td>0.15</td>\n",
       "      <td>0.04</td>\n",
       "      <td>0.02</td>\n",
       "      <td>0.03</td>\n",
       "      <td>0.00</td>\n",
       "    </tr>\n",
       "    <tr>\n",
       "      <th>color</th>\n",
       "      <td>0.29</td>\n",
       "      <td>0.00</td>\n",
       "      <td>1.00</td>\n",
       "      <td>-0.03</td>\n",
       "      <td>0.05</td>\n",
       "      <td>0.03</td>\n",
       "      <td>0.17</td>\n",
       "      <td>0.27</td>\n",
       "      <td>0.26</td>\n",
       "      <td>0.27</td>\n",
       "    </tr>\n",
       "    <tr>\n",
       "      <th>clarity</th>\n",
       "      <td>-0.21</td>\n",
       "      <td>0.03</td>\n",
       "      <td>-0.03</td>\n",
       "      <td>1.00</td>\n",
       "      <td>-0.05</td>\n",
       "      <td>-0.09</td>\n",
       "      <td>-0.07</td>\n",
       "      <td>-0.23</td>\n",
       "      <td>-0.22</td>\n",
       "      <td>-0.22</td>\n",
       "    </tr>\n",
       "    <tr>\n",
       "      <th>depth</th>\n",
       "      <td>0.03</td>\n",
       "      <td>-0.19</td>\n",
       "      <td>0.05</td>\n",
       "      <td>-0.05</td>\n",
       "      <td>1.00</td>\n",
       "      <td>-0.30</td>\n",
       "      <td>-0.01</td>\n",
       "      <td>-0.03</td>\n",
       "      <td>-0.03</td>\n",
       "      <td>0.09</td>\n",
       "    </tr>\n",
       "    <tr>\n",
       "      <th>table</th>\n",
       "      <td>0.18</td>\n",
       "      <td>0.15</td>\n",
       "      <td>0.03</td>\n",
       "      <td>-0.09</td>\n",
       "      <td>-0.30</td>\n",
       "      <td>1.00</td>\n",
       "      <td>0.13</td>\n",
       "      <td>0.20</td>\n",
       "      <td>0.18</td>\n",
       "      <td>0.15</td>\n",
       "    </tr>\n",
       "    <tr>\n",
       "      <th>price</th>\n",
       "      <td>0.92</td>\n",
       "      <td>0.04</td>\n",
       "      <td>0.17</td>\n",
       "      <td>-0.07</td>\n",
       "      <td>-0.01</td>\n",
       "      <td>0.13</td>\n",
       "      <td>1.00</td>\n",
       "      <td>0.88</td>\n",
       "      <td>0.87</td>\n",
       "      <td>0.86</td>\n",
       "    </tr>\n",
       "    <tr>\n",
       "      <th>x</th>\n",
       "      <td>0.98</td>\n",
       "      <td>0.02</td>\n",
       "      <td>0.27</td>\n",
       "      <td>-0.23</td>\n",
       "      <td>-0.03</td>\n",
       "      <td>0.20</td>\n",
       "      <td>0.88</td>\n",
       "      <td>1.00</td>\n",
       "      <td>0.97</td>\n",
       "      <td>0.97</td>\n",
       "    </tr>\n",
       "    <tr>\n",
       "      <th>y</th>\n",
       "      <td>0.95</td>\n",
       "      <td>0.03</td>\n",
       "      <td>0.26</td>\n",
       "      <td>-0.22</td>\n",
       "      <td>-0.03</td>\n",
       "      <td>0.18</td>\n",
       "      <td>0.87</td>\n",
       "      <td>0.97</td>\n",
       "      <td>1.00</td>\n",
       "      <td>0.95</td>\n",
       "    </tr>\n",
       "    <tr>\n",
       "      <th>z</th>\n",
       "      <td>0.95</td>\n",
       "      <td>0.00</td>\n",
       "      <td>0.27</td>\n",
       "      <td>-0.22</td>\n",
       "      <td>0.09</td>\n",
       "      <td>0.15</td>\n",
       "      <td>0.86</td>\n",
       "      <td>0.97</td>\n",
       "      <td>0.95</td>\n",
       "      <td>1.00</td>\n",
       "    </tr>\n",
       "  </tbody>\n",
       "</table>\n",
       "</div>"
      ],
      "text/plain": [
       "         carat   cut  color  clarity  depth  table  price     x     y     z\n",
       "carat     1.00  0.02   0.29    -0.21   0.03   0.18   0.92  0.98  0.95  0.95\n",
       "cut       0.02  1.00   0.00     0.03  -0.19   0.15   0.04  0.02  0.03  0.00\n",
       "color     0.29  0.00   1.00    -0.03   0.05   0.03   0.17  0.27  0.26  0.27\n",
       "clarity  -0.21  0.03  -0.03     1.00  -0.05  -0.09  -0.07 -0.23 -0.22 -0.22\n",
       "depth     0.03 -0.19   0.05    -0.05   1.00  -0.30  -0.01 -0.03 -0.03  0.09\n",
       "table     0.18  0.15   0.03    -0.09  -0.30   1.00   0.13  0.20  0.18  0.15\n",
       "price     0.92  0.04   0.17    -0.07  -0.01   0.13   1.00  0.88  0.87  0.86\n",
       "x         0.98  0.02   0.27    -0.23  -0.03   0.20   0.88  1.00  0.97  0.97\n",
       "y         0.95  0.03   0.26    -0.22  -0.03   0.18   0.87  0.97  1.00  0.95\n",
       "z         0.95  0.00   0.27    -0.22   0.09   0.15   0.86  0.97  0.95  1.00"
      ]
     },
     "execution_count": 79,
     "metadata": {},
     "output_type": "execute_result"
    }
   ],
   "source": [
    "corr = diamonds_data.corr()\n",
    "round(corr,2)"
   ]
  },
  {
   "cell_type": "markdown",
   "metadata": {},
   "source": [
    "## Visualization Of All Features"
   ]
  },
  {
   "cell_type": "markdown",
   "metadata": {},
   "source": [
    "### Carat vs Price"
   ]
  },
  {
   "cell_type": "code",
   "execution_count": 80,
   "metadata": {},
   "outputs": [
    {
     "data": {
      "text/plain": [
       "<seaborn.axisgrid.JointGrid at 0x1c29ed57f0>"
      ]
     },
     "execution_count": 80,
     "metadata": {},
     "output_type": "execute_result"
    },
    {
     "data": {
      "image/png": "[encoded data removed]",
      "text/plain": [
       "<Figure size 360x360 with 3 Axes>"
      ]
     },
     "metadata": {
      "needs_background": "light"
     },
     "output_type": "display_data"
    }
   ],
   "source": [
    "sns.jointplot(x='carat' , y='price' , data=diamonds_data , height=5)"
   ]
  },
  {
   "cell_type": "markdown",
   "metadata": {},
   "source": [
    "#### Carat varies with Price Exponentially"
   ]
  },
  {
   "cell_type": "markdown",
   "metadata": {},
   "source": [
    "### Cut vs Price"
   ]
  },
  {
   "cell_type": "code",
   "execution_count": 81,
   "metadata": {},
   "outputs": [
    {
     "data": {
      "text/plain": [
       "<seaborn.axisgrid.FacetGrid at 0x1c2a39ed30>"
      ]
     },
     "execution_count": 81,
     "metadata": {},
     "output_type": "execute_result"
    },
    {
     "data": {
      "image/png": "[encoded data removed]",
      "text/plain": [
       "<Figure size 900x360 with 1 Axes>"
      ]
     },
     "metadata": {
      "needs_background": "light"
     },
     "output_type": "display_data"
    }
   ],
   "source": [
    "sns.catplot(x='cut', y='price', data=diamonds_data, kind='box' ,aspect=2.5 )"
   ]
  },
  {
   "cell_type": "markdown",
   "metadata": {},
   "source": [
    "#### Premium Cut on Diamonds as we can see are the most Expensive, followed by Excellent / Very Good Cut."
   ]
  },
  {
   "cell_type": "markdown",
   "metadata": {},
   "source": [
    "### Clarity vs Price"
   ]
  },
  {
   "cell_type": "code",
   "execution_count": 82,
   "metadata": {},
   "outputs": [
    {
     "data": {
      "text/plain": [
       "<matplotlib.axes._subplots.AxesSubplot at 0x1c2bdf0ac8>"
      ]
     },
     "execution_count": 82,
     "metadata": {},
     "output_type": "execute_result"
    },
    {
     "data": {
      "image/png": "[encoded data removed]",
      "text/plain": [
       "<Figure size 432x288 with 1 Axes>"
      ]
     },
     "metadata": {
      "needs_background": "light"
     },
     "output_type": "display_data"
    }
   ],
   "source": [
    "sns.boxplot(x='clarity', y='price', data=diamonds_data )"
   ]
  },
  {
   "cell_type": "markdown",
   "metadata": {},
   "source": [
    "#### It seems that VS1 and VS2 affect the Diamond's Price equally having quite high Price margin"
   ]
  },
  {
   "cell_type": "markdown",
   "metadata": {},
   "source": [
    "### Depth vs Price"
   ]
  },
  {
   "cell_type": "code",
   "execution_count": 83,
   "metadata": {},
   "outputs": [
    {
     "data": {
      "text/plain": [
       "<seaborn.axisgrid.JointGrid at 0x1c2b610860>"
      ]
     },
     "execution_count": 83,
     "metadata": {},
     "output_type": "execute_result"
    },
    {
     "data": {
      "image/png": "[encoded data removed]",
      "text/plain": [
       "<Figure size 360x360 with 3 Axes>"
      ]
     },
     "metadata": {
      "needs_background": "light"
     },
     "output_type": "display_data"
    }
   ],
   "source": [
    "sns.jointplot(x='depth', y='price' , data=diamonds_data , kind='regplot', height=5)"
   ]
  },
  {
   "cell_type": "markdown",
   "metadata": {},
   "source": [
    "#### We can Infer from the plot that the Price can vary heavily for the same Depth and And the Pearson's Correlation shows that there's a slightly inverse relation between the two."
   ]
  },
  {
   "cell_type": "markdown",
   "metadata": {},
   "source": [
    "### Dimension vs Price"
   ]
  },
  {
   "cell_type": "code",
   "execution_count": 84,
   "metadata": {},
   "outputs": [
    {
     "data": {
      "text/plain": [
       "(2, 10)"
      ]
     },
     "execution_count": 84,
     "metadata": {},
     "output_type": "execute_result"
    },
    {
     "data": {
      "image/png": "[encoded data removed]",
      "text/plain": [
       "<Figure size 432x288 with 1 Axes>"
      ]
     },
     "metadata": {
      "needs_background": "light"
     },
     "output_type": "display_data"
    }
   ],
   "source": [
    "sns.kdeplot(diamonds_data['x'] ,shade=True , color='r' )\n",
    "sns.kdeplot(diamonds_data['y'] , shade=True , color='g' )\n",
    "sns.kdeplot(diamonds_data['z'] , shade= True , color='b')\n",
    "plt.xlim(2,10)"
   ]
  },
  {
   "cell_type": "markdown",
   "metadata": {},
   "source": [
    "#### We'll Create a New Feature based on the Dimensions in the Next Section called 'Dimension' and Visualize how it affects the Price."
   ]
  },
  {
   "cell_type": "markdown",
   "metadata": {},
   "source": [
    "## Observatory Conclusions"
   ]
  },
  {
   "cell_type": "markdown",
   "metadata": {},
   "source": [
    "1.  Depth is inversely related to Price.\n",
    "       This is because if a Diamond's Depth percentage is too large or small the Diamond will become 'Dark' in appearance because it will no longer return an Attractive amount of light.\n",
    "       \n",
    "\n",
    "2.  The Price of the Diamond is highly correlated to Carat, and its Dimensions.\n",
    "\n",
    "\n",
    "3.  The Weight (Carat) of a diamond has the most significant impact on its Price. \n",
    "       Since, the larger a stone is, the Rarer it is, one 2 carat diamond will be more 'Expensive' than the total cost of two 1 Carat Diamonds of the same Quality.\n",
    "       \n",
    "    \n",
    "4.  The Length(x), Width(y) and Depth(z) seems to be higly related to Price and even each other.\n",
    "\n",
    "\n",
    "5.  Self Relation ie. of a feature to itself is 1 as expected.\n",
    "\n",
    "\n",
    "6.  Some other Inferences can also be drawn."
   ]
  },
  {
   "cell_type": "markdown",
   "metadata": {},
   "source": [
    "# Data - Preprocessing of the data"
   ]
  },
  {
   "cell_type": "code",
   "execution_count": 85,
   "metadata": {},
   "outputs": [
    {
     "data": {
      "text/html": [
       "<div>\n",
       "<style scoped>\n",
       "    .dataframe tbody tr th:only-of-type {\n",
       "        vertical-align: middle;\n",
       "    }\n",
       "\n",
       "    .dataframe tbody tr th {\n",
       "        vertical-align: top;\n",
       "    }\n",
       "\n",
       "    .dataframe thead th {\n",
       "        text-align: right;\n",
       "    }\n",
       "</style>\n",
       "<table border=\"1\" class=\"dataframe\">\n",
       "  <thead>\n",
       "    <tr style=\"text-align: right;\">\n",
       "      <th></th>\n",
       "      <th>carat</th>\n",
       "      <th>cut</th>\n",
       "      <th>color</th>\n",
       "      <th>clarity</th>\n",
       "      <th>depth</th>\n",
       "      <th>table</th>\n",
       "      <th>price</th>\n",
       "      <th>x</th>\n",
       "      <th>y</th>\n",
       "      <th>z</th>\n",
       "    </tr>\n",
       "  </thead>\n",
       "  <tbody>\n",
       "    <tr>\n",
       "      <th>count</th>\n",
       "      <td>53940.000000</td>\n",
       "      <td>53940.000000</td>\n",
       "      <td>53940.000000</td>\n",
       "      <td>53940.000000</td>\n",
       "      <td>53940.000000</td>\n",
       "      <td>53940.000000</td>\n",
       "      <td>53940.000000</td>\n",
       "      <td>53940.000000</td>\n",
       "      <td>53940.000000</td>\n",
       "      <td>53940.000000</td>\n",
       "    </tr>\n",
       "    <tr>\n",
       "      <th>mean</th>\n",
       "      <td>0.797940</td>\n",
       "      <td>2.553003</td>\n",
       "      <td>2.594197</td>\n",
       "      <td>3.835150</td>\n",
       "      <td>61.749405</td>\n",
       "      <td>57.457184</td>\n",
       "      <td>3932.799722</td>\n",
       "      <td>5.731157</td>\n",
       "      <td>5.734526</td>\n",
       "      <td>3.538734</td>\n",
       "    </tr>\n",
       "    <tr>\n",
       "      <th>std</th>\n",
       "      <td>0.474011</td>\n",
       "      <td>1.027708</td>\n",
       "      <td>1.701105</td>\n",
       "      <td>1.724591</td>\n",
       "      <td>1.432621</td>\n",
       "      <td>2.234491</td>\n",
       "      <td>3989.439738</td>\n",
       "      <td>1.121761</td>\n",
       "      <td>1.142135</td>\n",
       "      <td>0.705699</td>\n",
       "    </tr>\n",
       "    <tr>\n",
       "      <th>min</th>\n",
       "      <td>0.200000</td>\n",
       "      <td>0.000000</td>\n",
       "      <td>0.000000</td>\n",
       "      <td>0.000000</td>\n",
       "      <td>43.000000</td>\n",
       "      <td>43.000000</td>\n",
       "      <td>326.000000</td>\n",
       "      <td>0.000000</td>\n",
       "      <td>0.000000</td>\n",
       "      <td>0.000000</td>\n",
       "    </tr>\n",
       "    <tr>\n",
       "      <th>25%</th>\n",
       "      <td>0.400000</td>\n",
       "      <td>2.000000</td>\n",
       "      <td>1.000000</td>\n",
       "      <td>2.000000</td>\n",
       "      <td>61.000000</td>\n",
       "      <td>56.000000</td>\n",
       "      <td>950.000000</td>\n",
       "      <td>4.710000</td>\n",
       "      <td>4.720000</td>\n",
       "      <td>2.910000</td>\n",
       "    </tr>\n",
       "    <tr>\n",
       "      <th>50%</th>\n",
       "      <td>0.700000</td>\n",
       "      <td>2.000000</td>\n",
       "      <td>3.000000</td>\n",
       "      <td>4.000000</td>\n",
       "      <td>61.800000</td>\n",
       "      <td>57.000000</td>\n",
       "      <td>2401.000000</td>\n",
       "      <td>5.700000</td>\n",
       "      <td>5.710000</td>\n",
       "      <td>3.530000</td>\n",
       "    </tr>\n",
       "    <tr>\n",
       "      <th>75%</th>\n",
       "      <td>1.040000</td>\n",
       "      <td>3.000000</td>\n",
       "      <td>4.000000</td>\n",
       "      <td>5.000000</td>\n",
       "      <td>62.500000</td>\n",
       "      <td>59.000000</td>\n",
       "      <td>5324.250000</td>\n",
       "      <td>6.540000</td>\n",
       "      <td>6.540000</td>\n",
       "      <td>4.040000</td>\n",
       "    </tr>\n",
       "    <tr>\n",
       "      <th>max</th>\n",
       "      <td>5.010000</td>\n",
       "      <td>4.000000</td>\n",
       "      <td>6.000000</td>\n",
       "      <td>7.000000</td>\n",
       "      <td>79.000000</td>\n",
       "      <td>95.000000</td>\n",
       "      <td>18823.000000</td>\n",
       "      <td>10.740000</td>\n",
       "      <td>58.900000</td>\n",
       "      <td>31.800000</td>\n",
       "    </tr>\n",
       "  </tbody>\n",
       "</table>\n",
       "</div>"
      ],
      "text/plain": [
       "              carat           cut         color       clarity         depth  \\\n",
       "count  53940.000000  53940.000000  53940.000000  53940.000000  53940.000000   \n",
       "mean       0.797940      2.553003      2.594197      3.835150     61.749405   \n",
       "std        0.474011      1.027708      1.701105      1.724591      1.432621   \n",
       "min        0.200000      0.000000      0.000000      0.000000     43.000000   \n",
       "25%        0.400000      2.000000      1.000000      2.000000     61.000000   \n",
       "50%        0.700000      2.000000      3.000000      4.000000     61.800000   \n",
       "75%        1.040000      3.000000      4.000000      5.000000     62.500000   \n",
       "max        5.010000      4.000000      6.000000      7.000000     79.000000   \n",
       "\n",
       "              table         price             x             y             z  \n",
       "count  53940.000000  53940.000000  53940.000000  53940.000000  53940.000000  \n",
       "mean      57.457184   3932.799722      5.731157      5.734526      3.538734  \n",
       "std        2.234491   3989.439738      1.121761      1.142135      0.705699  \n",
       "min       43.000000    326.000000      0.000000      0.000000      0.000000  \n",
       "25%       56.000000    950.000000      4.710000      4.720000      2.910000  \n",
       "50%       57.000000   2401.000000      5.700000      5.710000      3.530000  \n",
       "75%       59.000000   5324.250000      6.540000      6.540000      4.040000  \n",
       "max       95.000000  18823.000000     10.740000     58.900000     31.800000  "
      ]
     },
     "execution_count": 85,
     "metadata": {},
     "output_type": "execute_result"
    }
   ],
   "source": [
    "diamonds_data.describe()"
   ]
  },
  {
   "cell_type": "markdown",
   "metadata": {},
   "source": [
    "## Feature Extraction\n",
    "\n",
    "Creating a new Feature based on the Dimensions in the Next Section called 'Dimension' to Visualize how it affects the Price."
   ]
  },
  {
   "cell_type": "code",
   "execution_count": 86,
   "metadata": {},
   "outputs": [],
   "source": [
    "diamonds_data['dimension'] = diamonds_data['x'] * diamonds_data['y'] * diamonds_data['z']"
   ]
  },
  {
   "cell_type": "markdown",
   "metadata": {},
   "source": [
    "## Encoding \n",
    "\n",
    "Encoding Categorical Variables 'Cut', 'Color', 'Clarity'"
   ]
  },
  {
   "cell_type": "code",
   "execution_count": 87,
   "metadata": {},
   "outputs": [],
   "source": [
    "labelencoder = LabelEncoder()\n",
    "diamonds_data['cut'] = labelencoder.fit_transform(diamonds_data['cut'])\n",
    "diamonds_data['color'] = labelencoder.fit_transform(diamonds_data['color'])\n",
    "diamonds_data['clarity'] = labelencoder.fit_transform(diamonds_data['clarity'])"
   ]
  },
  {
   "cell_type": "code",
   "execution_count": 88,
   "metadata": {},
   "outputs": [
    {
     "data": {
      "text/html": [
       "<div>\n",
       "<style scoped>\n",
       "    .dataframe tbody tr th:only-of-type {\n",
       "        vertical-align: middle;\n",
       "    }\n",
       "\n",
       "    .dataframe tbody tr th {\n",
       "        vertical-align: top;\n",
       "    }\n",
       "\n",
       "    .dataframe thead th {\n",
       "        text-align: right;\n",
       "    }\n",
       "</style>\n",
       "<table border=\"1\" class=\"dataframe\">\n",
       "  <thead>\n",
       "    <tr style=\"text-align: right;\">\n",
       "      <th></th>\n",
       "      <th>carat</th>\n",
       "      <th>cut</th>\n",
       "      <th>color</th>\n",
       "      <th>clarity</th>\n",
       "      <th>depth</th>\n",
       "      <th>table</th>\n",
       "      <th>price</th>\n",
       "      <th>x</th>\n",
       "      <th>y</th>\n",
       "      <th>z</th>\n",
       "      <th>dimension</th>\n",
       "    </tr>\n",
       "  </thead>\n",
       "  <tbody>\n",
       "    <tr>\n",
       "      <th>1</th>\n",
       "      <td>0.23</td>\n",
       "      <td>2</td>\n",
       "      <td>1</td>\n",
       "      <td>3</td>\n",
       "      <td>61.5</td>\n",
       "      <td>55.0</td>\n",
       "      <td>326</td>\n",
       "      <td>3.95</td>\n",
       "      <td>3.98</td>\n",
       "      <td>2.43</td>\n",
       "      <td>38.202030</td>\n",
       "    </tr>\n",
       "    <tr>\n",
       "      <th>2</th>\n",
       "      <td>0.21</td>\n",
       "      <td>3</td>\n",
       "      <td>1</td>\n",
       "      <td>2</td>\n",
       "      <td>59.8</td>\n",
       "      <td>61.0</td>\n",
       "      <td>326</td>\n",
       "      <td>3.89</td>\n",
       "      <td>3.84</td>\n",
       "      <td>2.31</td>\n",
       "      <td>34.505856</td>\n",
       "    </tr>\n",
       "    <tr>\n",
       "      <th>3</th>\n",
       "      <td>0.23</td>\n",
       "      <td>1</td>\n",
       "      <td>1</td>\n",
       "      <td>4</td>\n",
       "      <td>56.9</td>\n",
       "      <td>65.0</td>\n",
       "      <td>327</td>\n",
       "      <td>4.05</td>\n",
       "      <td>4.07</td>\n",
       "      <td>2.31</td>\n",
       "      <td>38.076885</td>\n",
       "    </tr>\n",
       "    <tr>\n",
       "      <th>4</th>\n",
       "      <td>0.29</td>\n",
       "      <td>3</td>\n",
       "      <td>5</td>\n",
       "      <td>5</td>\n",
       "      <td>62.4</td>\n",
       "      <td>58.0</td>\n",
       "      <td>334</td>\n",
       "      <td>4.20</td>\n",
       "      <td>4.23</td>\n",
       "      <td>2.63</td>\n",
       "      <td>46.724580</td>\n",
       "    </tr>\n",
       "    <tr>\n",
       "      <th>5</th>\n",
       "      <td>0.31</td>\n",
       "      <td>1</td>\n",
       "      <td>6</td>\n",
       "      <td>3</td>\n",
       "      <td>63.3</td>\n",
       "      <td>58.0</td>\n",
       "      <td>335</td>\n",
       "      <td>4.34</td>\n",
       "      <td>4.35</td>\n",
       "      <td>2.75</td>\n",
       "      <td>51.917250</td>\n",
       "    </tr>\n",
       "  </tbody>\n",
       "</table>\n",
       "</div>"
      ],
      "text/plain": [
       "   carat  cut  color  clarity  depth  table  price     x     y     z  \\\n",
       "1   0.23    2      1        3   61.5   55.0    326  3.95  3.98  2.43   \n",
       "2   0.21    3      1        2   59.8   61.0    326  3.89  3.84  2.31   \n",
       "3   0.23    1      1        4   56.9   65.0    327  4.05  4.07  2.31   \n",
       "4   0.29    3      5        5   62.4   58.0    334  4.20  4.23  2.63   \n",
       "5   0.31    1      6        3   63.3   58.0    335  4.34  4.35  2.75   \n",
       "\n",
       "   dimension  \n",
       "1  38.202030  \n",
       "2  34.505856  \n",
       "3  38.076885  \n",
       "4  46.724580  \n",
       "5  51.917250  "
      ]
     },
     "execution_count": 88,
     "metadata": {},
     "output_type": "execute_result"
    }
   ],
   "source": [
    "diamonds_data.head()"
   ]
  },
  {
   "cell_type": "code",
   "execution_count": 89,
   "metadata": {},
   "outputs": [
    {
     "data": {
      "text/html": [
       "<div>\n",
       "<style scoped>\n",
       "    .dataframe tbody tr th:only-of-type {\n",
       "        vertical-align: middle;\n",
       "    }\n",
       "\n",
       "    .dataframe tbody tr th {\n",
       "        vertical-align: top;\n",
       "    }\n",
       "\n",
       "    .dataframe thead th {\n",
       "        text-align: right;\n",
       "    }\n",
       "</style>\n",
       "<table border=\"1\" class=\"dataframe\">\n",
       "  <thead>\n",
       "    <tr style=\"text-align: right;\">\n",
       "      <th></th>\n",
       "      <th>carat</th>\n",
       "      <th>cut</th>\n",
       "      <th>color</th>\n",
       "      <th>clarity</th>\n",
       "      <th>depth</th>\n",
       "      <th>table</th>\n",
       "      <th>price</th>\n",
       "      <th>x</th>\n",
       "      <th>y</th>\n",
       "      <th>z</th>\n",
       "      <th>dimension</th>\n",
       "    </tr>\n",
       "  </thead>\n",
       "  <tbody>\n",
       "    <tr>\n",
       "      <th>count</th>\n",
       "      <td>53940.000000</td>\n",
       "      <td>53940.000000</td>\n",
       "      <td>53940.000000</td>\n",
       "      <td>53940.000000</td>\n",
       "      <td>53940.000000</td>\n",
       "      <td>53940.000000</td>\n",
       "      <td>53940.000000</td>\n",
       "      <td>53940.000000</td>\n",
       "      <td>53940.000000</td>\n",
       "      <td>53940.000000</td>\n",
       "      <td>53940.000000</td>\n",
       "    </tr>\n",
       "    <tr>\n",
       "      <th>mean</th>\n",
       "      <td>0.797940</td>\n",
       "      <td>2.553003</td>\n",
       "      <td>2.594197</td>\n",
       "      <td>3.835150</td>\n",
       "      <td>61.749405</td>\n",
       "      <td>57.457184</td>\n",
       "      <td>3932.799722</td>\n",
       "      <td>5.731157</td>\n",
       "      <td>5.734526</td>\n",
       "      <td>3.538734</td>\n",
       "      <td>129.849403</td>\n",
       "    </tr>\n",
       "    <tr>\n",
       "      <th>std</th>\n",
       "      <td>0.474011</td>\n",
       "      <td>1.027708</td>\n",
       "      <td>1.701105</td>\n",
       "      <td>1.724591</td>\n",
       "      <td>1.432621</td>\n",
       "      <td>2.234491</td>\n",
       "      <td>3989.439738</td>\n",
       "      <td>1.121761</td>\n",
       "      <td>1.142135</td>\n",
       "      <td>0.705699</td>\n",
       "      <td>78.245262</td>\n",
       "    </tr>\n",
       "    <tr>\n",
       "      <th>min</th>\n",
       "      <td>0.200000</td>\n",
       "      <td>0.000000</td>\n",
       "      <td>0.000000</td>\n",
       "      <td>0.000000</td>\n",
       "      <td>43.000000</td>\n",
       "      <td>43.000000</td>\n",
       "      <td>326.000000</td>\n",
       "      <td>0.000000</td>\n",
       "      <td>0.000000</td>\n",
       "      <td>0.000000</td>\n",
       "      <td>0.000000</td>\n",
       "    </tr>\n",
       "    <tr>\n",
       "      <th>25%</th>\n",
       "      <td>0.400000</td>\n",
       "      <td>2.000000</td>\n",
       "      <td>1.000000</td>\n",
       "      <td>2.000000</td>\n",
       "      <td>61.000000</td>\n",
       "      <td>56.000000</td>\n",
       "      <td>950.000000</td>\n",
       "      <td>4.710000</td>\n",
       "      <td>4.720000</td>\n",
       "      <td>2.910000</td>\n",
       "      <td>65.136830</td>\n",
       "    </tr>\n",
       "    <tr>\n",
       "      <th>50%</th>\n",
       "      <td>0.700000</td>\n",
       "      <td>2.000000</td>\n",
       "      <td>3.000000</td>\n",
       "      <td>4.000000</td>\n",
       "      <td>61.800000</td>\n",
       "      <td>57.000000</td>\n",
       "      <td>2401.000000</td>\n",
       "      <td>5.700000</td>\n",
       "      <td>5.710000</td>\n",
       "      <td>3.530000</td>\n",
       "      <td>114.808572</td>\n",
       "    </tr>\n",
       "    <tr>\n",
       "      <th>75%</th>\n",
       "      <td>1.040000</td>\n",
       "      <td>3.000000</td>\n",
       "      <td>4.000000</td>\n",
       "      <td>5.000000</td>\n",
       "      <td>62.500000</td>\n",
       "      <td>59.000000</td>\n",
       "      <td>5324.250000</td>\n",
       "      <td>6.540000</td>\n",
       "      <td>6.540000</td>\n",
       "      <td>4.040000</td>\n",
       "      <td>170.842451</td>\n",
       "    </tr>\n",
       "    <tr>\n",
       "      <th>max</th>\n",
       "      <td>5.010000</td>\n",
       "      <td>4.000000</td>\n",
       "      <td>6.000000</td>\n",
       "      <td>7.000000</td>\n",
       "      <td>79.000000</td>\n",
       "      <td>95.000000</td>\n",
       "      <td>18823.000000</td>\n",
       "      <td>10.740000</td>\n",
       "      <td>58.900000</td>\n",
       "      <td>31.800000</td>\n",
       "      <td>3840.598060</td>\n",
       "    </tr>\n",
       "  </tbody>\n",
       "</table>\n",
       "</div>"
      ],
      "text/plain": [
       "              carat           cut         color       clarity         depth  \\\n",
       "count  53940.000000  53940.000000  53940.000000  53940.000000  53940.000000   \n",
       "mean       0.797940      2.553003      2.594197      3.835150     61.749405   \n",
       "std        0.474011      1.027708      1.701105      1.724591      1.432621   \n",
       "min        0.200000      0.000000      0.000000      0.000000     43.000000   \n",
       "25%        0.400000      2.000000      1.000000      2.000000     61.000000   \n",
       "50%        0.700000      2.000000      3.000000      4.000000     61.800000   \n",
       "75%        1.040000      3.000000      4.000000      5.000000     62.500000   \n",
       "max        5.010000      4.000000      6.000000      7.000000     79.000000   \n",
       "\n",
       "              table         price             x             y             z  \\\n",
       "count  53940.000000  53940.000000  53940.000000  53940.000000  53940.000000   \n",
       "mean      57.457184   3932.799722      5.731157      5.734526      3.538734   \n",
       "std        2.234491   3989.439738      1.121761      1.142135      0.705699   \n",
       "min       43.000000    326.000000      0.000000      0.000000      0.000000   \n",
       "25%       56.000000    950.000000      4.710000      4.720000      2.910000   \n",
       "50%       57.000000   2401.000000      5.700000      5.710000      3.530000   \n",
       "75%       59.000000   5324.250000      6.540000      6.540000      4.040000   \n",
       "max       95.000000  18823.000000     10.740000     58.900000     31.800000   \n",
       "\n",
       "          dimension  \n",
       "count  53940.000000  \n",
       "mean     129.849403  \n",
       "std       78.245262  \n",
       "min        0.000000  \n",
       "25%       65.136830  \n",
       "50%      114.808572  \n",
       "75%      170.842451  \n",
       "max     3840.598060  "
      ]
     },
     "execution_count": 89,
     "metadata": {},
     "output_type": "execute_result"
    }
   ],
   "source": [
    "diamonds_data.describe()"
   ]
  },
  {
   "cell_type": "markdown",
   "metadata": {},
   "source": [
    "From above descriptive data, its not possible to have either of Length or Width or Depth to be zero Let see how much such data is present:"
   ]
  },
  {
   "cell_type": "code",
   "execution_count": 90,
   "metadata": {},
   "outputs": [
    {
     "data": {
      "text/html": [
       "<div>\n",
       "<style scoped>\n",
       "    .dataframe tbody tr th:only-of-type {\n",
       "        vertical-align: middle;\n",
       "    }\n",
       "\n",
       "    .dataframe tbody tr th {\n",
       "        vertical-align: top;\n",
       "    }\n",
       "\n",
       "    .dataframe thead th {\n",
       "        text-align: right;\n",
       "    }\n",
       "</style>\n",
       "<table border=\"1\" class=\"dataframe\">\n",
       "  <thead>\n",
       "    <tr style=\"text-align: right;\">\n",
       "      <th></th>\n",
       "      <th>carat</th>\n",
       "      <th>cut</th>\n",
       "      <th>color</th>\n",
       "      <th>clarity</th>\n",
       "      <th>depth</th>\n",
       "      <th>table</th>\n",
       "      <th>price</th>\n",
       "      <th>x</th>\n",
       "      <th>y</th>\n",
       "      <th>z</th>\n",
       "      <th>dimension</th>\n",
       "    </tr>\n",
       "  </thead>\n",
       "  <tbody>\n",
       "    <tr>\n",
       "      <th>2208</th>\n",
       "      <td>1.00</td>\n",
       "      <td>3</td>\n",
       "      <td>3</td>\n",
       "      <td>3</td>\n",
       "      <td>59.1</td>\n",
       "      <td>59.0</td>\n",
       "      <td>3142</td>\n",
       "      <td>6.55</td>\n",
       "      <td>6.48</td>\n",
       "      <td>0.0</td>\n",
       "      <td>0.0</td>\n",
       "    </tr>\n",
       "    <tr>\n",
       "      <th>2315</th>\n",
       "      <td>1.01</td>\n",
       "      <td>3</td>\n",
       "      <td>4</td>\n",
       "      <td>0</td>\n",
       "      <td>58.1</td>\n",
       "      <td>59.0</td>\n",
       "      <td>3167</td>\n",
       "      <td>6.66</td>\n",
       "      <td>6.60</td>\n",
       "      <td>0.0</td>\n",
       "      <td>0.0</td>\n",
       "    </tr>\n",
       "    <tr>\n",
       "      <th>4792</th>\n",
       "      <td>1.10</td>\n",
       "      <td>3</td>\n",
       "      <td>3</td>\n",
       "      <td>3</td>\n",
       "      <td>63.0</td>\n",
       "      <td>59.0</td>\n",
       "      <td>3696</td>\n",
       "      <td>6.50</td>\n",
       "      <td>6.47</td>\n",
       "      <td>0.0</td>\n",
       "      <td>0.0</td>\n",
       "    </tr>\n",
       "    <tr>\n",
       "      <th>5472</th>\n",
       "      <td>1.01</td>\n",
       "      <td>3</td>\n",
       "      <td>2</td>\n",
       "      <td>3</td>\n",
       "      <td>59.2</td>\n",
       "      <td>58.0</td>\n",
       "      <td>3837</td>\n",
       "      <td>6.50</td>\n",
       "      <td>6.47</td>\n",
       "      <td>0.0</td>\n",
       "      <td>0.0</td>\n",
       "    </tr>\n",
       "    <tr>\n",
       "      <th>10168</th>\n",
       "      <td>1.50</td>\n",
       "      <td>1</td>\n",
       "      <td>3</td>\n",
       "      <td>0</td>\n",
       "      <td>64.0</td>\n",
       "      <td>61.0</td>\n",
       "      <td>4731</td>\n",
       "      <td>7.15</td>\n",
       "      <td>7.04</td>\n",
       "      <td>0.0</td>\n",
       "      <td>0.0</td>\n",
       "    </tr>\n",
       "    <tr>\n",
       "      <th>11183</th>\n",
       "      <td>1.07</td>\n",
       "      <td>2</td>\n",
       "      <td>2</td>\n",
       "      <td>3</td>\n",
       "      <td>61.6</td>\n",
       "      <td>56.0</td>\n",
       "      <td>4954</td>\n",
       "      <td>0.00</td>\n",
       "      <td>6.62</td>\n",
       "      <td>0.0</td>\n",
       "      <td>0.0</td>\n",
       "    </tr>\n",
       "    <tr>\n",
       "      <th>11964</th>\n",
       "      <td>1.00</td>\n",
       "      <td>4</td>\n",
       "      <td>4</td>\n",
       "      <td>5</td>\n",
       "      <td>63.3</td>\n",
       "      <td>53.0</td>\n",
       "      <td>5139</td>\n",
       "      <td>0.00</td>\n",
       "      <td>0.00</td>\n",
       "      <td>0.0</td>\n",
       "      <td>0.0</td>\n",
       "    </tr>\n",
       "    <tr>\n",
       "      <th>13602</th>\n",
       "      <td>1.15</td>\n",
       "      <td>2</td>\n",
       "      <td>3</td>\n",
       "      <td>5</td>\n",
       "      <td>59.2</td>\n",
       "      <td>56.0</td>\n",
       "      <td>5564</td>\n",
       "      <td>6.88</td>\n",
       "      <td>6.83</td>\n",
       "      <td>0.0</td>\n",
       "      <td>0.0</td>\n",
       "    </tr>\n",
       "    <tr>\n",
       "      <th>15952</th>\n",
       "      <td>1.14</td>\n",
       "      <td>0</td>\n",
       "      <td>3</td>\n",
       "      <td>4</td>\n",
       "      <td>57.5</td>\n",
       "      <td>67.0</td>\n",
       "      <td>6381</td>\n",
       "      <td>0.00</td>\n",
       "      <td>0.00</td>\n",
       "      <td>0.0</td>\n",
       "      <td>0.0</td>\n",
       "    </tr>\n",
       "    <tr>\n",
       "      <th>24395</th>\n",
       "      <td>2.18</td>\n",
       "      <td>3</td>\n",
       "      <td>4</td>\n",
       "      <td>3</td>\n",
       "      <td>59.4</td>\n",
       "      <td>61.0</td>\n",
       "      <td>12631</td>\n",
       "      <td>8.49</td>\n",
       "      <td>8.45</td>\n",
       "      <td>0.0</td>\n",
       "      <td>0.0</td>\n",
       "    </tr>\n",
       "    <tr>\n",
       "      <th>24521</th>\n",
       "      <td>1.56</td>\n",
       "      <td>2</td>\n",
       "      <td>3</td>\n",
       "      <td>5</td>\n",
       "      <td>62.2</td>\n",
       "      <td>54.0</td>\n",
       "      <td>12800</td>\n",
       "      <td>0.00</td>\n",
       "      <td>0.00</td>\n",
       "      <td>0.0</td>\n",
       "      <td>0.0</td>\n",
       "    </tr>\n",
       "    <tr>\n",
       "      <th>26124</th>\n",
       "      <td>2.25</td>\n",
       "      <td>3</td>\n",
       "      <td>5</td>\n",
       "      <td>2</td>\n",
       "      <td>61.3</td>\n",
       "      <td>58.0</td>\n",
       "      <td>15397</td>\n",
       "      <td>8.52</td>\n",
       "      <td>8.42</td>\n",
       "      <td>0.0</td>\n",
       "      <td>0.0</td>\n",
       "    </tr>\n",
       "    <tr>\n",
       "      <th>26244</th>\n",
       "      <td>1.20</td>\n",
       "      <td>3</td>\n",
       "      <td>0</td>\n",
       "      <td>6</td>\n",
       "      <td>62.1</td>\n",
       "      <td>59.0</td>\n",
       "      <td>15686</td>\n",
       "      <td>0.00</td>\n",
       "      <td>0.00</td>\n",
       "      <td>0.0</td>\n",
       "      <td>0.0</td>\n",
       "    </tr>\n",
       "    <tr>\n",
       "      <th>27113</th>\n",
       "      <td>2.20</td>\n",
       "      <td>3</td>\n",
       "      <td>4</td>\n",
       "      <td>2</td>\n",
       "      <td>61.2</td>\n",
       "      <td>59.0</td>\n",
       "      <td>17265</td>\n",
       "      <td>8.42</td>\n",
       "      <td>8.37</td>\n",
       "      <td>0.0</td>\n",
       "      <td>0.0</td>\n",
       "    </tr>\n",
       "    <tr>\n",
       "      <th>27430</th>\n",
       "      <td>2.25</td>\n",
       "      <td>3</td>\n",
       "      <td>4</td>\n",
       "      <td>3</td>\n",
       "      <td>62.8</td>\n",
       "      <td>59.0</td>\n",
       "      <td>18034</td>\n",
       "      <td>0.00</td>\n",
       "      <td>0.00</td>\n",
       "      <td>0.0</td>\n",
       "      <td>0.0</td>\n",
       "    </tr>\n",
       "    <tr>\n",
       "      <th>27504</th>\n",
       "      <td>2.02</td>\n",
       "      <td>3</td>\n",
       "      <td>4</td>\n",
       "      <td>5</td>\n",
       "      <td>62.7</td>\n",
       "      <td>53.0</td>\n",
       "      <td>18207</td>\n",
       "      <td>8.02</td>\n",
       "      <td>7.95</td>\n",
       "      <td>0.0</td>\n",
       "      <td>0.0</td>\n",
       "    </tr>\n",
       "    <tr>\n",
       "      <th>27740</th>\n",
       "      <td>2.80</td>\n",
       "      <td>1</td>\n",
       "      <td>3</td>\n",
       "      <td>3</td>\n",
       "      <td>63.8</td>\n",
       "      <td>58.0</td>\n",
       "      <td>18788</td>\n",
       "      <td>8.90</td>\n",
       "      <td>8.85</td>\n",
       "      <td>0.0</td>\n",
       "      <td>0.0</td>\n",
       "    </tr>\n",
       "    <tr>\n",
       "      <th>49557</th>\n",
       "      <td>0.71</td>\n",
       "      <td>1</td>\n",
       "      <td>2</td>\n",
       "      <td>3</td>\n",
       "      <td>64.1</td>\n",
       "      <td>60.0</td>\n",
       "      <td>2130</td>\n",
       "      <td>0.00</td>\n",
       "      <td>0.00</td>\n",
       "      <td>0.0</td>\n",
       "      <td>0.0</td>\n",
       "    </tr>\n",
       "    <tr>\n",
       "      <th>49558</th>\n",
       "      <td>0.71</td>\n",
       "      <td>1</td>\n",
       "      <td>2</td>\n",
       "      <td>3</td>\n",
       "      <td>64.1</td>\n",
       "      <td>60.0</td>\n",
       "      <td>2130</td>\n",
       "      <td>0.00</td>\n",
       "      <td>0.00</td>\n",
       "      <td>0.0</td>\n",
       "      <td>0.0</td>\n",
       "    </tr>\n",
       "    <tr>\n",
       "      <th>51507</th>\n",
       "      <td>1.12</td>\n",
       "      <td>3</td>\n",
       "      <td>3</td>\n",
       "      <td>0</td>\n",
       "      <td>60.4</td>\n",
       "      <td>59.0</td>\n",
       "      <td>2383</td>\n",
       "      <td>6.71</td>\n",
       "      <td>6.67</td>\n",
       "      <td>0.0</td>\n",
       "      <td>0.0</td>\n",
       "    </tr>\n",
       "  </tbody>\n",
       "</table>\n",
       "</div>"
      ],
      "text/plain": [
       "       carat  cut  color  clarity  depth  table  price     x     y    z  \\\n",
       "2208    1.00    3      3        3   59.1   59.0   3142  6.55  6.48  0.0   \n",
       "2315    1.01    3      4        0   58.1   59.0   3167  6.66  6.60  0.0   \n",
       "4792    1.10    3      3        3   63.0   59.0   3696  6.50  6.47  0.0   \n",
       "5472    1.01    3      2        3   59.2   58.0   3837  6.50  6.47  0.0   \n",
       "10168   1.50    1      3        0   64.0   61.0   4731  7.15  7.04  0.0   \n",
       "11183   1.07    2      2        3   61.6   56.0   4954  0.00  6.62  0.0   \n",
       "11964   1.00    4      4        5   63.3   53.0   5139  0.00  0.00  0.0   \n",
       "13602   1.15    2      3        5   59.2   56.0   5564  6.88  6.83  0.0   \n",
       "15952   1.14    0      3        4   57.5   67.0   6381  0.00  0.00  0.0   \n",
       "24395   2.18    3      4        3   59.4   61.0  12631  8.49  8.45  0.0   \n",
       "24521   1.56    2      3        5   62.2   54.0  12800  0.00  0.00  0.0   \n",
       "26124   2.25    3      5        2   61.3   58.0  15397  8.52  8.42  0.0   \n",
       "26244   1.20    3      0        6   62.1   59.0  15686  0.00  0.00  0.0   \n",
       "27113   2.20    3      4        2   61.2   59.0  17265  8.42  8.37  0.0   \n",
       "27430   2.25    3      4        3   62.8   59.0  18034  0.00  0.00  0.0   \n",
       "27504   2.02    3      4        5   62.7   53.0  18207  8.02  7.95  0.0   \n",
       "27740   2.80    1      3        3   63.8   58.0  18788  8.90  8.85  0.0   \n",
       "49557   0.71    1      2        3   64.1   60.0   2130  0.00  0.00  0.0   \n",
       "49558   0.71    1      2        3   64.1   60.0   2130  0.00  0.00  0.0   \n",
       "51507   1.12    3      3        0   60.4   59.0   2383  6.71  6.67  0.0   \n",
       "\n",
       "       dimension  \n",
       "2208         0.0  \n",
       "2315         0.0  \n",
       "4792         0.0  \n",
       "5472         0.0  \n",
       "10168        0.0  \n",
       "11183        0.0  \n",
       "11964        0.0  \n",
       "13602        0.0  \n",
       "15952        0.0  \n",
       "24395        0.0  \n",
       "24521        0.0  \n",
       "26124        0.0  \n",
       "26244        0.0  \n",
       "27113        0.0  \n",
       "27430        0.0  \n",
       "27504        0.0  \n",
       "27740        0.0  \n",
       "49557        0.0  \n",
       "49558        0.0  \n",
       "51507        0.0  "
      ]
     },
     "execution_count": 90,
     "metadata": {},
     "output_type": "execute_result"
    }
   ],
   "source": [
    "diamonds_data.loc[(diamonds_data['dimension']==0)]"
   ]
  },
  {
   "cell_type": "code",
   "execution_count": 91,
   "metadata": {},
   "outputs": [
    {
     "data": {
      "text/plain": [
       "20"
      ]
     },
     "execution_count": 91,
     "metadata": {},
     "output_type": "execute_result"
    }
   ],
   "source": [
    "len(diamonds_data.loc[(diamonds_data['x']==0) | (diamonds_data['y']==0) | (diamonds_data['z']==0)])"
   ]
  },
  {
   "cell_type": "markdown",
   "metadata": {},
   "source": [
    "There are 20 rows with Dimensions 'Zero'.Dropping them as it seems better choice instead of filling them with any of Mean or Median."
   ]
  },
  {
   "cell_type": "code",
   "execution_count": 92,
   "metadata": {},
   "outputs": [],
   "source": [
    "diamonds_data.drop(diamonds_data[diamonds_data['dimension'] == 0].index, inplace = True) "
   ]
  },
  {
   "cell_type": "code",
   "execution_count": 93,
   "metadata": {},
   "outputs": [
    {
     "data": {
      "text/html": [
       "<div>\n",
       "<style scoped>\n",
       "    .dataframe tbody tr th:only-of-type {\n",
       "        vertical-align: middle;\n",
       "    }\n",
       "\n",
       "    .dataframe tbody tr th {\n",
       "        vertical-align: top;\n",
       "    }\n",
       "\n",
       "    .dataframe thead th {\n",
       "        text-align: right;\n",
       "    }\n",
       "</style>\n",
       "<table border=\"1\" class=\"dataframe\">\n",
       "  <thead>\n",
       "    <tr style=\"text-align: right;\">\n",
       "      <th></th>\n",
       "      <th>carat</th>\n",
       "      <th>cut</th>\n",
       "      <th>color</th>\n",
       "      <th>clarity</th>\n",
       "      <th>depth</th>\n",
       "      <th>table</th>\n",
       "      <th>price</th>\n",
       "      <th>x</th>\n",
       "      <th>y</th>\n",
       "      <th>z</th>\n",
       "      <th>dimension</th>\n",
       "    </tr>\n",
       "  </thead>\n",
       "  <tbody>\n",
       "  </tbody>\n",
       "</table>\n",
       "</div>"
      ],
      "text/plain": [
       "Empty DataFrame\n",
       "Columns: [carat, cut, color, clarity, depth, table, price, x, y, z, dimension]\n",
       "Index: []"
      ]
     },
     "execution_count": 93,
     "metadata": {},
     "output_type": "execute_result"
    }
   ],
   "source": [
    "diamonds_data.loc[(diamonds_data['x']==0) | (diamonds_data['y']==0) | (diamonds_data['z']==0)]"
   ]
  },
  {
   "cell_type": "code",
   "execution_count": 94,
   "metadata": {},
   "outputs": [
    {
     "data": {
      "text/html": [
       "<div>\n",
       "<style scoped>\n",
       "    .dataframe tbody tr th:only-of-type {\n",
       "        vertical-align: middle;\n",
       "    }\n",
       "\n",
       "    .dataframe tbody tr th {\n",
       "        vertical-align: top;\n",
       "    }\n",
       "\n",
       "    .dataframe thead th {\n",
       "        text-align: right;\n",
       "    }\n",
       "</style>\n",
       "<table border=\"1\" class=\"dataframe\">\n",
       "  <thead>\n",
       "    <tr style=\"text-align: right;\">\n",
       "      <th></th>\n",
       "      <th>carat</th>\n",
       "      <th>cut</th>\n",
       "      <th>color</th>\n",
       "      <th>clarity</th>\n",
       "      <th>depth</th>\n",
       "      <th>table</th>\n",
       "      <th>price</th>\n",
       "      <th>x</th>\n",
       "      <th>y</th>\n",
       "      <th>z</th>\n",
       "      <th>dimension</th>\n",
       "    </tr>\n",
       "  </thead>\n",
       "  <tbody>\n",
       "    <tr>\n",
       "      <th>carat</th>\n",
       "      <td>1.00</td>\n",
       "      <td>0.02</td>\n",
       "      <td>0.29</td>\n",
       "      <td>-0.21</td>\n",
       "      <td>0.03</td>\n",
       "      <td>0.18</td>\n",
       "      <td>0.92</td>\n",
       "      <td>0.98</td>\n",
       "      <td>0.95</td>\n",
       "      <td>0.96</td>\n",
       "      <td>0.98</td>\n",
       "    </tr>\n",
       "    <tr>\n",
       "      <th>cut</th>\n",
       "      <td>0.02</td>\n",
       "      <td>1.00</td>\n",
       "      <td>0.00</td>\n",
       "      <td>0.03</td>\n",
       "      <td>-0.19</td>\n",
       "      <td>0.15</td>\n",
       "      <td>0.04</td>\n",
       "      <td>0.02</td>\n",
       "      <td>0.03</td>\n",
       "      <td>0.00</td>\n",
       "      <td>0.02</td>\n",
       "    </tr>\n",
       "    <tr>\n",
       "      <th>color</th>\n",
       "      <td>0.29</td>\n",
       "      <td>0.00</td>\n",
       "      <td>1.00</td>\n",
       "      <td>-0.03</td>\n",
       "      <td>0.05</td>\n",
       "      <td>0.03</td>\n",
       "      <td>0.17</td>\n",
       "      <td>0.27</td>\n",
       "      <td>0.26</td>\n",
       "      <td>0.27</td>\n",
       "      <td>0.28</td>\n",
       "    </tr>\n",
       "    <tr>\n",
       "      <th>clarity</th>\n",
       "      <td>-0.21</td>\n",
       "      <td>0.03</td>\n",
       "      <td>-0.03</td>\n",
       "      <td>1.00</td>\n",
       "      <td>-0.05</td>\n",
       "      <td>-0.09</td>\n",
       "      <td>-0.07</td>\n",
       "      <td>-0.23</td>\n",
       "      <td>-0.22</td>\n",
       "      <td>-0.23</td>\n",
       "      <td>-0.21</td>\n",
       "    </tr>\n",
       "    <tr>\n",
       "      <th>depth</th>\n",
       "      <td>0.03</td>\n",
       "      <td>-0.19</td>\n",
       "      <td>0.05</td>\n",
       "      <td>-0.05</td>\n",
       "      <td>1.00</td>\n",
       "      <td>-0.30</td>\n",
       "      <td>-0.01</td>\n",
       "      <td>-0.03</td>\n",
       "      <td>-0.03</td>\n",
       "      <td>0.10</td>\n",
       "      <td>0.01</td>\n",
       "    </tr>\n",
       "    <tr>\n",
       "      <th>table</th>\n",
       "      <td>0.18</td>\n",
       "      <td>0.15</td>\n",
       "      <td>0.03</td>\n",
       "      <td>-0.09</td>\n",
       "      <td>-0.30</td>\n",
       "      <td>1.00</td>\n",
       "      <td>0.13</td>\n",
       "      <td>0.20</td>\n",
       "      <td>0.18</td>\n",
       "      <td>0.15</td>\n",
       "      <td>0.17</td>\n",
       "    </tr>\n",
       "    <tr>\n",
       "      <th>price</th>\n",
       "      <td>0.92</td>\n",
       "      <td>0.04</td>\n",
       "      <td>0.17</td>\n",
       "      <td>-0.07</td>\n",
       "      <td>-0.01</td>\n",
       "      <td>0.13</td>\n",
       "      <td>1.00</td>\n",
       "      <td>0.89</td>\n",
       "      <td>0.87</td>\n",
       "      <td>0.87</td>\n",
       "      <td>0.90</td>\n",
       "    </tr>\n",
       "    <tr>\n",
       "      <th>x</th>\n",
       "      <td>0.98</td>\n",
       "      <td>0.02</td>\n",
       "      <td>0.27</td>\n",
       "      <td>-0.23</td>\n",
       "      <td>-0.03</td>\n",
       "      <td>0.20</td>\n",
       "      <td>0.89</td>\n",
       "      <td>1.00</td>\n",
       "      <td>0.97</td>\n",
       "      <td>0.98</td>\n",
       "      <td>0.96</td>\n",
       "    </tr>\n",
       "    <tr>\n",
       "      <th>y</th>\n",
       "      <td>0.95</td>\n",
       "      <td>0.03</td>\n",
       "      <td>0.26</td>\n",
       "      <td>-0.22</td>\n",
       "      <td>-0.03</td>\n",
       "      <td>0.18</td>\n",
       "      <td>0.87</td>\n",
       "      <td>0.97</td>\n",
       "      <td>1.00</td>\n",
       "      <td>0.96</td>\n",
       "      <td>0.98</td>\n",
       "    </tr>\n",
       "    <tr>\n",
       "      <th>z</th>\n",
       "      <td>0.96</td>\n",
       "      <td>0.00</td>\n",
       "      <td>0.27</td>\n",
       "      <td>-0.23</td>\n",
       "      <td>0.10</td>\n",
       "      <td>0.15</td>\n",
       "      <td>0.87</td>\n",
       "      <td>0.98</td>\n",
       "      <td>0.96</td>\n",
       "      <td>1.00</td>\n",
       "      <td>0.95</td>\n",
       "    </tr>\n",
       "    <tr>\n",
       "      <th>dimension</th>\n",
       "      <td>0.98</td>\n",
       "      <td>0.02</td>\n",
       "      <td>0.28</td>\n",
       "      <td>-0.21</td>\n",
       "      <td>0.01</td>\n",
       "      <td>0.17</td>\n",
       "      <td>0.90</td>\n",
       "      <td>0.96</td>\n",
       "      <td>0.98</td>\n",
       "      <td>0.95</td>\n",
       "      <td>1.00</td>\n",
       "    </tr>\n",
       "  </tbody>\n",
       "</table>\n",
       "</div>"
      ],
      "text/plain": [
       "           carat   cut  color  clarity  depth  table  price     x     y     z  \\\n",
       "carat       1.00  0.02   0.29    -0.21   0.03   0.18   0.92  0.98  0.95  0.96   \n",
       "cut         0.02  1.00   0.00     0.03  -0.19   0.15   0.04  0.02  0.03  0.00   \n",
       "color       0.29  0.00   1.00    -0.03   0.05   0.03   0.17  0.27  0.26  0.27   \n",
       "clarity    -0.21  0.03  -0.03     1.00  -0.05  -0.09  -0.07 -0.23 -0.22 -0.23   \n",
       "depth       0.03 -0.19   0.05    -0.05   1.00  -0.30  -0.01 -0.03 -0.03  0.10   \n",
       "table       0.18  0.15   0.03    -0.09  -0.30   1.00   0.13  0.20  0.18  0.15   \n",
       "price       0.92  0.04   0.17    -0.07  -0.01   0.13   1.00  0.89  0.87  0.87   \n",
       "x           0.98  0.02   0.27    -0.23  -0.03   0.20   0.89  1.00  0.97  0.98   \n",
       "y           0.95  0.03   0.26    -0.22  -0.03   0.18   0.87  0.97  1.00  0.96   \n",
       "z           0.96  0.00   0.27    -0.23   0.10   0.15   0.87  0.98  0.96  1.00   \n",
       "dimension   0.98  0.02   0.28    -0.21   0.01   0.17   0.90  0.96  0.98  0.95   \n",
       "\n",
       "           dimension  \n",
       "carat           0.98  \n",
       "cut             0.02  \n",
       "color           0.28  \n",
       "clarity        -0.21  \n",
       "depth           0.01  \n",
       "table           0.17  \n",
       "price           0.90  \n",
       "x               0.96  \n",
       "y               0.98  \n",
       "z               0.95  \n",
       "dimension       1.00  "
      ]
     },
     "execution_count": 94,
     "metadata": {},
     "output_type": "execute_result"
    }
   ],
   "source": [
    "corr = diamonds_data.corr()\n",
    "round(corr,2)"
   ]
  },
  {
   "cell_type": "markdown",
   "metadata": {},
   "source": [
    "As independent variables such as 'Carat' and 'Length'(x),'Width'(y),'Depth'(z) (combined in feature 'dimension') are highly correlated to dependant variable 'price'. These four features will be considered for training the model whereas price is dependant variable. "
   ]
  },
  {
   "cell_type": "code",
   "execution_count": 95,
   "metadata": {},
   "outputs": [],
   "source": [
    "X_Dataframe = diamonds_data[['carat','dimension']]  # It's a Training dataframe, partitioned afterwards\n",
    "y_Dataframe = diamonds_data['price']                # Depandant variable"
   ]
  },
  {
   "cell_type": "markdown",
   "metadata": {},
   "source": [
    "# Method "
   ]
  },
  {
   "cell_type": "markdown",
   "metadata": {},
   "source": [
    "## Review\n",
    "\n",
    "In the regression problems our target values are real numbers and our goal is to find best fit line for our\n",
    "data. so simple line equation is:\n",
    "\n",
    "$$f(x;w)={w_{1}x + w_{0}}$$\n",
    "                                    \n",
    "If we have multiple inputs for x:\n",
    "$$f(x;w)={w_{D}x_{D} + .... + w_{1}x_{1} + w_{0}}$$\n",
    "\n",
    "where D, is the number of attributes or feature in our input data.\n",
    "\n",
    "So main idea behind getting best fit line is find and minimize the cost/Error function. By minimizing\n",
    "error function we mean, minimize the sum of Euclidean distances between target values and our\n",
    "predicted values.\n",
    "\n",
    "$$E(w) = \\Sigma_{i=1}^{N}{(f(x_{i};w_{i}) - t_{i})}^{2}$$\n",
    "\n",
    "\n",
    "1. For the Least squares we try to minimize the above mentioned error function. Above\n",
    "mentioned equation is quadratic equation, we will get minimum value by taking derivative of\n",
    "that eqaution with respect to the 'w' and put that equal to 0. After solving we will get: \n",
    "\n",
    "$$ w={(X^{T}X)}^{-1}X^{T}t $$\n",
    "\n",
    "   where, X = Input matrix of N * D (N = Number of samples and D = Number of attributes)\n",
    "\n",
    "   t = Matrix of the target value\n",
    "   w = Matrix of the weights corresponding to each attribute\n",
    "   \n",
    "   \n",
    "\n",
    "2. Least Mean Squares: Unlike Least Squares method it does not use all the data available in\n",
    "one go but, it follows the Online Learning process. By this we mean that we calculate the\n",
    "value of weight at each iteration (for each datapoint) and based on calculated values in\n",
    "previous step, it makes new estimation.\n",
    "\n",
    "  It is represented as:          \n",
    "$$w^{k+1} = w^{k} - \\alpha\\nabla E_{k}$$     \n",
    "                \n",
    "  For this equation, We initially guess the value of 'w'\n",
    "\n",
    "  k = represents the steps in repetition\n",
    "\n",
    "  $E_{k}$ = represents the error rate for k sample.\n",
    "\n",
    "  $\\alpha$ = Learning Rate Further, we calculate the gradient i.e. \\nabla E_{k} and finally gets:\n",
    "  \n",
    "$$w^{k+1} = w^{k} - \\alpha({w^{k}}^{T} - t_{k})x_{k}$$\n",
    "                                  \n",
    "This is final weight vector, LMS will compute for each sample and this process can be\n",
    "repeated for any nnumber of times to get the best weight (which give us best fitting line for\n",
    "our data points)."
   ]
  },
  {
   "cell_type": "markdown",
   "metadata": {},
   "source": [
    "## Explanation of Code\n",
    "\n",
    "Two algorithms are implemented as part of implementaion i.e Least Squares and Least Mean\n",
    "Squares. A base class BaseModel is implemented which is having only two abstract method 'train'\n",
    "and 'use', and they are defined further in different classes which are inheritig BaseModel class.\n",
    "Further, LinearModel class is implemented which is inheriting \"BaseModel\" having its constructor in\n",
    "which \"Weight\" is defined as None. And having its own methods _check_matrix - This method checks\n",
    "whether the passed matrix is 2-dimentional or not and add_ones- add column of basis to the passed\n",
    "matrix in its parameter. Apart from its two method, this class has 2 other abstract method of its parent\n",
    "class \"BaseModel\" but not providing defination for that abstract methods.\n",
    "\n",
    "$\\textbf{Least Square (LS)}$ :\n",
    "\n",
    "LinearRegress is the class which is implementing the code for Linear Regression through Least\n",
    "Square method. This class is inheritinng \"LinearModel\" class. It has its own constructor which is\n",
    "calling constructor for the parent class and will initialize \"self.w\" i.e the weight which will be used\n",
    "further in whole code. This class is providing the defination for the abstract methods of its super class\n",
    "(train and use methods).\n",
    "\n",
    "'train method': This method is accepting 2 parameter, one is 2-dimentional matrix of predictors and\n",
    "another is Target vector. Basically, this method is calculating the weights which when dot product with\n",
    "our predictor matrix will give best prediction line. This method first add \"ones\" to the passed 2-D\n",
    "matrix by calling its super class method and then calculated the weights by \"np.linalg.inv\" method.\n",
    "\n",
    "'use method': This methods finally return the predicted value vectors calculated with the dot product\n",
    "of 'weights' calculated in train method and 'predictor' matrix.\n",
    "\n",
    "$\\textbf{Least Mean Squares (LMS)}$ :\n",
    "\n",
    "LMS is the class providing code for implemeting best fit line through Least Mean Squares method.\n",
    "Similar to the Least Square class, it is inheriting \"LinearModel\" class. Similarly its constructor calling its\n",
    "parent class constructor and apart from that its has its own member variable \"self.alpha\", which\n",
    "means when call this class, we need pass learning rate. And unlike to previos class it has its own\n",
    "method \"train_step\" besides implementing abstarct methods(train and use methods) of its super class.\n",
    "\n",
    "In the LMS class, there are three functions train, train_step and use. The use function for LMS class is similar to that of the LinearRegress class. The train function calls the train_step function to update the weights. The train_step takes one instance and the corresponding target value as an input. The following equation is used to update the weights in the train_step function.\n",
    "\n",
    "The train function calls the train_step function for all the instances in the input data. Thus, the weight values are obtained in LMS."
   ]
  },
  {
   "cell_type": "markdown",
   "metadata": {},
   "source": [
    "## Correct Implementation"
   ]
  },
  {
   "cell_type": "code",
   "execution_count": 96,
   "metadata": {},
   "outputs": [],
   "source": [
    "import numpy as np \n",
    "from abc import ABC, abstractmethod\n",
    "\n",
    "# Super class for machine learning models \n",
    "\n",
    "class BaseModel(ABC):\n",
    "    \"\"\" Super class for ITCS Machine Learning Class\"\"\"\n",
    "    \n",
    "    @abstractmethod\n",
    "    def train(self, X, T):\n",
    "        pass\n",
    "\n",
    "    @abstractmethod\n",
    "    def use(self, X):\n",
    "        pass\n",
    "\n",
    "    \n",
    "class LinearModel(BaseModel):\n",
    "    \"\"\"\n",
    "        Abstract class for a linear model \n",
    "        \n",
    "        Attributes\n",
    "        ==========\n",
    "        w       ndarray\n",
    "                weight vector/matrix\n",
    "    \"\"\"\n",
    "\n",
    "    def __init__(self):\n",
    "        \"\"\"\n",
    "            weight vector w is initialized as None\n",
    "        \"\"\"\n",
    "        self.w = None\n",
    "\n",
    "    # check if the matrix is 2-dimensional. if not, raise an exception    \n",
    "    def _check_matrix(self, mat, name):\n",
    "        if len(mat.shape) != 2:\n",
    "            raise ValueError(''.join([\"Wrong matrix \", name]))\n",
    "        \n",
    "    # add a basis\n",
    "    def add_ones(self, X):\n",
    "        \"\"\"\n",
    "            add a column basis to X input matrix\n",
    "        \"\"\"\n",
    "        self._check_matrix(X, 'X')\n",
    "        return np.hstack((np.ones((X.shape[0], 1)), X))\n",
    "\n",
    "    ####################################################\n",
    "    #### abstract funcitons ############################\n",
    "    @abstractmethod\n",
    "    def train(self, X, T):\n",
    "        \"\"\"\n",
    "            train linear model\n",
    "            \n",
    "            parameters\n",
    "            -----------\n",
    "            X     2d array\n",
    "                  input data\n",
    "            T     2d array\n",
    "                  target labels\n",
    "        \"\"\"        \n",
    "        pass\n",
    "    \n",
    "    @abstractmethod\n",
    "    def use(self, X):\n",
    "        \"\"\"\n",
    "            apply the learned model to input X\n",
    "            \n",
    "            parameters\n",
    "            ----------\n",
    "            X     2d array\n",
    "                  input data\n",
    "            \n",
    "        \"\"\"        \n",
    "        pass "
   ]
  },
  {
   "cell_type": "markdown",
   "metadata": {},
   "source": [
    "### Least Squares"
   ]
  },
  {
   "cell_type": "code",
   "execution_count": 97,
   "metadata": {},
   "outputs": [],
   "source": [
    "import collections\n",
    "# Linear Regression Class for least squares\n",
    "class LinearRegress(LinearModel): \n",
    "    \"\"\" \n",
    "        LinearRegress class \n",
    "        \n",
    "        attributes\n",
    "        ===========\n",
    "        w    nd.array  (column vector/matrix)\n",
    "             weights\n",
    "    \"\"\"\n",
    "    def __init__(self):\n",
    "        LinearModel.__init__(self)\n",
    "        \n",
    "    def train(self, X, T):\n",
    "        X = self.add_ones(X)\n",
    "        self.w = np.linalg.inv(X.T @ X) @ X.T @ T\n",
    "        \n",
    "    def use(self, X):\n",
    "        X = self.add_ones(X)\n",
    "        return X @ self.w"
   ]
  },
  {
   "cell_type": "markdown",
   "metadata": {},
   "source": [
    "### Least Mean Squares"
   ]
  },
  {
   "cell_type": "code",
   "execution_count": 98,
   "metadata": {},
   "outputs": [],
   "source": [
    "import collections # for checking iterable instance\n",
    "\n",
    "# LMS class \n",
    "class LMS(LinearModel):\n",
    "    \"\"\"\n",
    "        Lease Mean Squares. online learning algorithm\n",
    "    \n",
    "        attributes\n",
    "        ==========\n",
    "        w        nd.array\n",
    "                 weight matrix\n",
    "        alpha    float\n",
    "                 learning rate\n",
    "    \"\"\"\n",
    "    def __init__(self, alpha):\n",
    "        LinearModel.__init__(self)\n",
    "        self.alpha = alpha\n",
    "        \n",
    "    # batch training by using train_step function\n",
    "    def train(self, X, T):\n",
    "        for x, t in zip(X, T):\n",
    "            self.train_step(x,t)\n",
    "\n",
    "            \n",
    "    # train LMS model one step \n",
    "    # here the x is 1d vector\n",
    "    def train_step(self, x, t):\n",
    "        if len(x.T.shape) != 2:\n",
    "            x = np.insert(x,0,1).reshape(-1,1)\n",
    "        if self.w is None:\n",
    "            self.w = np.zeros((x.shape[0],1))\n",
    "      \n",
    "        m=t.size\n",
    "        h = self.w.T @ x\n",
    "        h=h-t\n",
    "        self.w =self.w - (self.alpha * h * x)\n",
    "        \n",
    "    def use(self, X):\n",
    "        if len(X.T.shape) != 2:\n",
    "            x = np.insert(x,0,1).reshape(-1,1)\n",
    "\n",
    "        x = self.add_ones(X).T\n",
    "        y = self.w.T @ x\n",
    "        \n",
    "        return y.T"
   ]
  },
  {
   "cell_type": "markdown",
   "metadata": {},
   "source": [
    "### Preliminary Test"
   ]
  },
  {
   "cell_type": "code",
   "execution_count": 99,
   "metadata": {},
   "outputs": [
    {
     "name": "stdout",
     "output_type": "stream",
     "text": [
      "training  LS ...\n",
      "training  LMS_All ...\n",
      "training  LMS_1STEP ...\n",
      "---- Testing  LS ... passed.\n",
      "---- Testing  LMS_All ... passed.\n",
      "---- Testing  LMS_1STEP ... passed.\n"
     ]
    }
   ],
   "source": [
    "# Self-Test code for accuracy of your model - DO NOT MODIFY THIS\n",
    "# Primilnary test data\n",
    "X = np.array([[2,5],\n",
    "              [6,2],\n",
    "              [1,9],\n",
    "              [4,5],\n",
    "              [6,3],\n",
    "              [7,4],\n",
    "              [8,3]])\n",
    "T = X[:,0, None] * 3 - 2 * X[:, 1, None] + 3\n",
    "N = X.shape[0]\n",
    "\n",
    "def rmse(T, Y):\n",
    "    return np.sqrt(np.sum((T-Y)**2))\n",
    "\n",
    "model_names = ['LS', 'LMS_All', 'LMS_1STEP']\n",
    "models = [LinearRegress(), LMS(0.02), LMS(0.02)]\n",
    "#train\n",
    "for i, model in enumerate(models):\n",
    "    print(\"training \", model_names[i], \"...\") \n",
    "    if i == len(models) -1: \n",
    "        # train only one step for LMS2\n",
    "        model.train_step(X[0], T[0])\n",
    "    else:\n",
    "        model.train(X, T)\n",
    "\n",
    "def check(a, b, eps=np.finfo(float).eps):\n",
    "    if abs(a-b) > eps:\n",
    "        print(\"failed.\", a, b)\n",
    "    else:\n",
    "        print(\"passed.\")\n",
    "\n",
    "errors = [1.19e-13, 2.8753214702, 38.0584918251]\n",
    "for i, model in enumerate(models):\n",
    "    print(\"---- Testing \", model_names[i], \"...\", end=\" \") \n",
    "    \n",
    "    # rmse test\n",
    "    err = rmse(T, model.use(X))\n",
    "    if check(err, errors[i], eps=1e-10):\n",
    "        print (\"check your weights: \", model.w)\n",
    "        print (\"oracle: \", )"
   ]
  },
  {
   "cell_type": "markdown",
   "metadata": {},
   "source": [
    "# Experiments"
   ]
  },
  {
   "cell_type": "markdown",
   "metadata": {},
   "source": [
    "## description, codes"
   ]
  },
  {
   "cell_type": "markdown",
   "metadata": {},
   "source": [
    "### Partition Function\n",
    "\n",
    "This function will divide the data into test and train (in 70 to 30 ratio) and return"
   ]
  },
  {
   "cell_type": "code",
   "execution_count": 100,
   "metadata": {},
   "outputs": [],
   "source": [
    "def partition(X, T, ratio=[0.70, 0.30]): \n",
    "    assert(np.sum(ratio) == 1)\n",
    "    \n",
    "    # shuffle the data indices \n",
    "    idxs = np.random.permutation(X.index)\n",
    "    \n",
    "    # the number of samples \n",
    "    N = X.shape[0]\n",
    "    \n",
    "    Xs = []\n",
    "    Ts = []\n",
    "    i = 0  # first index to zero\n",
    "    for k, r in enumerate(ratio):\n",
    "        nrows = int(round(N * r))  # number of rows\n",
    "        \n",
    "        if k == len(ratio) -1:\n",
    "            Xs.append(X.iloc[i:, :])\n",
    "            Ts.append(T.iloc[i:, :])\n",
    "        else:\n",
    "            Xs.append(X.iloc[i:i+nrows, :])\n",
    "            Ts.append(T.iloc[i:i+nrows, :])\n",
    "        \n",
    "        i += nrows\n",
    "    \n",
    "    return Xs, Ts"
   ]
  },
  {
   "cell_type": "code",
   "execution_count": 101,
   "metadata": {},
   "outputs": [],
   "source": [
    "Xlst, Tlst = partition(pd.DataFrame(X_Dataframe), pd.DataFrame(y_Dataframe))"
   ]
  },
  {
   "cell_type": "code",
   "execution_count": 102,
   "metadata": {},
   "outputs": [],
   "source": [
    "X_train, X_test = [xx.values for xx in Xlst]\n",
    "T_train, T_test = [tt.values for tt in Tlst]"
   ]
  },
  {
   "cell_type": "code",
   "execution_count": 103,
   "metadata": {},
   "outputs": [
    {
     "data": {
      "text/plain": [
       "(37744, 2)"
      ]
     },
     "execution_count": 103,
     "metadata": {},
     "output_type": "execute_result"
    }
   ],
   "source": [
    "X_train.shape"
   ]
  },
  {
   "cell_type": "code",
   "execution_count": 104,
   "metadata": {},
   "outputs": [
    {
     "data": {
      "text/plain": [
       "(37744, 1)"
      ]
     },
     "execution_count": 104,
     "metadata": {},
     "output_type": "execute_result"
    }
   ],
   "source": [
    "T_train.shape"
   ]
  },
  {
   "cell_type": "code",
   "execution_count": 105,
   "metadata": {},
   "outputs": [
    {
     "data": {
      "text/plain": [
       "(16176, 2)"
      ]
     },
     "execution_count": 105,
     "metadata": {},
     "output_type": "execute_result"
    }
   ],
   "source": [
    "X_test.shape"
   ]
  },
  {
   "cell_type": "code",
   "execution_count": 106,
   "metadata": {},
   "outputs": [
    {
     "data": {
      "text/plain": [
       "(16176, 1)"
      ]
     },
     "execution_count": 106,
     "metadata": {},
     "output_type": "execute_result"
    }
   ],
   "source": [
    "T_test.shape"
   ]
  },
  {
   "cell_type": "markdown",
   "metadata": {},
   "source": [
    "### Least Squares"
   ]
  },
  {
   "cell_type": "code",
   "execution_count": 107,
   "metadata": {},
   "outputs": [],
   "source": [
    "ls = LinearRegress()\n",
    "ls.train(X_train, T_train)\n",
    "y_ls = ls.use(X_test)"
   ]
  },
  {
   "cell_type": "code",
   "execution_count": 108,
   "metadata": {},
   "outputs": [
    {
     "data": {
      "text/plain": [
       "823.8150290818036"
      ]
     },
     "execution_count": 108,
     "metadata": {},
     "output_type": "execute_result"
    }
   ],
   "source": [
    "np.sqrt(np.mean((T_test - y_ls)**2))"
   ]
  },
  {
   "cell_type": "markdown",
   "metadata": {},
   "source": [
    "### Least Mean Squares"
   ]
  },
  {
   "cell_type": "code",
   "execution_count": 109,
   "metadata": {},
   "outputs": [],
   "source": [
    "lms = LMS(.000012)\n",
    "lms.train(X_train, T_train)\n",
    "y_lms = lms.use(X_test)"
   ]
  },
  {
   "cell_type": "code",
   "execution_count": 110,
   "metadata": {},
   "outputs": [
    {
     "data": {
      "text/plain": [
       "485.2406782778304"
      ]
     },
     "execution_count": 110,
     "metadata": {},
     "output_type": "execute_result"
    }
   ],
   "source": [
    "np.sqrt(np.mean((T_test - y_lms)**2))"
   ]
  },
  {
   "cell_type": "markdown",
   "metadata": {},
   "source": [
    "### Description of codes\n",
    "\n",
    "Partition function is introduced/defined to split dataset into train and test data in a ratio of 70% to 30% respectively. This function takes independent and dependent dataframes as inputs, and randomly divide it into 70:30 ratio. Returned list of dataframes then splitted into X_Train, X_Test, y_Train, y_Test dataframes accordingly.   \n",
    "\n",
    "In the above cell, we are creating an object of LinearRegress class, which is further used to call its\n",
    "function. First 'train' method is called in which we are passing our training datasets (Splitted above).\n",
    "This function will calculate the best possible weight according to the data. \n",
    "Secondly, 'use' method is called in which we are passing our test dataset on which it is calculating target values based on the weights calculated in previous method and further these predicted value be comapred with actual test\n",
    "values splitted above.\n",
    "\n",
    "Subsequently, we are creating LMS object (lms), with its help we are calling its 'train' method in which we\n",
    "are passing our training datasets. Further, we are calling its 'use' function which is returning predicted\n",
    "values vector, that can be compared further with the test value to check the accuracy."
   ]
  },
  {
   "cell_type": "markdown",
   "metadata": {},
   "source": [
    "## Visualization of results"
   ]
  },
  {
   "cell_type": "markdown",
   "metadata": {},
   "source": [
    "### Least Squares"
   ]
  },
  {
   "cell_type": "code",
   "execution_count": 111,
   "metadata": {},
   "outputs": [
    {
     "data": {
      "text/plain": [
       "<matplotlib.collections.PathCollection at 0x1c2a82c4e0>"
      ]
     },
     "execution_count": 111,
     "metadata": {},
     "output_type": "execute_result"
    },
    {
     "data": {
      "image/png": "[encoded data removed]",
      "text/plain": [
       "<Figure size 432x288 with 1 Axes>"
      ]
     },
     "metadata": {
      "needs_background": "light"
     },
     "output_type": "display_data"
    }
   ],
   "source": [
    "plt.scatter(T_test,y_ls)"
   ]
  },
  {
   "cell_type": "code",
   "execution_count": 112,
   "metadata": {},
   "outputs": [
    {
     "data": {
      "text/plain": [
       "[<matplotlib.lines.Line2D at 0x1c2abce898>]"
      ]
     },
     "execution_count": 112,
     "metadata": {},
     "output_type": "execute_result"
    },
    {
     "data": {
      "image/png": "[encoded data removed]",
      "text/plain": [
       "<Figure size 432x288 with 1 Axes>"
      ]
     },
     "metadata": {
      "needs_background": "light"
     },
     "output_type": "display_data"
    }
   ],
   "source": [
    "plt.plot(y_ls,'y')\n",
    "plt.plot(T_test,'r')"
   ]
  },
  {
   "cell_type": "markdown",
   "metadata": {},
   "source": [
    "### Least Squares (LS) method Observation\n",
    "\n",
    "Above plot shows a graph of predicted output values(y_ls) against actual values(T_test). 'Red' color graph shows depicts actual values, whereas, 'yellow' color shows predicted values accordingly. The graph displays the variation of predicted values to that of actual values, which gives the right prediction curve, though the value difference between two is evident. Moreover, we calculated its RMSE value, which is 823.8. "
   ]
  },
  {
   "cell_type": "markdown",
   "metadata": {},
   "source": [
    "### Least Mean Squares"
   ]
  },
  {
   "cell_type": "code",
   "execution_count": 113,
   "metadata": {},
   "outputs": [
    {
     "data": {
      "text/plain": [
       "<matplotlib.collections.PathCollection at 0x1c2abe39b0>"
      ]
     },
     "execution_count": 113,
     "metadata": {},
     "output_type": "execute_result"
    },
    {
     "data": {
      "image/png": "[encoded data removed]",
      "text/plain": [
       "<Figure size 432x288 with 1 Axes>"
      ]
     },
     "metadata": {
      "needs_background": "light"
     },
     "output_type": "display_data"
    }
   ],
   "source": [
    "plt.scatter(T_test,y_lms)"
   ]
  },
  {
   "cell_type": "code",
   "execution_count": 114,
   "metadata": {},
   "outputs": [
    {
     "data": {
      "text/plain": [
       "[<matplotlib.lines.Line2D at 0x1c2aa6d588>]"
      ]
     },
     "execution_count": 114,
     "metadata": {},
     "output_type": "execute_result"
    },
    {
     "data": {
      "image/png": "[encoded data removed]",
      "text/plain": [
       "<Figure size 432x288 with 1 Axes>"
      ]
     },
     "metadata": {
      "needs_background": "light"
     },
     "output_type": "display_data"
    }
   ],
   "source": [
    "plt.plot(y_lms,'y')\n",
    "plt.plot(T_test,'r')"
   ]
  },
  {
   "cell_type": "markdown",
   "metadata": {},
   "source": [
    "### Least Mean Squares (LMS) method Observation\n",
    "\n",
    "Above plot shows a graph of predicted output values(y_lms) against actual values(T_test).'Red' color graph shows depicts actual values, whereas, 'yellow' color shows predicted values accordingly. The graph displays the variation of predicted values to that of actual values, which gives a better-fitted prediction curve , also, the value difference between the two got more depressed compared to LS method. Also, we can see few extreme values which are outliers .Ultimately, its RMSE value is also lessened, which is 485.2406782778304. "
   ]
  },
  {
   "cell_type": "markdown",
   "metadata": {},
   "source": [
    "## Analysis Or comparison of algorithms"
   ]
  },
  {
   "cell_type": "markdown",
   "metadata": {},
   "source": [
    "While analyzing the two algorithms, Least Squares (LS) and Least Mean Squares (LMS), LMS is a less sensitive, or more robust, fitting technique than least squares.\n",
    "\n",
    "The linear least squares (LS) fitting technique is the simplest and most commonly applied form of linear regression and provides a solution to the problem of finding the best fitting straight line through a set of points, however, it has lack of robustness. Least squares performs poorly in terms of robustness because a single, aberrant data point, or outlier, can throw the fitted line way off.he smallest percentage of bad data that can cause the fitted line to explode is defined as the breakdown point.  Since a single bad data point can destroy the least squares line, LS is said to have a zero breakdown point.  Thus, least squares is not a robust regression procedure.\n",
    "\n",
    "In LMS, filter weights are optimized, by updating the filter weights in a manner to converge to the optimum filter weight. The algorithm starts by assuming a small weights (zero in most cases), and at each step, by finding the gradient of the mean square error, the weights are updated.That is, if the MSE-gradient is positive, it implies, the error would keep increasing positively, if the same weight is used for further iterations, which means we need to reduce the weights. In the same way, if the gradient is negative, we need to increase the weights. So, the basic weight update equation is: $w^{k+1} = w^{k} - \\alpha\\nabla E_{k}$ The negative sign indicates that, we need to change the weights in a direction opposite to that of the gradient slope.\n",
    "\n",
    "In visualization of these two algorithms, plots are plotted to understand the accuracy of predicted values visually. In LS plotting, significance difference in test values in predicted values is found, whereas, in LMS plotting, this difference is reduced significantly. Also, RMSE in LS method is high in comparison to the LMS error."
   ]
  },
  {
   "cell_type": "markdown",
   "metadata": {},
   "source": [
    " # Extra Credit"
   ]
  },
  {
   "cell_type": "markdown",
   "metadata": {},
   "source": [
    "## what is the most and least significant features for your data."
   ]
  },
  {
   "cell_type": "markdown",
   "metadata": {},
   "source": [
    "To determine most relevant and unrelevant features in the dataset, consider below correlation matrix."
   ]
  },
  {
   "cell_type": "code",
   "execution_count": 115,
   "metadata": {},
   "outputs": [
    {
     "data": {
      "text/html": [
       "<div>\n",
       "<style scoped>\n",
       "    .dataframe tbody tr th:only-of-type {\n",
       "        vertical-align: middle;\n",
       "    }\n",
       "\n",
       "    .dataframe tbody tr th {\n",
       "        vertical-align: top;\n",
       "    }\n",
       "\n",
       "    .dataframe thead th {\n",
       "        text-align: right;\n",
       "    }\n",
       "</style>\n",
       "<table border=\"1\" class=\"dataframe\">\n",
       "  <thead>\n",
       "    <tr style=\"text-align: right;\">\n",
       "      <th></th>\n",
       "      <th>carat</th>\n",
       "      <th>cut</th>\n",
       "      <th>color</th>\n",
       "      <th>clarity</th>\n",
       "      <th>depth</th>\n",
       "      <th>table</th>\n",
       "      <th>price</th>\n",
       "      <th>x</th>\n",
       "      <th>y</th>\n",
       "      <th>z</th>\n",
       "      <th>dimension</th>\n",
       "    </tr>\n",
       "  </thead>\n",
       "  <tbody>\n",
       "    <tr>\n",
       "      <th>carat</th>\n",
       "      <td>1.00</td>\n",
       "      <td>0.02</td>\n",
       "      <td>0.29</td>\n",
       "      <td>-0.21</td>\n",
       "      <td>0.03</td>\n",
       "      <td>0.18</td>\n",
       "      <td>0.92</td>\n",
       "      <td>0.98</td>\n",
       "      <td>0.95</td>\n",
       "      <td>0.96</td>\n",
       "      <td>0.98</td>\n",
       "    </tr>\n",
       "    <tr>\n",
       "      <th>cut</th>\n",
       "      <td>0.02</td>\n",
       "      <td>1.00</td>\n",
       "      <td>0.00</td>\n",
       "      <td>0.03</td>\n",
       "      <td>-0.19</td>\n",
       "      <td>0.15</td>\n",
       "      <td>0.04</td>\n",
       "      <td>0.02</td>\n",
       "      <td>0.03</td>\n",
       "      <td>0.00</td>\n",
       "      <td>0.02</td>\n",
       "    </tr>\n",
       "    <tr>\n",
       "      <th>color</th>\n",
       "      <td>0.29</td>\n",
       "      <td>0.00</td>\n",
       "      <td>1.00</td>\n",
       "      <td>-0.03</td>\n",
       "      <td>0.05</td>\n",
       "      <td>0.03</td>\n",
       "      <td>0.17</td>\n",
       "      <td>0.27</td>\n",
       "      <td>0.26</td>\n",
       "      <td>0.27</td>\n",
       "      <td>0.28</td>\n",
       "    </tr>\n",
       "    <tr>\n",
       "      <th>clarity</th>\n",
       "      <td>-0.21</td>\n",
       "      <td>0.03</td>\n",
       "      <td>-0.03</td>\n",
       "      <td>1.00</td>\n",
       "      <td>-0.05</td>\n",
       "      <td>-0.09</td>\n",
       "      <td>-0.07</td>\n",
       "      <td>-0.23</td>\n",
       "      <td>-0.22</td>\n",
       "      <td>-0.23</td>\n",
       "      <td>-0.21</td>\n",
       "    </tr>\n",
       "    <tr>\n",
       "      <th>depth</th>\n",
       "      <td>0.03</td>\n",
       "      <td>-0.19</td>\n",
       "      <td>0.05</td>\n",
       "      <td>-0.05</td>\n",
       "      <td>1.00</td>\n",
       "      <td>-0.30</td>\n",
       "      <td>-0.01</td>\n",
       "      <td>-0.03</td>\n",
       "      <td>-0.03</td>\n",
       "      <td>0.10</td>\n",
       "      <td>0.01</td>\n",
       "    </tr>\n",
       "    <tr>\n",
       "      <th>table</th>\n",
       "      <td>0.18</td>\n",
       "      <td>0.15</td>\n",
       "      <td>0.03</td>\n",
       "      <td>-0.09</td>\n",
       "      <td>-0.30</td>\n",
       "      <td>1.00</td>\n",
       "      <td>0.13</td>\n",
       "      <td>0.20</td>\n",
       "      <td>0.18</td>\n",
       "      <td>0.15</td>\n",
       "      <td>0.17</td>\n",
       "    </tr>\n",
       "    <tr>\n",
       "      <th>price</th>\n",
       "      <td>0.92</td>\n",
       "      <td>0.04</td>\n",
       "      <td>0.17</td>\n",
       "      <td>-0.07</td>\n",
       "      <td>-0.01</td>\n",
       "      <td>0.13</td>\n",
       "      <td>1.00</td>\n",
       "      <td>0.89</td>\n",
       "      <td>0.87</td>\n",
       "      <td>0.87</td>\n",
       "      <td>0.90</td>\n",
       "    </tr>\n",
       "    <tr>\n",
       "      <th>x</th>\n",
       "      <td>0.98</td>\n",
       "      <td>0.02</td>\n",
       "      <td>0.27</td>\n",
       "      <td>-0.23</td>\n",
       "      <td>-0.03</td>\n",
       "      <td>0.20</td>\n",
       "      <td>0.89</td>\n",
       "      <td>1.00</td>\n",
       "      <td>0.97</td>\n",
       "      <td>0.98</td>\n",
       "      <td>0.96</td>\n",
       "    </tr>\n",
       "    <tr>\n",
       "      <th>y</th>\n",
       "      <td>0.95</td>\n",
       "      <td>0.03</td>\n",
       "      <td>0.26</td>\n",
       "      <td>-0.22</td>\n",
       "      <td>-0.03</td>\n",
       "      <td>0.18</td>\n",
       "      <td>0.87</td>\n",
       "      <td>0.97</td>\n",
       "      <td>1.00</td>\n",
       "      <td>0.96</td>\n",
       "      <td>0.98</td>\n",
       "    </tr>\n",
       "    <tr>\n",
       "      <th>z</th>\n",
       "      <td>0.96</td>\n",
       "      <td>0.00</td>\n",
       "      <td>0.27</td>\n",
       "      <td>-0.23</td>\n",
       "      <td>0.10</td>\n",
       "      <td>0.15</td>\n",
       "      <td>0.87</td>\n",
       "      <td>0.98</td>\n",
       "      <td>0.96</td>\n",
       "      <td>1.00</td>\n",
       "      <td>0.95</td>\n",
       "    </tr>\n",
       "    <tr>\n",
       "      <th>dimension</th>\n",
       "      <td>0.98</td>\n",
       "      <td>0.02</td>\n",
       "      <td>0.28</td>\n",
       "      <td>-0.21</td>\n",
       "      <td>0.01</td>\n",
       "      <td>0.17</td>\n",
       "      <td>0.90</td>\n",
       "      <td>0.96</td>\n",
       "      <td>0.98</td>\n",
       "      <td>0.95</td>\n",
       "      <td>1.00</td>\n",
       "    </tr>\n",
       "  </tbody>\n",
       "</table>\n",
       "</div>"
      ],
      "text/plain": [
       "           carat   cut  color  clarity  depth  table  price     x     y     z  \\\n",
       "carat       1.00  0.02   0.29    -0.21   0.03   0.18   0.92  0.98  0.95  0.96   \n",
       "cut         0.02  1.00   0.00     0.03  -0.19   0.15   0.04  0.02  0.03  0.00   \n",
       "color       0.29  0.00   1.00    -0.03   0.05   0.03   0.17  0.27  0.26  0.27   \n",
       "clarity    -0.21  0.03  -0.03     1.00  -0.05  -0.09  -0.07 -0.23 -0.22 -0.23   \n",
       "depth       0.03 -0.19   0.05    -0.05   1.00  -0.30  -0.01 -0.03 -0.03  0.10   \n",
       "table       0.18  0.15   0.03    -0.09  -0.30   1.00   0.13  0.20  0.18  0.15   \n",
       "price       0.92  0.04   0.17    -0.07  -0.01   0.13   1.00  0.89  0.87  0.87   \n",
       "x           0.98  0.02   0.27    -0.23  -0.03   0.20   0.89  1.00  0.97  0.98   \n",
       "y           0.95  0.03   0.26    -0.22  -0.03   0.18   0.87  0.97  1.00  0.96   \n",
       "z           0.96  0.00   0.27    -0.23   0.10   0.15   0.87  0.98  0.96  1.00   \n",
       "dimension   0.98  0.02   0.28    -0.21   0.01   0.17   0.90  0.96  0.98  0.95   \n",
       "\n",
       "           dimension  \n",
       "carat           0.98  \n",
       "cut             0.02  \n",
       "color           0.28  \n",
       "clarity        -0.21  \n",
       "depth           0.01  \n",
       "table           0.17  \n",
       "price           0.90  \n",
       "x               0.96  \n",
       "y               0.98  \n",
       "z               0.95  \n",
       "dimension       1.00  "
      ]
     },
     "execution_count": 115,
     "metadata": {},
     "output_type": "execute_result"
    }
   ],
   "source": [
    "corr = diamonds_data.corr()\n",
    "round(corr,2)"
   ]
  },
  {
   "cell_type": "markdown",
   "metadata": {},
   "source": [
    "Firstly, as per above correlation matrix, 'carat' and 'dimension' are most relevant features to dependent variable 'price'(like we oberved before in visualization section as well), whereas, columns 'clarity','depth','table' are most unrelevant features. Below residual plots and obervations will also justify their relevance or unrelevance to target variable.\n",
    "\n",
    "Secondly, the remaining features i.e 'cut' and 'color', are not at all related to 'price' variable. So, we can neglect them while forming dataframes with 'most relevant' and 'least relevant' dataframes, without having impact on accuacy of the model.\n",
    "\n",
    "$\\textbf{Most relevant Features}$ : 'carat', 'dimension'\n",
    "\n",
    "$\\textbf{Least relevant Features}$ : 'clarity','depth','table'\n",
    "\n",
    "$\\textbf{Unrelated Features}$ : 'cut','color'"
   ]
  },
  {
   "cell_type": "markdown",
   "metadata": {},
   "source": [
    "## what are the consequences if you remove those features from the model? (Show your work!)"
   ]
  },
  {
   "cell_type": "markdown",
   "metadata": {},
   "source": [
    "### Analysis with Most relevant Features i.e Carat and Dimension (Keeping only most relevant features by removing all least related and unrelated features )"
   ]
  },
  {
   "cell_type": "code",
   "execution_count": 116,
   "metadata": {},
   "outputs": [],
   "source": [
    "X_Dataframe_rel = diamonds_data[['carat','dimension']]  # It's a Training dataframe, partitioned afterwards\n",
    "y_Dataframe_rel = diamonds_data['price']                # Depandant variable"
   ]
  },
  {
   "cell_type": "code",
   "execution_count": 117,
   "metadata": {},
   "outputs": [],
   "source": [
    "Xlst_rel, Tlst_rel = partition(pd.DataFrame(X_Dataframe_rel), pd.DataFrame(y_Dataframe_rel))"
   ]
  },
  {
   "cell_type": "code",
   "execution_count": 118,
   "metadata": {},
   "outputs": [],
   "source": [
    "X_train_rel, X_test_rel = [xx.values for xx in Xlst_rel]\n",
    "T_train_rel, T_test_rel = [tt.values for tt in Tlst_rel]"
   ]
  },
  {
   "cell_type": "markdown",
   "metadata": {},
   "source": [
    "#### LS method on most relevant featured dataframe "
   ]
  },
  {
   "cell_type": "code",
   "execution_count": 119,
   "metadata": {},
   "outputs": [],
   "source": [
    "ls = LinearRegress()\n",
    "ls.train(X_train_rel, T_train_rel)\n",
    "y_ls_rel = ls.use(X_test_rel)"
   ]
  },
  {
   "cell_type": "code",
   "execution_count": 120,
   "metadata": {},
   "outputs": [
    {
     "data": {
      "text/plain": [
       "823.8150290818036"
      ]
     },
     "execution_count": 120,
     "metadata": {},
     "output_type": "execute_result"
    }
   ],
   "source": [
    "np.sqrt(np.mean((T_test_rel - y_ls_rel)**2))"
   ]
  },
  {
   "cell_type": "code",
   "execution_count": 121,
   "metadata": {},
   "outputs": [
    {
     "data": {
      "text/plain": [
       "[<matplotlib.lines.Line2D at 0x1c2ad80358>]"
      ]
     },
     "execution_count": 121,
     "metadata": {},
     "output_type": "execute_result"
    },
    {
     "data": {
      "image/png": "[encoded data removed]",
      "text/plain": [
       "<Figure size 432x288 with 1 Axes>"
      ]
     },
     "metadata": {
      "needs_background": "light"
     },
     "output_type": "display_data"
    }
   ],
   "source": [
    "plt.plot(y_ls_rel,'y')\n",
    "plt.plot(T_test_rel,'r')"
   ]
  },
  {
   "cell_type": "markdown",
   "metadata": {},
   "source": [
    "Above plot shows a graph of predicted output values(y_ls) against actual values(T_test). 'Red' color graph shows depicts actual values, whereas, 'yellow' color shows predicted values accordingly. The graph displays the variation of predicted values to that of actual values, which gives the right prediction curve, though the value difference between two is evident. Moreover, we calculated its RMSE value, which is 823.8. "
   ]
  },
  {
   "cell_type": "markdown",
   "metadata": {},
   "source": [
    "#### LMS method on most relevant featured dataframe "
   ]
  },
  {
   "cell_type": "code",
   "execution_count": 122,
   "metadata": {},
   "outputs": [],
   "source": [
    "lms = LMS(.000012)\n",
    "lms.train(X_train_rel, T_train_rel)\n",
    "y_lms_rel = lms.use(X_test_rel)"
   ]
  },
  {
   "cell_type": "code",
   "execution_count": 123,
   "metadata": {},
   "outputs": [
    {
     "data": {
      "text/plain": [
       "485.2406782778304"
      ]
     },
     "execution_count": 123,
     "metadata": {},
     "output_type": "execute_result"
    }
   ],
   "source": [
    "np.sqrt(np.mean((T_test_rel - y_lms_rel)**2))"
   ]
  },
  {
   "cell_type": "code",
   "execution_count": 124,
   "metadata": {},
   "outputs": [
    {
     "data": {
      "text/plain": [
       "[<matplotlib.lines.Line2D at 0x1c2d0a5f60>]"
      ]
     },
     "execution_count": 124,
     "metadata": {},
     "output_type": "execute_result"
    },
    {
     "data": {
      "image/png": "[encoded data removed]",
      "text/plain": [
       "<Figure size 432x288 with 1 Axes>"
      ]
     },
     "metadata": {
      "needs_background": "light"
     },
     "output_type": "display_data"
    }
   ],
   "source": [
    "plt.plot(y_lms_rel,'y')\n",
    "plt.plot(T_test_rel,'r')"
   ]
  },
  {
   "cell_type": "markdown",
   "metadata": {},
   "source": [
    "Above plot shows a graph of predicted output values(y_lms) against actual values(T_test).'Red' color graph shows depicts actual values, whereas, 'yellow' color shows predicted values accordingly. The graph displays the variation of predicted values to that of actual values, which gives a better-fitted prediction curve , also, the value difference between the two got more depressed compared to LS method. Also, we can see few extreme values which are outliers .Ultimately, its RMSE value is also lessened, which is 485.2406782778304. "
   ]
  },
  {
   "cell_type": "markdown",
   "metadata": {},
   "source": [
    "### Analysis with Least relevant Features i.e 'clarity','depth', 'table' (Keeping only least relevant features by removing most related and unrelated features )"
   ]
  },
  {
   "cell_type": "code",
   "execution_count": 125,
   "metadata": {},
   "outputs": [],
   "source": [
    "X_Dataframe_unrel = diamonds_data[['clarity','depth', 'table']]  # It's a Training dataframe, partitioned afterwards\n",
    "y_Dataframe_unrel = diamonds_data['price']  "
   ]
  },
  {
   "cell_type": "code",
   "execution_count": 126,
   "metadata": {},
   "outputs": [],
   "source": [
    "Xlst_unrel, Tlst_unrel = partition(pd.DataFrame(X_Dataframe_unrel), pd.DataFrame(y_Dataframe_unrel))"
   ]
  },
  {
   "cell_type": "code",
   "execution_count": 127,
   "metadata": {},
   "outputs": [],
   "source": [
    "X_train_unrel, X_test_unrel = [xx.values for xx in Xlst_unrel]\n",
    "T_train_unrel, T_test_unrel = [tt.values for tt in Tlst_unrel]"
   ]
  },
  {
   "cell_type": "markdown",
   "metadata": {},
   "source": [
    "#### LS method on least relevant featured dataframe "
   ]
  },
  {
   "cell_type": "code",
   "execution_count": 128,
   "metadata": {},
   "outputs": [],
   "source": [
    "ls = LinearRegress()\n",
    "ls.train(X_train_unrel, T_train_unrel)\n",
    "y_ls_unrel = ls.use(X_test_unrel)"
   ]
  },
  {
   "cell_type": "code",
   "execution_count": 129,
   "metadata": {},
   "outputs": [
    {
     "data": {
      "text/plain": [
       "3316.3407454270136"
      ]
     },
     "execution_count": 129,
     "metadata": {},
     "output_type": "execute_result"
    }
   ],
   "source": [
    "np.sqrt(np.mean((T_test_unrel - y_ls_unrel)**2))"
   ]
  },
  {
   "cell_type": "code",
   "execution_count": 130,
   "metadata": {},
   "outputs": [
    {
     "data": {
      "text/plain": [
       "[<matplotlib.lines.Line2D at 0x1c2d166898>]"
      ]
     },
     "execution_count": 130,
     "metadata": {},
     "output_type": "execute_result"
    },
    {
     "data": {
      "image/png": "[encoded data removed]",
      "text/plain": [
       "<Figure size 432x288 with 1 Axes>"
      ]
     },
     "metadata": {
      "needs_background": "light"
     },
     "output_type": "display_data"
    }
   ],
   "source": [
    "plt.plot(y_ls_unrel,'y')\n",
    "plt.plot(T_test_unrel,'r')"
   ]
  },
  {
   "cell_type": "markdown",
   "metadata": {},
   "source": [
    "Above plot shows a graph of predicted output values(y_ls) against actual values(T_test). 'Red' color graph shows depicts actual values, whereas, 'yellow' color shows predicted values accordingly. The graph displays the variation of predicted values to that of actual values, which gives the very distant(inaccurate) prediction curve, the value difference between two is extremely evident. Moreover, we calculated its RMSE value, which is 3316.34."
   ]
  },
  {
   "cell_type": "markdown",
   "metadata": {},
   "source": [
    "#### LMS method on least relevant featured dataframe "
   ]
  },
  {
   "cell_type": "code",
   "execution_count": 131,
   "metadata": {},
   "outputs": [],
   "source": [
    "lms = LMS(.000012)\n",
    "lms.train(X_train_unrel, T_train_unrel)\n",
    "y_lms_unrel = lms.use(X_test_unrel)"
   ]
  },
  {
   "cell_type": "code",
   "execution_count": 132,
   "metadata": {},
   "outputs": [
    {
     "data": {
      "text/plain": [
       "870.0036077033648"
      ]
     },
     "execution_count": 132,
     "metadata": {},
     "output_type": "execute_result"
    }
   ],
   "source": [
    "np.sqrt(np.mean((T_test_unrel - y_lms_unrel)**2))"
   ]
  },
  {
   "cell_type": "code",
   "execution_count": 133,
   "metadata": {},
   "outputs": [
    {
     "data": {
      "text/plain": [
       "[<matplotlib.lines.Line2D at 0x1c2da118d0>]"
      ]
     },
     "execution_count": 133,
     "metadata": {},
     "output_type": "execute_result"
    },
    {
     "data": {
      "image/png": "[encoded data removed]",
      "text/plain": [
       "<Figure size 432x288 with 1 Axes>"
      ]
     },
     "metadata": {
      "needs_background": "light"
     },
     "output_type": "display_data"
    }
   ],
   "source": [
    "plt.plot(y_lms_unrel,'y')\n",
    "plt.plot(T_test_unrel,'r')"
   ]
  },
  {
   "cell_type": "markdown",
   "metadata": {},
   "source": [
    "Above plot shows a graph of predicted output values(y_lms) against actual values(T_test).'Red' color graph shows depicts actual values, whereas, 'yellow' color shows predicted values accordingly. The graph displays the variation of predicted values to that of actual values, which gives the very distant(inaccurate) prediction curve(graph) , though, its RMSE value is lessened compared to LS, which is 870.0036077033648."
   ]
  },
  {
   "cell_type": "markdown",
   "metadata": {},
   "source": [
    "## produce residual plots and observe the patterns for the goodness of fit"
   ]
  },
  {
   "cell_type": "markdown",
   "metadata": {},
   "source": [
    "### Residual plot on most relevant feature dataframe"
   ]
  },
  {
   "cell_type": "code",
   "execution_count": 134,
   "metadata": {},
   "outputs": [
    {
     "data": {
      "image/png": "[encoded data removed]",
      "text/plain": [
       "<Figure size 432x288 with 2 Axes>"
      ]
     },
     "metadata": {
      "needs_background": "light"
     },
     "output_type": "display_data"
    },
    {
     "data": {
      "text/plain": [
       "<matplotlib.axes._subplots.AxesSubplot at 0x1c2d7977f0>"
      ]
     },
     "execution_count": 134,
     "metadata": {},
     "output_type": "execute_result"
    }
   ],
   "source": [
    "model = Ridge()\n",
    "visualizer = ResidualsPlot(model)\n",
    "\n",
    "visualizer.fit(X_train_rel, T_train_rel)  # Fit the training data to the visualizer\n",
    "visualizer.score(X_test_rel, T_test_rel)  # Evaluate the model on the test data\n",
    "visualizer.poof()"
   ]
  },
  {
   "cell_type": "markdown",
   "metadata": {},
   "source": [
    "### Residual plot on least relevant feature dataframe"
   ]
  },
  {
   "cell_type": "code",
   "execution_count": 136,
   "metadata": {},
   "outputs": [
    {
     "data": {
      "image/png": "[encoded data removed]",
      "text/plain": [
       "<Figure size 432x288 with 2 Axes>"
      ]
     },
     "metadata": {
      "needs_background": "light"
     },
     "output_type": "display_data"
    },
    {
     "data": {
      "text/plain": [
       "<matplotlib.axes._subplots.AxesSubplot at 0x1c2f263198>"
      ]
     },
     "execution_count": 136,
     "metadata": {},
     "output_type": "execute_result"
    }
   ],
   "source": [
    "model = Ridge()\n",
    "visualizer = ResidualsPlot(model)\n",
    "\n",
    "visualizer.fit(X_train_unrel, T_train_unrel)  # Fit the training data to the visualizer\n",
    "visualizer.score(X_test_unrel, T_test_unrel)  # Evaluate the model on the test data\n",
    "visualizer.poof()"
   ]
  },
  {
   "cell_type": "markdown",
   "metadata": {},
   "source": [
    "# Conclusion "
   ]
  },
  {
   "cell_type": "markdown",
   "metadata": {},
   "source": [
    "## Conclusion - Assignment 1"
   ]
  },
  {
   "cell_type": "markdown",
   "metadata": {},
   "source": [
    "In Conclusion, this assignment helped me understand two important linear regression methods in depth via making their actual implementation and visualizing end results\n",
    "\n",
    "This assignment implemented two regression methods LS (Least Squares) and LMS (Least Mean Squares) to obtain best fitting line on selected regression dataset. I understood that, before implementing these methods, it's essential to apply valuable techniques over input data such as encoding, feature extraction, normalization so that best suited and scaled data would be used in building regression model. While exploring different encoding techniques, I found labelEncoder technique as a best fit for this regression dataset.\n",
    "\n",
    "As far as both the algorithms are concerned, both of them revolve around error function, calculated by taking the Euclidean distance between predicted and actual value. Both algorithms calculate the best possible weights which when dot product with feature matrix gives us the predicted values, however, the approach that followed is different. Though LS method is most common method because of it's simplicity and effectiveness, it has few limitations in cases like long ranges, data with possibly poor extrapolation properties, and sensitivity to outliers and it becomes increasingly difficult to find a linear model that fits the data well as the range of the data increases. To overcome this problem, LMS method is preferred, where filter weights are optimized, by updating the filter weights in a manner to converge to the optimum filter weight. It's effectiveness is justified by our end results, where, predicted output is relatively closer to test output to that of LS method."
   ]
  },
  {
   "cell_type": "markdown",
   "metadata": {},
   "source": [
    "## Conclusion - Extra Credit"
   ]
  },
  {
   "cell_type": "markdown",
   "metadata": {},
   "source": [
    "As per analysis requirement, LS and LMS methods are performed on dataframes with most relevant data(discarding least relevant and less relevant/unrelevant features) features and with least relevant data(discarding most relevant and less relevant/unrelevant features),and calculated RMSE, visualized different plots including residual plots.\n",
    "\n",
    "In Conclusion, LMS method performed better compared to LS in both the dataframes irrespetive of their relevance, however, as expected, the dataframe with highly correlated featured performed way better than that of dataframe with least correlated features.\n",
    "\n",
    "RMSE calculated in both cases as below : \n",
    "\n",
    "1 : $\\textbf{Most releavant features dataframe}$ : \n",
    "    \n",
    "    LS RMSE : 823.8150290818036\n",
    "    LMS RMSE : 485.2406782778304 \n",
    "    \n",
    "2 : $\\textbf{Least releavant features dataframe}$ : \n",
    "    \n",
    "    LS RMSE : 3316.3407454270136\n",
    "    LMS RMSE :  870.0036077033648\n",
    "    \n",
    "Residual plots drawn justifies the above fact as well, that training the model(using either with LS or LMS) on the dataset with most relevant features, proves to be a better fit on linear data, on the contrary, dataset with least relevant features, proves to be a bad fit on linear data.\n",
    "\n",
    "Accracy calculated in both cases as below :\n",
    "\n",
    "1 : $\\textbf{Most releavant features dataframe}$ : $r^{2}$ = 0.837\n",
    "    \n",
    "2 : $\\textbf{Least releavant features dataframe}$ : $r^{2}$ = 0.021"
   ]
  },
  {
   "cell_type": "markdown",
   "metadata": {},
   "source": [
    "# References"
   ]
  },
  {
   "cell_type": "markdown",
   "metadata": {},
   "source": [
    "shivamagrawal, \"Analyze diamonds by their cut, color, clarity, price, and other attributes\" https://www.kaggle.com/shivam2503/diamonds#diamonds.csv\n",
    "\n",
    "Aurélien Géron, \"Hands on Machine learning with scikit learn and Tensorflow\", O'Reilly Media, 2017 https://icenamor.github.io/files/books/Hands-on-Machine-Learning-with-Scikit-2E.pdf\n",
    "\n",
    "Hunter, J. D. \"Matplotlib: A 2D graphics environment\",Computing In Science & Engineering, IEEE COMPUTER SOC, 9, 90-95 (2007), https://matplotlib.org/tutorials/introductory/sample_plots.html \n",
    "(https://matplotlib.org/tutorials/introductory/sample_plots.html)\n",
    "\n",
    "JYOTI DHIMAN1, SHADAB AHMAD2, KULDEEP GULIA3 \"Comparison between Adaptive filter Algorithms(LMS, NLMS and RLS)\" https://pdfs.semanticscholar.org/ae26/1153face27a228b0ff2697919a3311e3962d.pdf\n",
    "\n",
    "Travis E, Oliphant. A guide to NumPy, USA: Trelgol Publishing, (2006), http://www.numpy.org/ (http://www.numpy.org/)\n",
    "\n",
    "Statwing Documentation http://docs.statwing.com/interpreting-residual-plots-to-improve-your-regression/\n",
    "\n",
    "Latex Symbols https://artofproblemsolving.com/wiki/index.php/LaTeX:Symbols"
   ]
  }
 ],
 "metadata": {
  "kernelspec": {
   "display_name": "Python 3",
   "language": "python",
   "name": "python3"
  },
  "language_info": {
   "codemirror_mode": {
    "name": "ipython",
    "version": 3
   },
   "file_extension": ".py",
   "mimetype": "text/x-python",
   "name": "python",
   "nbconvert_exporter": "python",
   "pygments_lexer": "ipython3",
   "version": "3.7.3"
  }
 },
 "nbformat": 4,
 "nbformat_minor": 2
}
